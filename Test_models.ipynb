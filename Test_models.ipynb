{
  "cells": [
    {
      "cell_type": "markdown",
      "metadata": {
        "id": "mqDj-vqkHJ3I"
      },
      "source": [
        "# Instalaciones"
      ]
    },
    {
      "cell_type": "code",
      "execution_count": null,
      "metadata": {
        "colab": {
          "base_uri": "https://localhost:8080/"
        },
        "id": "8gQh1JY2Hqlw",
        "outputId": "e9de7300-f7ce-40b6-99a8-e681af3bf1cd"
      },
      "outputs": [
        {
          "output_type": "stream",
          "name": "stdout",
          "text": [
            "Looking in indexes: https://pypi.org/simple, https://us-python.pkg.dev/colab-wheels/public/simple/\n",
            "Collecting pydicom\n",
            "  Downloading pydicom-2.3.0-py3-none-any.whl (2.0 MB)\n",
            "\u001b[K     |████████████████████████████████| 2.0 MB 8.6 MB/s \n",
            "\u001b[?25hInstalling collected packages: pydicom\n",
            "Successfully installed pydicom-2.3.0\n",
            "Looking in indexes: https://pypi.org/simple, https://us-python.pkg.dev/colab-wheels/public/simple/\n",
            "Collecting SimpleITK\n",
            "  Downloading SimpleITK-2.1.1.2-cp37-cp37m-manylinux_2_12_x86_64.manylinux2010_x86_64.whl (48.4 MB)\n",
            "\u001b[K     |████████████████████████████████| 48.4 MB 17 kB/s \n",
            "\u001b[?25hInstalling collected packages: SimpleITK\n",
            "Successfully installed SimpleITK-2.1.1.2\n"
          ]
        }
      ],
      "source": [
        "!pip install pydicom\n",
        "!pip install SimpleITK"
      ]
    },
    {
      "cell_type": "markdown",
      "metadata": {
        "id": "NH7p6F1dHJ0_"
      },
      "source": [
        "# Librerías"
      ]
    },
    {
      "cell_type": "code",
      "execution_count": null,
      "metadata": {
        "id": "Zs3MIiS_Hq74"
      },
      "outputs": [],
      "source": [
        "#otros\n",
        "import os\n",
        "import re\n",
        "import cv2\n",
        "import shutil\n",
        "import pickle\n",
        "from glob import glob\n",
        "from PIL import Image\n",
        "\n",
        "#basicos\n",
        "import numpy as np\n",
        "import pandas as pd\n",
        "\n",
        "#visualización\n",
        "import seaborn as sns\n",
        "import matplotlib.pyplot as plt\n",
        "from matplotlib.ticker import MaxNLocator\n",
        "%matplotlib inline\n",
        "\n",
        "#red nuronal \n",
        "import tensorflow as tf\n",
        "from keras import optimizers\n",
        "import sklearn.metrics as metrics\n",
        "from keras.regularizers import l2\n",
        "from keras.models import Sequential\n",
        "from keras.optimizer_v2.adam import Adam\n",
        "from keras.callbacks import ModelCheckpoint\n",
        "from keras.utils.vis_utils import model_to_dot\n",
        "from keras.optimizer_v2.rmsprop import RMSprop\n",
        "from keras.optimizer_experimental.sgd import SGD\n",
        "from keras.metrics import categorical_accuracy\n",
        "from sklearn.linear_model import LogisticRegression\n",
        "from sklearn.model_selection import train_test_split\n",
        "from keras.models import Sequential, load_model, Model\n",
        "from sklearn.metrics import ConfusionMatrixDisplay\n",
        "from keras_preprocessing.image.dataframe_iterator import DataFrameIterator\n",
        "from sklearn.metrics import classification_report, confusion_matrix, roc_curve, auc\n",
        "from keras.preprocessing.image import ImageDataGenerator, load_img, img_to_array\n",
        "from keras.layers import Conv2D,Conv3D,Lambda, BatchNormalization,MaxPooling2D,MaxPooling3D, Flatten,Input\n",
        "from keras.layers import Dense, Dropout, GlobalAveragePooling2D,InputLayer,LeakyReLU,Concatenate\n",
        "#dicom\n",
        "import pydicom as dicom\n",
        "\n",
        "#mhd\n",
        "import SimpleITK as sitk\n"
      ]
    },
    {
      "cell_type": "code",
      "execution_count": null,
      "metadata": {
        "id": "GsHb9e2J0t7K"
      },
      "outputs": [],
      "source": [
        "#otros\n",
        "import os\n",
        "import re\n",
        "import cv2\n",
        "import shutil\n",
        "import pickle\n",
        "from glob import glob\n",
        "\n",
        "\n",
        "#basicos\n",
        "import numpy as np\n",
        "import pandas as pd\n",
        "\n",
        "#visualización\n",
        "import seaborn as sns\n",
        "import matplotlib.pyplot as plt\n",
        "from matplotlib.ticker import MaxNLocator\n",
        "%matplotlib inline\n",
        "\n",
        "#red nuronal \n",
        "import tensorflow as tf\n",
        "from keras import optimizers\n",
        "from keras.regularizers import l2\n",
        "from keras.models import Sequential\n",
        "from keras.optimizer_v2.adam import Adam\n",
        "from keras.callbacks import ModelCheckpoint\n",
        "from keras.utils.vis_utils import model_to_dot\n",
        "from keras.optimizer_v2.rmsprop import RMSprop\n",
        "from keras.optimizer_experimental.sgd import SGD\n",
        "from keras.metrics import categorical_accuracy\n",
        "from sklearn.linear_model import LogisticRegression\n",
        "from sklearn.model_selection import train_test_split\n",
        "from keras.models import Sequential, load_model, Model\n",
        "from keras_preprocessing.image.dataframe_iterator import DataFrameIterator\n",
        "from keras_preprocessing.image.directory_iterator import DirectoryIterator\n",
        "from keras.preprocessing.image import ImageDataGenerator, load_img, img_to_array\n",
        "from keras.layers import Conv2D,Conv3D,Lambda, BatchNormalization,MaxPooling2D,MaxPooling3D, Flatten,Input\n",
        "from keras.layers import Dense, Dropout, GlobalAveragePooling2D,InputLayer,LeakyReLU,Concatenate\n",
        "\n"
      ]
    },
    {
      "cell_type": "markdown",
      "metadata": {
        "id": "GENl161DwAU2"
      },
      "source": [
        "# Funciones auxiliares"
      ]
    },
    {
      "cell_type": "code",
      "execution_count": null,
      "metadata": {
        "id": "9tbDU-07Zb5c"
      },
      "outputs": [],
      "source": [
        "class DicomDataGen(tf.keras.utils.Sequence):\n",
        "    \n",
        "    def __init__(self, df, X_col, y_col,\n",
        "                 batch_size,\n",
        "                 input_size=(224, 224, 19),\n",
        "                 shuffle=True,\n",
        "                 image_data_generator=None):\n",
        "        \n",
        "        self.df = df.copy()\n",
        "        self.X_col = X_col\n",
        "        self.y_col = y_col\n",
        "        self.batch_size = batch_size\n",
        "        self.input_size = input_size\n",
        "        self.shuffle = shuffle\n",
        "        self.image_data_generator=image_data_generator\n",
        "\n",
        "        self.n = len(self.df)\n",
        "        self.n_name = df[y_col['name']].nunique()\n",
        "    \n",
        "    def on_epoch_end(self):\n",
        "        if self.shuffle:\n",
        "            self.df = self.df.sample(frac=1).reset_index(drop=True)\n",
        "    \n",
        "    def __get_input(self, dcm_path, target_size):\n",
        "    \n",
        "        dicoms=[]\n",
        "        cont=0\n",
        "        files_patients=sorted(glob(dcm_path+'/*'))\n",
        "        dicoms=np.zeros((len(files_patients),)+target_size)\n",
        "        for file_dcm in files_patients:\n",
        "          image_array = dicom.dcmread(file_dcm).pixel_array\n",
        "          image_array = cv2.resize(image_array, target_size[0:2], interpolation=cv2.INTER_NEAREST)  \n",
        "          dicoms[cont]=image_array/255. \n",
        "          cont+=1\n",
        "        dicoms=np.array(dicoms,dtype='f')\n",
        "        # dicoms=dicoms.reshape((dicoms.shape[1], dicoms.shape[2],dicoms.shape[0]))\n",
        "        return dicoms\n",
        "\n",
        "    def __get_output(self, label, num_classes):\n",
        "        return np.array(label,dtype='f')\n",
        "    \n",
        "    def __get_data(self, batches):\n",
        "        # Generates data containing batch_size samples\n",
        "\n",
        "        path_batch = batches[self.X_col['path']]\n",
        "              \n",
        "        name_batch = batches[self.y_col['name']]\n",
        "\n",
        "        X_batch = np.expand_dims(np.asarray([self.__get_input(x, self.input_size) for x in path_batch]), 1)\n",
        "\n",
        "        y0_batch = np.asarray([self.__get_output(y, self.n_name) for y in name_batch])\n",
        "\n",
        "        if self.image_data_generator is not None:\n",
        "          for i, (x, y1) in enumerate(zip(X_batch, y0_batch)):\n",
        "              transform_params = self.image_data_generator.get_random_transform((1,)+self.input_size)\n",
        "              for k,j in enumerate(x[0]):\n",
        "                X_batch[i][0][k] = self.image_data_generator.apply_transform(np.expand_dims(j,axis=-1), transform_params)[:,:,0]/255\n",
        "\n",
        "        return X_batch, y0_batch\n",
        "    \n",
        "    def __getitem__(self, index):\n",
        "        \n",
        "        batches = self.df[index * self.batch_size:(index + 1) * self.batch_size]\n",
        "        X, y = self.__get_data(batches)        \n",
        "        return X, y\n",
        "    \n",
        "    def __len__(self):\n",
        "        return self.n // self.batch_size"
      ]
    },
    {
      "cell_type": "code",
      "execution_count": null,
      "metadata": {
        "id": "SCEvfoeK-rk1"
      },
      "outputs": [],
      "source": [
        "class MHDDataGen(tf.keras.utils.Sequence):\n",
        "    \n",
        "    def __init__(self, df, X_col, y_col,\n",
        "                 batch_size,\n",
        "                 input_size=(224, 224, 19),\n",
        "                 shuffle=True,\n",
        "                 image_data_generator=None):\n",
        "        \n",
        "        self.df = df.copy()\n",
        "        self.X_col = X_col\n",
        "        self.y_col = y_col\n",
        "        self.batch_size = batch_size\n",
        "        self.input_size = input_size\n",
        "        self.shuffle = shuffle\n",
        "        self.image_data_generator=image_data_generator\n",
        "        \n",
        "        self.n = len(self.df)\n",
        "        self.n_name = df[y_col['name']].nunique()\n",
        "    \n",
        "    def on_epoch_end(self):\n",
        "        if self.shuffle:\n",
        "            self.df = self.df.sample(frac=1).reset_index(drop=True)\n",
        "    \n",
        "    def __get_input(self, mhd_path, target_size):\n",
        "    \n",
        "        dicoms=[]\n",
        "        cont=0\n",
        "        itkimage = sitk.ReadImage(mhd_path)\n",
        "        ct_scan = sitk.GetArrayFromImage(itkimage)\n",
        "        dicoms=np.zeros((ct_scan.shape[0],)+target_size)\n",
        "        for mhd_image in ct_scan:\n",
        "          image_array = cv2.resize(mhd_image, target_size[0:2], interpolation=cv2.INTER_NEAREST)  \n",
        "          dicoms[cont,:,:]=image_array/255. \n",
        "          cont+=1\n",
        "        dicoms=np.array(dicoms,dtype='f')\n",
        "        # dicoms=dicoms.reshape((dicoms.shape[1], dicoms.shape[2],dicoms.shape[0]))\n",
        "        return dicoms\n",
        "\n",
        "    def __get_output(self, label, num_classes):\n",
        "        return np.array(label,dtype='f')\n",
        "    \n",
        "    def __get_data(self, batches):\n",
        "        # Generates data containing batch_size samples\n",
        "\n",
        "        path_batch = batches[self.X_col['path']]\n",
        "              \n",
        "        name_batch = batches[self.y_col['name']]\n",
        "\n",
        "        X_batch = np.expand_dims(np.asarray([self.__get_input(x, self.input_size) for x in path_batch]), 1)\n",
        "\n",
        "        y0_batch = np.asarray([self.__get_output(y, self.n_name) for y in name_batch])\n",
        "\n",
        "        if self.image_data_generator is not None:\n",
        "          for i, (x, y1) in enumerate(zip(X_batch, y0_batch)):\n",
        "              transform_params = self.image_data_generator.get_random_transform((1,)+self.input_size)\n",
        "              for k,j in enumerate(x[0]):\n",
        "                X_batch[i][0][k] = self.image_data_generator.apply_transform(np.expand_dims(j,axis=-1), transform_params)[:,:,0]/255\n",
        "\n",
        "        return X_batch, y0_batch\n",
        "    \n",
        "    def __getitem__(self, index):\n",
        "        \n",
        "        batches = self.df[index * self.batch_size:(index + 1) * self.batch_size]\n",
        "        X, y = self.__get_data(batches)        \n",
        "        return X, y\n",
        "    \n",
        "    def __len__(self):\n",
        "        return self.n // self.batch_size"
      ]
    },
    {
      "cell_type": "code",
      "execution_count": null,
      "metadata": {
        "id": "uA8DP8XjMCOX"
      },
      "outputs": [],
      "source": [
        "from IPython.display import SVG\n",
        "from IPython.display import clear_output\n",
        "\n",
        "def display_model(model):\n",
        "    if COLAB:\n",
        "        display(SVG(model_to_dot(model, show_shapes=True,dpi=72).create(prog='dot', format='svg')))\n",
        "    else:\n",
        "        display(SVG(model_to_dot(model, show_shapes=True).create(prog='dot', format='svg')))"
      ]
    },
    {
      "cell_type": "code",
      "execution_count": null,
      "metadata": {
        "id": "ELQtljphUodq"
      },
      "outputs": [],
      "source": [
        "def grafica_entrenamiento(tr_acc, val_acc, tr_loss, val_loss, best_i,\n",
        "                          figsize=(10,4)):\n",
        "    plt.figure(figsize=figsize)\n",
        "    ax = plt.subplot(1,2,1)\n",
        "    plt.plot(1+np.arange(len(tr_acc)),  100*np.array(tr_acc))\n",
        "    plt.plot(1+np.arange(len(val_acc)), 100*np.array(val_acc))\n",
        "    plt.plot(1+best_i, 100*val_acc[best_i], 'or')\n",
        "    plt.title('tasa de acierto del modelo (%)', fontsize=18)\n",
        "    plt.ylabel('tasa de acierto (%)', fontsize=18)\n",
        "    plt.xlabel('época', fontsize=18)\n",
        "    plt.legend(['entrenamiento', 'validación'], loc='upper left')\n",
        "    ax.xaxis.set_major_locator(MaxNLocator(integer=True))\n",
        "\n",
        "    plt.subplot(1,2,2)\n",
        "    plt.plot(1+np.arange(len(tr_acc)), np.array(tr_loss))\n",
        "    plt.plot(1+np.arange(len(val_acc)), np.array(val_loss))\n",
        "    plt.plot(1+best_i, val_loss[best_i], 'or')\n",
        "    plt.title('loss del modelo', fontsize=18)\n",
        "    plt.ylabel('loss', fontsize=18)\n",
        "    plt.xlabel('época', fontsize=18)\n",
        "    plt.legend(['entrenamiento', 'validación'], loc='upper left')\n",
        "    ax.xaxis.set_major_locator(MaxNLocator(integer=True))\n",
        "    plt.show()"
      ]
    },
    {
      "cell_type": "code",
      "execution_count": null,
      "metadata": {
        "id": "6DjQGP6L8tKq"
      },
      "outputs": [],
      "source": []
    },
    {
      "cell_type": "code",
      "execution_count": null,
      "metadata": {
        "id": "Jr1yYMcON12R"
      },
      "outputs": [],
      "source": [
        "def compute_metrics(model, testgen_model, y_test, y_pred,factor):\n",
        "  y_pred_proba = model.predict(testgen_model)\n",
        "  [fpr, tpr, thr] = metrics.roc_curve(y_test, 10*y_pred_proba)\n",
        "\n",
        "  y_pred=[True if pred[0]>factor else False for pred in y_pred]\n",
        "  mcm = metrics.confusion_matrix(y_test, y_pred)\n",
        "  tn = mcm[0, 0]\n",
        "  tp = mcm[1, 1]\n",
        "  fn = mcm[1, 0]\n",
        "  fp = mcm[0, 1]\n",
        "\n",
        "  Specificity = tn / (tn + fp)\n",
        "\n",
        "  print('Train/Test split results:')\n",
        "  print('CNN'+\" accuracy is %2.3f\" % metrics.accuracy_score(y_test, y_pred))\n",
        "  print('CNN'+\" auc is %2.3f\" % metrics.auc(fpr, tpr))\n",
        "  print('CNN'+\" Sensitivity is %2.3f\" % metrics.recall_score(y_test, y_pred))\n",
        "  print('CNN'+\" Specificity is %2.3f\" % Specificity) \n",
        "  # print('CNN'+\" F1 is %2.3f\" % metrics.f1_score(y_test, y_pred))"
      ]
    },
    {
      "cell_type": "markdown",
      "metadata": {
        "id": "tH5T6ZW48gaz"
      },
      "source": [
        "# Importar dataset"
      ]
    },
    {
      "cell_type": "code",
      "execution_count": null,
      "metadata": {
        "id": "PvEukVKXNtjD"
      },
      "outputs": [],
      "source": [
        "COLAB = True"
      ]
    },
    {
      "cell_type": "code",
      "execution_count": null,
      "metadata": {
        "id": "drTTuPQPNthF",
        "colab": {
          "base_uri": "https://localhost:8080/"
        },
        "outputId": "7b9c4d8a-2500-438e-a2b5-b3f284a08174"
      },
      "outputs": [
        {
          "output_type": "stream",
          "name": "stdout",
          "text": [
            "Mounted at /content/drive\n"
          ]
        }
      ],
      "source": [
        "if COLAB:\n",
        "    from google.colab import drive\n",
        "    drive.mount('/content/drive')"
      ]
    },
    {
      "cell_type": "code",
      "execution_count": null,
      "metadata": {
        "id": "NlyGChzv1A11"
      },
      "outputs": [],
      "source": [
        "models_paths=sorted(glob('/content/drive/MyDrive/Capstone/Modelos'+'/*.h5'))"
      ]
    },
    {
      "cell_type": "code",
      "execution_count": null,
      "metadata": {
        "id": "ioHvSCqC1Aa9",
        "colab": {
          "base_uri": "https://localhost:8080/"
        },
        "outputId": "636c14d8-c954-4081-df6d-0a756f29b51c"
      },
      "outputs": [
        {
          "output_type": "execute_result",
          "data": {
            "text/plain": [
              "['/content/drive/MyDrive/Capstone/Modelos/model_current_best_DYNDIST0.h5',\n",
              " '/content/drive/MyDrive/Capstone/Modelos/model_current_best_DYNDIST1.h5',\n",
              " '/content/drive/MyDrive/Capstone/Modelos/model_current_best_DYNDIST2.h5',\n",
              " '/content/drive/MyDrive/Capstone/Modelos/model_current_best_DYNDISTCALC_BVAL0.h5',\n",
              " '/content/drive/MyDrive/Capstone/Modelos/model_current_best_adc.h5',\n",
              " '/content/drive/MyDrive/Capstone/Modelos/model_current_best_ktrans.h5',\n",
              " '/content/drive/MyDrive/Capstone/Modelos/model_current_best_t2_tse_cor0.h5',\n",
              " '/content/drive/MyDrive/Capstone/Modelos/model_current_best_t2_tse_sag0.h5',\n",
              " '/content/drive/MyDrive/Capstone/Modelos/model_current_best_t2_tse_tra0.h5',\n",
              " '/content/drive/MyDrive/Capstone/Modelos/model_current_best_tfl0_tra.h5',\n",
              " '/content/drive/MyDrive/Capstone/Modelos/model_current_best_tfl_fast0.h5',\n",
              " '/content/drive/MyDrive/Capstone/Modelos/model_current_best_tfl_tra.h5']"
            ]
          },
          "metadata": {},
          "execution_count": 13
        }
      ],
      "source": [
        "models_paths"
      ]
    },
    {
      "cell_type": "code",
      "execution_count": null,
      "metadata": {
        "id": "5S7cub-5EesJ",
        "colab": {
          "base_uri": "https://localhost:8080/"
        },
        "outputId": "71ae2817-f40a-4979-b453-ed84c6c9affb"
      },
      "outputs": [
        {
          "output_type": "execute_result",
          "data": {
            "text/plain": [
              "['/content/drive/MyDrive/Capstone/Modelos/model_current_best_adc.h5',\n",
              " '/content/drive/MyDrive/Capstone/Modelos/model_current_best_ktrans.h5',\n",
              " '/content/drive/MyDrive/Capstone/Modelos/model_current_best_t2_tse_cor0.h5',\n",
              " '/content/drive/MyDrive/Capstone/Modelos/model_current_best_t2_tse_sag0.h5',\n",
              " '/content/drive/MyDrive/Capstone/Modelos/model_current_best_tfl_tra.h5']"
            ]
          },
          "metadata": {},
          "execution_count": 14
        }
      ],
      "source": [
        "models_paths_f=models_paths[4:8]\n",
        "models_paths_f.append(models_paths[-1])\n",
        "models_paths_f"
      ]
    },
    {
      "cell_type": "code",
      "execution_count": null,
      "metadata": {
        "id": "yLhrNdsx2OV4"
      },
      "outputs": [],
      "source": [
        "models=[]\n",
        "for model in models_paths_f:\n",
        "  models.append(load_model(model,compile=False))"
      ]
    },
    {
      "cell_type": "code",
      "execution_count": null,
      "metadata": {
        "id": "z4Gva6Mx3CpJ"
      },
      "outputs": [],
      "source": [
        "tr_df_all_mhd=pickle.load(open(\"/content/drive/MyDrive/Capstone/PROSTATEX_dataset/pickles/tr_df_all_mhd.pickle\",\"rb\"))\n",
        "val_df_all_mhd=pickle.load(open(\"/content/drive/MyDrive/Capstone/PROSTATEX_dataset/pickles/val_df_all_mhd.pickle\",\"rb\"))\n",
        "test_df_all_mhd=pickle.load(open(\"/content/drive/MyDrive/Capstone/PROSTATEX_dataset/pickles/test_df_all_mhd.pickle\",\"rb\"))\n",
        "tr_df_all_dcm=pickle.load(open(\"/content/drive/MyDrive/Capstone/PROSTATEX_dataset/pickles/tr_df_all_dcm.pickle\",\"rb\"))\n",
        "val_df_all_dcm=pickle.load(open(\"/content/drive/MyDrive/Capstone/PROSTATEX_dataset/pickles/val_df_all_dcm.pickle\",\"rb\"))\n",
        "test_df_all_dcm=pickle.load(open(\"/content/drive/MyDrive/Capstone/PROSTATEX_dataset/pickles/test_df_all_dcm.pickle\",\"rb\"))"
      ]
    },
    {
      "cell_type": "code",
      "execution_count": null,
      "metadata": {
        "id": "638lFe6ovfLH"
      },
      "outputs": [],
      "source": []
    },
    {
      "cell_type": "code",
      "execution_count": null,
      "metadata": {
        "id": "mxiVFsq6vfHC"
      },
      "outputs": [],
      "source": []
    },
    {
      "cell_type": "code",
      "execution_count": null,
      "metadata": {
        "id": "fnmvezG1ve1c"
      },
      "outputs": [],
      "source": []
    },
    {
      "cell_type": "markdown",
      "metadata": {
        "id": "_GZuf-7BN7sr"
      },
      "source": [
        "# Cálculo de métricas\n"
      ]
    },
    {
      "cell_type": "markdown",
      "metadata": {
        "id": "UDnO039MwMwy"
      },
      "source": [
        "## Ktrans"
      ]
    },
    {
      "cell_type": "code",
      "execution_count": null,
      "metadata": {
        "id": "t3H10sqvoylP"
      },
      "outputs": [],
      "source": [
        "\n",
        "test_augmentation_parameters = dict(\n",
        "    # rescale=1.0/255.0\n",
        ")\n",
        "\n",
        "# training parameters\n",
        "BATCH_SIZE = 1\n",
        "CLASS_MODE = 'binary'\n",
        "COLOR_MODE = 'grayscale'\n",
        "TARGET_SIZE = (300, 300)\n",
        "EPOCHS = 50\n",
        "SEED = 1337\n",
        "\n",
        "\n",
        "test_consts = {\n",
        "    'batch_size': 1,  # should be 1 in testing\n",
        "    'class_mode': CLASS_MODE,\n",
        "    'color_mode': COLOR_MODE,\n",
        "    'target_size': TARGET_SIZE,  # resize input images\n",
        "    'shuffle': False\n",
        "}"
      ]
    },
    {
      "cell_type": "code",
      "execution_count": null,
      "metadata": {
        "id": "C1-C5TemN1z9"
      },
      "outputs": [],
      "source": [
        "testgen=MHDDataGen(test_df_all_mhd,\n",
        "                   X_col={'path':'path_dcm'},\n",
        "                   y_col={'name': 'clinSig'},\n",
        "                   shuffle=False,\n",
        "                   batch_size=1, input_size=TARGET_SIZE)"
      ]
    },
    {
      "cell_type": "code",
      "execution_count": null,
      "metadata": {
        "id": "nlHcOFXYRNmi"
      },
      "outputs": [],
      "source": [
        "y_pred_ktrans=models[1].predict(testgen)"
      ]
    },
    {
      "cell_type": "code",
      "execution_count": null,
      "metadata": {
        "id": "3Tl96nooRoo0"
      },
      "outputs": [],
      "source": [
        "y_test=np.array([list(y)[0] for X,y in testgen])"
      ]
    },
    {
      "cell_type": "code",
      "execution_count": null,
      "metadata": {
        "colab": {
          "base_uri": "https://localhost:8080/"
        },
        "id": "9XPO6rtDte7b",
        "outputId": "c96eb229-fedf-4de8-f109-5ce8572dd190"
      },
      "outputs": [
        {
          "data": {
            "text/plain": [
              "(array([0.49312195], dtype=float32), array([0.4921924], dtype=float32))"
            ]
          },
          "execution_count": 21,
          "metadata": {},
          "output_type": "execute_result"
        }
      ],
      "source": [
        "max(y_pred_ktrans),min(y_pred_ktrans)"
      ]
    },
    {
      "cell_type": "code",
      "execution_count": null,
      "metadata": {
        "colab": {
          "base_uri": "https://localhost:8080/"
        },
        "id": "Ps6zz9f3SRxU",
        "outputId": "ce3a4c44-a4fb-4bcc-e286-e1fd7510f52a"
      },
      "outputs": [
        {
          "data": {
            "text/plain": [
              "(95, 25.0)"
            ]
          },
          "execution_count": 22,
          "metadata": {},
          "output_type": "execute_result"
        }
      ],
      "source": [
        "len(y_test),sum(y_test)"
      ]
    },
    {
      "cell_type": "code",
      "execution_count": null,
      "metadata": {
        "colab": {
          "base_uri": "https://localhost:8080/"
        },
        "id": "jZVKsFkOW2fL",
        "outputId": "a99ed9c0-d096-44db-bf1a-3f4c29d875dd"
      },
      "outputs": [
        {
          "data": {
            "text/plain": [
              "95"
            ]
          },
          "execution_count": 23,
          "metadata": {},
          "output_type": "execute_result"
        }
      ],
      "source": [
        "sum(True if pred[0]>0.27 else False for pred in y_pred_ktrans)"
      ]
    },
    {
      "cell_type": "code",
      "execution_count": null,
      "metadata": {
        "colab": {
          "base_uri": "https://localhost:8080/"
        },
        "id": "TlyWEbDyN1fz",
        "outputId": "da79effb-d8b2-4c40-c476-e8523602b857"
      },
      "outputs": [
        {
          "name": "stdout",
          "output_type": "stream",
          "text": [
            "Train/Test split results:\n",
            "CNN accuracy is 0.263\n",
            "CNN auc is 0.450\n",
            "CNN Sensitivity is 1.000\n",
            "CNN Specificity is 0.000\n",
            "CNN F1 is 0.417\n"
          ]
        }
      ],
      "source": [
        "compute_metrics(models[1],testgen,y_test,y_pred_ktrans,0.26)"
      ]
    },
    {
      "cell_type": "code",
      "execution_count": null,
      "metadata": {
        "colab": {
          "base_uri": "https://localhost:8080/",
          "height": 501
        },
        "id": "2KUnKk3Gsigo",
        "outputId": "c7561940-4098-4d5e-a0bf-b0ff4a14eb05"
      },
      "outputs": [
        {
          "data": {
            "image/png": "[encoded data removed]",
            "text/plain": [
              "<Figure size 864x576 with 2 Axes>"
            ]
          },
          "metadata": {},
          "output_type": "display_data"
        }
      ],
      "source": [
        "fig, ax = plt.subplots(figsize=(12, 8))\n",
        "ConfusionMatrixDisplay.from_predictions(y_test, [True if pred[0]>0.26 else False for pred in y_pred_ktrans],ax=ax);"
      ]
    },
    {
      "cell_type": "code",
      "execution_count": null,
      "metadata": {
        "colab": {
          "base_uri": "https://localhost:8080/",
          "height": 279
        },
        "id": "jZOf6rgTcMxi",
        "outputId": "baf483fe-766d-4a32-a56f-24e67ada2a12"
      },
      "outputs": [
        {
          "data": {
            "image/png": "[encoded data removed]",
            "text/plain": [
              "<Figure size 432x288 with 1 Axes>"
            ]
          },
          "metadata": {},
          "output_type": "display_data"
        }
      ],
      "source": [
        "clase_positiva = 1\n",
        "fpr, tpr, thresholds = roc_curve(y_test==clase_positiva, y_pred_ktrans)\n",
        "fig, ax1 = plt.subplots(1,1)\n",
        "ax1.plot(fpr, tpr, 'r-.', label = 'CNN (%2.2f)' % auc(fpr, tpr))\n",
        "ax1.set_xlabel('False Positive Rate')\n",
        "ax1.set_ylabel('True Positive Rate')\n",
        "ax1.plot(fpr, fpr, 'b-', label = 'Random Guess')\n",
        "ax1.legend();"
      ]
    },
    {
      "cell_type": "markdown",
      "metadata": {
        "id": "WC2h2YnIwQRJ"
      },
      "source": [
        "## tfl_tra"
      ]
    },
    {
      "cell_type": "code",
      "execution_count": null,
      "metadata": {
        "id": "oQsgSwpMXM2Z",
        "colab": {
          "base_uri": "https://localhost:8080/"
        },
        "outputId": "8bed3878-b05d-4ec8-ff7d-669b2ee4fecb"
      },
      "outputs": [
        {
          "output_type": "execute_result",
          "data": {
            "text/plain": [
              "['ep2d_diff_tra_DYNDIST0',\n",
              " 'ep2d_diff_tra_DYNDIST1',\n",
              " 'ep2d_diff_tra_DYNDIST2',\n",
              " 'ep2d_diff_tra_DYNDISTCALC_BVAL0',\n",
              " 'ep2d_diff_tra_DYNDIST_ADC0',\n",
              " 't2_tse_cor0',\n",
              " 't2_tse_sag0',\n",
              " 't2_tse_tra0',\n",
              " 'tfl_3d_PD_ref_tra_1_5x1_5_t30',\n",
              " 'tfl_3d_dynamisch_fast0']"
            ]
          },
          "metadata": {},
          "execution_count": 17
        }
      ],
      "source": [
        "mri_types=sorted(list(tr_df_all_dcm['name'].value_counts().index))\n",
        "mri_types"
      ]
    },
    {
      "cell_type": "code",
      "execution_count": null,
      "metadata": {
        "id": "iCTH1nEnXq_8",
        "colab": {
          "base_uri": "https://localhost:8080/"
        },
        "outputId": "0d095245-6d0a-4779-e82d-c30f32b9b969"
      },
      "outputs": [
        {
          "output_type": "execute_result",
          "data": {
            "text/plain": [
              "['ep2d_diff_tra_DYNDIST_ADC0',\n",
              " 't2_tse_cor0',\n",
              " 't2_tse_sag0',\n",
              " 'tfl_3d_PD_ref_tra_1_5x1_5_t30']"
            ]
          },
          "metadata": {},
          "execution_count": 18
        }
      ],
      "source": [
        "mri_types_f=[mri_types[4],mri_types[5],mri_types[6],mri_types[-2]]\n",
        "mri_types_f"
      ]
    },
    {
      "cell_type": "code",
      "execution_count": null,
      "metadata": {
        "colab": {
          "base_uri": "https://localhost:8080/",
          "height": 36
        },
        "id": "3PBKjXOdaAnH",
        "outputId": "43e481ed-9453-4b47-9874-73422485fbdd"
      },
      "outputs": [
        {
          "data": {
            "application/vnd.google.colaboratory.intrinsic+json": {
              "type": "string"
            },
            "text/plain": [
              "'tfl_3d_PD_ref_tra_1_5x1_5_t30'"
            ]
          },
          "execution_count": 33,
          "metadata": {},
          "output_type": "execute_result"
        }
      ],
      "source": [
        "mri_types_f[-1]"
      ]
    },
    {
      "cell_type": "code",
      "execution_count": null,
      "metadata": {
        "id": "w3ypYXl_WNNL"
      },
      "outputs": [],
      "source": [
        "mri=mri_types_f[-1]\n",
        "\n",
        "tr_df_all_adc=tr_df_all_dcm[tr_df_all_dcm['name']==mri]\n",
        "val_df_all_adc=val_df_all_dcm[val_df_all_dcm['name']==mri]\n",
        "test_df_all_adc=test_df_all_dcm[test_df_all_dcm['name']==mri]\n",
        "\n",
        "testgen=DicomDataGen(test_df_all_adc,\n",
        "                   X_col={'path':'path_dcm'},\n",
        "                   y_col={'name': 'clinSig'},\n",
        "                   shuffle=False,\n",
        "                   batch_size=1, input_size=TARGET_SIZE)"
      ]
    },
    {
      "cell_type": "code",
      "execution_count": null,
      "metadata": {
        "colab": {
          "background_save": true
        },
        "id": "mewTnWEoWNKB"
      },
      "outputs": [],
      "source": [
        "y_pred_tfl_tra=models[-1].predict(testgen)"
      ]
    },
    {
      "cell_type": "code",
      "execution_count": null,
      "metadata": {
        "colab": {
          "background_save": true
        },
        "id": "_HbreYVNGkHp",
        "outputId": "093ccb6b-7c8d-497d-84f4-5207d7e99831"
      },
      "outputs": [
        {
          "data": {
            "text/plain": [
              "array([[0.06078631],\n",
              "       [0.05665942],\n",
              "       [0.05665942],\n",
              "       [0.00633992],\n",
              "       [0.06078631],\n",
              "       [0.00956183],\n",
              "       [0.00956183],\n",
              "       [0.01771547],\n",
              "       [0.01771547],\n",
              "       [0.00815345],\n",
              "       [0.00633992],\n",
              "       [0.0222024 ],\n",
              "       [0.03634204],\n",
              "       [0.02062675],\n",
              "       [0.02062675],\n",
              "       [0.0074847 ],\n",
              "       [0.0222024 ],\n",
              "       [0.01529639],\n",
              "       [0.09546515],\n",
              "       [0.03178632],\n",
              "       [0.0197823 ],\n",
              "       [0.0197823 ],\n",
              "       [0.19805509],\n",
              "       [0.00520344],\n",
              "       [0.01114722],\n",
              "       [0.10743678],\n",
              "       [0.22765005],\n",
              "       [0.00537244],\n",
              "       [0.10743678],\n",
              "       [0.01114722],\n",
              "       [0.01114722],\n",
              "       [0.01124442],\n",
              "       [0.10743678],\n",
              "       [0.00537244],\n",
              "       [0.05665942],\n",
              "       [0.0259188 ],\n",
              "       [0.02703771],\n",
              "       [0.07802817],\n",
              "       [0.03071305],\n",
              "       [0.01529639],\n",
              "       [0.06727866],\n",
              "       [0.06078631],\n",
              "       [0.2685144 ],\n",
              "       [0.02703771],\n",
              "       [0.03083658],\n",
              "       [0.00478445],\n",
              "       [0.02703771],\n",
              "       [0.02703771],\n",
              "       [0.09551343],\n",
              "       [0.02383266],\n",
              "       [0.09551343],\n",
              "       [0.02383266],\n",
              "       [0.08931022],\n",
              "       [0.04317224],\n",
              "       [0.08931022],\n",
              "       [0.00300213],\n",
              "       [0.08931022],\n",
              "       [0.02463065],\n",
              "       [0.0479597 ],\n",
              "       [0.00962002],\n",
              "       [0.03548427],\n",
              "       [0.00722309],\n",
              "       [0.02926042],\n",
              "       [0.01858108],\n",
              "       [0.00722309],\n",
              "       [0.01858108],\n",
              "       [0.00766131],\n",
              "       [0.0266944 ],\n",
              "       [0.02042759],\n",
              "       [0.00135164],\n",
              "       [0.01209219],\n",
              "       [0.01209219],\n",
              "       [0.02926042],\n",
              "       [0.02926042],\n",
              "       [0.10235821],\n",
              "       [0.02106072],\n",
              "       [0.00815345],\n",
              "       [0.08192985],\n",
              "       [0.08192985],\n",
              "       [0.08192985],\n",
              "       [0.00977619],\n",
              "       [0.18503046],\n",
              "       [0.03634204],\n",
              "       [0.00680494],\n",
              "       [0.03634204],\n",
              "       [0.03634204],\n",
              "       [0.01642723],\n",
              "       [0.01642723],\n",
              "       [0.01799863],\n",
              "       [0.10936271],\n",
              "       [0.0479597 ],\n",
              "       [0.009303  ],\n",
              "       [0.02755309],\n",
              "       [0.02692476],\n",
              "       [0.04832498],\n",
              "       [0.00851283],\n",
              "       [0.02692476],\n",
              "       [0.04832498]], dtype=float32)"
            ]
          },
          "execution_count": null,
          "metadata": {},
          "output_type": "execute_result"
        }
      ],
      "source": [
        "y_pred_tfl_tra=y_pred_tfl_tra*10\n",
        "y_pred_tfl_tra"
      ]
    },
    {
      "cell_type": "code",
      "execution_count": null,
      "metadata": {
        "colab": {
          "background_save": true
        },
        "id": "qxc6JuW2Fev-"
      },
      "outputs": [],
      "source": [
        "y_test=np.array([list(y)[0] for X,y in testgen])"
      ]
    },
    {
      "cell_type": "code",
      "execution_count": null,
      "metadata": {
        "colab": {
          "background_save": true
        },
        "id": "TSMHtL6hFev-",
        "outputId": "0cc58176-255c-4183-e7cf-82fc4c0b4734"
      },
      "outputs": [
        {
          "data": {
            "text/plain": [
              "(array([0.2685144], dtype=float32), array([0.00135164], dtype=float32))"
            ]
          },
          "execution_count": null,
          "metadata": {},
          "output_type": "execute_result"
        }
      ],
      "source": [
        "max(y_pred_tfl_tra),min(y_pred_tfl_tra)"
      ]
    },
    {
      "cell_type": "code",
      "execution_count": null,
      "metadata": {
        "colab": {
          "background_save": true
        },
        "id": "NAPtJHAPFev_",
        "outputId": "78acf874-ad99-4682-b22b-1cc7f9608d68"
      },
      "outputs": [
        {
          "data": {
            "text/plain": [
              "(98, 98)"
            ]
          },
          "execution_count": null,
          "metadata": {},
          "output_type": "execute_result"
        }
      ],
      "source": [
        "len(y_test),len(y_pred_tfl_tra)"
      ]
    },
    {
      "cell_type": "code",
      "execution_count": null,
      "metadata": {
        "colab": {
          "background_save": true
        },
        "id": "fh3GRoQ5Fev_",
        "outputId": "b091645b-8c66-4c1c-b8a8-39f4c9b92f0f"
      },
      "outputs": [
        {
          "data": {
            "text/plain": [
              "77"
            ]
          },
          "execution_count": null,
          "metadata": {},
          "output_type": "execute_result"
        }
      ],
      "source": [
        "sum(True if pred[0]>0.01 else False for pred in y_pred_tfl_tra)"
      ]
    },
    {
      "cell_type": "code",
      "execution_count": null,
      "metadata": {
        "colab": {
          "background_save": true
        },
        "id": "HxdbGW87yXyz",
        "outputId": "3214354f-4b97-4658-e450-a4237408d662"
      },
      "outputs": [
        {
          "data": {
            "text/plain": [
              "23.0"
            ]
          },
          "execution_count": null,
          "metadata": {},
          "output_type": "execute_result"
        }
      ],
      "source": [
        "sum(y_test)"
      ]
    },
    {
      "cell_type": "code",
      "execution_count": null,
      "metadata": {
        "colab": {
          "background_save": true
        },
        "id": "T-YARZypFev_",
        "outputId": "fe777372-dc55-4b96-805b-5f1233c08c33"
      },
      "outputs": [
        {
          "name": "stdout",
          "output_type": "stream",
          "text": [
            "Train/Test split results:\n",
            "CNN accuracy is 0.286\n",
            "CNN auc is 0.409\n",
            "CNN Sensitivity is 0.652\n",
            "CNN Specificity is 0.173\n",
            "CNN F1 is 0.300\n"
          ]
        }
      ],
      "source": [
        "compute_metrics(models[-1],testgen,y_test,y_pred_tfl_tra,0.01)"
      ]
    },
    {
      "cell_type": "code",
      "execution_count": null,
      "metadata": {
        "colab": {
          "background_save": true
        },
        "id": "G43SehWtFev_",
        "outputId": "5f360dd3-8fe4-4bab-9a8d-fd3050863d57"
      },
      "outputs": [
        {
          "data": {
            "image/png": "[encoded data removed]",
            "text/plain": [
              "<Figure size 864x576 with 2 Axes>"
            ]
          },
          "metadata": {},
          "output_type": "display_data"
        }
      ],
      "source": [
        "fig, ax = plt.subplots(figsize=(12, 8))\n",
        "ConfusionMatrixDisplay.from_predictions(y_test, [True if pred[0]>0.01 else False for pred in y_pred_tfl_tra],ax=ax);"
      ]
    },
    {
      "cell_type": "code",
      "execution_count": null,
      "metadata": {
        "colab": {
          "background_save": true
        },
        "id": "dRaEJlOWde6N",
        "outputId": "4c262a7f-ae7c-484f-925b-b49a3bfe4780"
      },
      "outputs": [
        {
          "data": {
            "image/png": "[encoded data removed]",
            "text/plain": [
              "<Figure size 432x288 with 1 Axes>"
            ]
          },
          "metadata": {},
          "output_type": "display_data"
        }
      ],
      "source": [
        "clase_positiva = 1\n",
        "fpr, tpr, thresholds = roc_curve(y_test==clase_positiva, y_pred_tfl_tra)\n",
        "fig, ax1 = plt.subplots(1,1)\n",
        "ax1.plot(fpr, tpr, 'r-.', label = 'CNN (%2.2f)' % auc(fpr, tpr))\n",
        "ax1.set_xlabel('False Positive Rate')\n",
        "ax1.set_ylabel('True Positive Rate')\n",
        "ax1.plot(fpr, fpr, 'b-', label = 'Random Guess')\n",
        "ax1.legend();"
      ]
    },
    {
      "cell_type": "markdown",
      "metadata": {
        "id": "7wdLLpt7wnV-"
      },
      "source": [
        "## ADC"
      ]
    },
    {
      "cell_type": "code",
      "execution_count": null,
      "metadata": {
        "colab": {
          "base_uri": "https://localhost:8080/"
        },
        "id": "YU2nqq1XxEcQ",
        "outputId": "1116db89-ccf2-45c1-f808-75d8dce5eeab"
      },
      "outputs": [
        {
          "output_type": "execute_result",
          "data": {
            "text/plain": [
              "['ep2d_diff_tra_DYNDIST_ADC0',\n",
              " 't2_tse_cor0',\n",
              " 't2_tse_sag0',\n",
              " 'tfl_3d_PD_ref_tra_1_5x1_5_t30']"
            ]
          },
          "metadata": {},
          "execution_count": 24
        }
      ],
      "source": [
        "mri_types_f"
      ]
    },
    {
      "cell_type": "code",
      "execution_count": null,
      "metadata": {
        "colab": {
          "base_uri": "https://localhost:8080/",
          "height": 36
        },
        "id": "46Rg1ph7xEcQ",
        "outputId": "7947f9e9-adfd-4983-b5ee-6a86ebcbf02d"
      },
      "outputs": [
        {
          "output_type": "execute_result",
          "data": {
            "text/plain": [
              "'ep2d_diff_tra_DYNDIST_ADC0'"
            ],
            "application/vnd.google.colaboratory.intrinsic+json": {
              "type": "string"
            }
          },
          "metadata": {},
          "execution_count": 37
        }
      ],
      "source": [
        "mri_types_f[0]"
      ]
    },
    {
      "cell_type": "code",
      "execution_count": null,
      "metadata": {
        "id": "tcnd95kmxEcQ"
      },
      "outputs": [],
      "source": [
        "mri=mri_types_f[0]\n",
        "\n",
        "tr_df_all_adc=tr_df_all_dcm[tr_df_all_dcm['name']==mri]\n",
        "val_df_all_adc=val_df_all_dcm[val_df_all_dcm['name']==mri]\n",
        "test_df_all_adc=test_df_all_dcm[test_df_all_dcm['name']==mri]\n",
        "\n",
        "valgen = DicomDataGen(val_df_all_adc,\n",
        "                    X_col={'path':'path_dcm'},\n",
        "                    y_col={'name': 'clinSig'},\n",
        "                    batch_size=BATCH_SIZE, input_size=TARGET_SIZE)\n",
        "\n",
        "testgen=DicomDataGen(test_df_all_adc,\n",
        "                   X_col={'path':'path_dcm'},\n",
        "                   y_col={'name': 'clinSig'},\n",
        "                   shuffle=False,\n",
        "                   batch_size=1, input_size=TARGET_SIZE)"
      ]
    },
    {
      "cell_type": "code",
      "execution_count": null,
      "metadata": {
        "id": "L4SvvrEyxEcS"
      },
      "outputs": [],
      "source": [
        "y_pred_adc=models[0].predict(testgen)"
      ]
    },
    {
      "cell_type": "code",
      "source": [
        "y_pred_val_adc=models[0].predict(valgen)"
      ],
      "metadata": {
        "id": "8iLc8ZszUtT3"
      },
      "execution_count": null,
      "outputs": []
    },
    {
      "cell_type": "code",
      "execution_count": null,
      "metadata": {
        "id": "iCWwa3GnxEcS"
      },
      "outputs": [],
      "source": [
        "y_pred_adc=y_pred_adc*10"
      ]
    },
    {
      "cell_type": "code",
      "source": [
        "y_pred_val_adc=y_pred_val_adc*10"
      ],
      "metadata": {
        "id": "_8qQvCJVUyyc"
      },
      "execution_count": null,
      "outputs": []
    },
    {
      "cell_type": "code",
      "execution_count": null,
      "metadata": {
        "id": "jiVh6SIzxEcS"
      },
      "outputs": [],
      "source": [
        "y_test=np.array([list(y)[0] for X,y in testgen])\n",
        "y_val=np.array([list(y)[0] for X,y in valgen])"
      ]
    },
    {
      "cell_type": "code",
      "execution_count": null,
      "metadata": {
        "colab": {
          "base_uri": "https://localhost:8080/"
        },
        "id": "Wyt1653uxEcS",
        "outputId": "1cbd1bbe-1653-4eba-be90-fc46bddcdbfc"
      },
      "outputs": [
        {
          "output_type": "execute_result",
          "data": {
            "text/plain": [
              "(array([0.2533357], dtype=float32), array([0.01732112], dtype=float32))"
            ]
          },
          "metadata": {},
          "execution_count": 49
        }
      ],
      "source": [
        "max(y_pred_adc),min(y_pred_adc)"
      ]
    },
    {
      "cell_type": "code",
      "execution_count": null,
      "metadata": {
        "colab": {
          "base_uri": "https://localhost:8080/"
        },
        "id": "ZIBsRYwxxEcS",
        "outputId": "06c67761-b897-4b4f-8e51-4a7cac8a9407"
      },
      "outputs": [
        {
          "output_type": "execute_result",
          "data": {
            "text/plain": [
              "(59, 59)"
            ]
          },
          "metadata": {},
          "execution_count": 50
        }
      ],
      "source": [
        "len(y_test),len(y_pred_adc)"
      ]
    },
    {
      "cell_type": "code",
      "source": [
        "compute_metrics(models[0],testgen,y_test,y_pred_adc,0.12)"
      ],
      "metadata": {
        "colab": {
          "base_uri": "https://localhost:8080/"
        },
        "id": "UQqc9CovVuqm",
        "outputId": "79a6b476-239e-4891-daef-acdf63a888a9"
      },
      "execution_count": null,
      "outputs": [
        {
          "output_type": "stream",
          "name": "stdout",
          "text": [
            "Train/Test split results:\n",
            "CNN accuracy is 0.678\n",
            "CNN auc is 0.515\n",
            "CNN Sensitivity is 0.125\n",
            "CNN Specificity is 0.884\n"
          ]
        }
      ]
    },
    {
      "cell_type": "code",
      "execution_count": null,
      "metadata": {
        "colab": {
          "base_uri": "https://localhost:8080/",
          "height": 497
        },
        "id": "xVzLaLoYxEcT",
        "outputId": "b42a3f3b-333c-4a80-d902-80a7f2699a05"
      },
      "outputs": [
        {
          "output_type": "display_data",
          "data": {
            "text/plain": [
              "<Figure size 864x576 with 2 Axes>"
            ],
            "image/png": "[encoded data removed]"
          },
          "metadata": {
            "needs_background": "light"
          }
        }
      ],
      "source": [
        "fig, ax = plt.subplots(figsize=(12, 8))\n",
        "ConfusionMatrixDisplay.from_predictions(y_test, [True if pred[0]>0.07 else False for pred in y_pred_adc],ax=ax);"
      ]
    },
    {
      "cell_type": "code",
      "execution_count": null,
      "metadata": {
        "colab": {
          "base_uri": "https://localhost:8080/"
        },
        "id": "3pLq89AgxEcT",
        "outputId": "5eb3cad6-de05-4ba5-da58-4c2477ddd1f1"
      },
      "outputs": [
        {
          "output_type": "stream",
          "name": "stdout",
          "text": [
            "Train/Test split results:\n",
            "CNN accuracy is 0.700\n",
            "CNN auc is 0.617\n",
            "CNN Sensitivity is 0.750\n",
            "CNN Specificity is 0.696\n"
          ]
        }
      ],
      "source": [
        "compute_metrics(models[0],valgen,y_val,y_pred_val_adc,0.07)"
      ]
    },
    {
      "cell_type": "code",
      "source": [
        "fig, ax = plt.subplots(figsize=(12, 8))\n",
        "ConfusionMatrixDisplay.from_predictions(y_val, [True if pred[0]>0.07 else False for pred in y_pred_val_adc],ax=ax);"
      ],
      "metadata": {
        "colab": {
          "base_uri": "https://localhost:8080/",
          "height": 497
        },
        "id": "CuMwjDkHW1u_",
        "outputId": "7b686e50-28fb-44d3-d0ac-235dec8632cc"
      },
      "execution_count": null,
      "outputs": [
        {
          "output_type": "display_data",
          "data": {
            "text/plain": [
              "<Figure size 864x576 with 2 Axes>"
            ],
            "image/png": "[encoded data removed]"
          },
          "metadata": {
            "needs_background": "light"
          }
        }
      ]
    },
    {
      "cell_type": "markdown",
      "metadata": {
        "id": "f24z1_8U1Jar"
      },
      "source": [
        "## t2_tse_cor0"
      ]
    },
    {
      "cell_type": "code",
      "execution_count": null,
      "metadata": {
        "colab": {
          "base_uri": "https://localhost:8080/"
        },
        "id": "szr3KiTA1nao",
        "outputId": "e966bf97-5c02-43a5-b887-421a199b0a24"
      },
      "outputs": [
        {
          "data": {
            "text/plain": [
              "['ep2d_diff_tra_DYNDIST_ADC0',\n",
              " 't2_tse_cor0',\n",
              " 't2_tse_sag0',\n",
              " 'tfl_3d_PD_ref_tra_1_5x1_5_t30']"
            ]
          },
          "execution_count": 155,
          "metadata": {},
          "output_type": "execute_result"
        }
      ],
      "source": [
        "mri_types_f"
      ]
    },
    {
      "cell_type": "code",
      "execution_count": null,
      "metadata": {
        "colab": {
          "base_uri": "https://localhost:8080/",
          "height": 35
        },
        "id": "zrYOb65l1naq",
        "outputId": "78cee642-87a1-4b94-d859-f6e9915d4cf7"
      },
      "outputs": [
        {
          "data": {
            "application/vnd.google.colaboratory.intrinsic+json": {
              "type": "string"
            },
            "text/plain": [
              "'t2_tse_cor0'"
            ]
          },
          "execution_count": 156,
          "metadata": {},
          "output_type": "execute_result"
        }
      ],
      "source": [
        "mri_types_f[1]"
      ]
    },
    {
      "cell_type": "code",
      "execution_count": null,
      "metadata": {
        "id": "0hxMKaFU1naq"
      },
      "outputs": [],
      "source": [
        "mri=mri_types_f[1]\n",
        "\n",
        "tr_df_all_adc=tr_df_all_dcm[tr_df_all_dcm['name']==mri]\n",
        "val_df_all_adc=val_df_all_dcm[val_df_all_dcm['name']==mri]\n",
        "test_df_all_adc=test_df_all_dcm[test_df_all_dcm['name']==mri]\n",
        "\n",
        "testgen=DicomDataGen(test_df_all_adc,\n",
        "                   X_col={'path':'path_dcm'},\n",
        "                   y_col={'name': 'clinSig'},\n",
        "                   shuffle=False,\n",
        "                   batch_size=1, input_size=TARGET_SIZE)"
      ]
    },
    {
      "cell_type": "code",
      "execution_count": null,
      "metadata": {
        "id": "WWA7M35n1nar"
      },
      "outputs": [],
      "source": [
        "y_pred_t2_cor=models[2].predict(testgen)"
      ]
    },
    {
      "cell_type": "code",
      "execution_count": null,
      "metadata": {
        "colab": {
          "base_uri": "https://localhost:8080/"
        },
        "id": "F3euEoqq1nas",
        "outputId": "be153510-5f23-4476-bcbe-96ce977cbfc6"
      },
      "outputs": [
        {
          "data": {
            "text/plain": [
              "array([[0.49805737],\n",
              "       [0.49805737],\n",
              "       [0.49622416],\n",
              "       [0.49622416],\n",
              "       [0.49199867],\n",
              "       [0.49805737],\n",
              "       [0.49296007],\n",
              "       [0.49891898],\n",
              "       [0.4977061 ],\n",
              "       [0.49196172],\n",
              "       [0.48783168],\n",
              "       [0.496917  ],\n",
              "       [0.48783168],\n",
              "       [0.49891898],\n",
              "       [0.49891898],\n",
              "       [0.49891898],\n",
              "       [0.49200344],\n",
              "       [0.49200344],\n",
              "       [0.49355477],\n",
              "       [0.48997486],\n",
              "       [0.49765483],\n",
              "       [0.49765483],\n",
              "       [0.49355477],\n",
              "       [0.4949358 ],\n",
              "       [0.4949358 ],\n",
              "       [0.4949358 ],\n",
              "       [0.49579564],\n",
              "       [0.48920274],\n",
              "       [0.49622416],\n",
              "       [0.49072236],\n",
              "       [0.49196172],\n",
              "       [0.49891898],\n",
              "       [0.49891898],\n",
              "       [0.49444452],\n",
              "       [0.49444452],\n",
              "       [0.4941561 ],\n",
              "       [0.4941561 ],\n",
              "       [0.49334314],\n",
              "       [0.49493366],\n",
              "       [0.49167752],\n",
              "       [0.49891898],\n",
              "       [0.49388433],\n",
              "       [0.49388433],\n",
              "       [0.49369523],\n",
              "       [0.49383175],\n",
              "       [0.49069333],\n",
              "       [0.49322617],\n",
              "       [0.49069333],\n",
              "       [0.49395952],\n",
              "       [0.49395952]], dtype=float32)"
            ]
          },
          "execution_count": 159,
          "metadata": {},
          "output_type": "execute_result"
        }
      ],
      "source": [
        "y_pred_t2_cor"
      ]
    },
    {
      "cell_type": "code",
      "execution_count": null,
      "metadata": {
        "id": "O_ypeLRk1nas"
      },
      "outputs": [],
      "source": [
        "y_test=np.array([list(y)[0] for X,y in testgen])"
      ]
    },
    {
      "cell_type": "code",
      "execution_count": null,
      "metadata": {
        "colab": {
          "base_uri": "https://localhost:8080/"
        },
        "id": "WWhOBkIZ1nat",
        "outputId": "40fc274f-3807-4583-b1d5-709dcbbe658a"
      },
      "outputs": [
        {
          "data": {
            "text/plain": [
              "(array([0.49891898], dtype=float32), array([0.48783168], dtype=float32))"
            ]
          },
          "execution_count": 161,
          "metadata": {},
          "output_type": "execute_result"
        }
      ],
      "source": [
        "max(y_pred_t2_cor),min(y_pred_t2_cor)"
      ]
    },
    {
      "cell_type": "code",
      "execution_count": null,
      "metadata": {
        "colab": {
          "base_uri": "https://localhost:8080/"
        },
        "id": "ayEes_Ow1nat",
        "outputId": "e5bab88e-e93f-4778-e90a-68a514845300"
      },
      "outputs": [
        {
          "data": {
            "text/plain": [
              "(50, 50)"
            ]
          },
          "execution_count": 162,
          "metadata": {},
          "output_type": "execute_result"
        }
      ],
      "source": [
        "len(y_test),len(y_pred_t2_cor)"
      ]
    },
    {
      "cell_type": "code",
      "execution_count": null,
      "metadata": {
        "colab": {
          "base_uri": "https://localhost:8080/"
        },
        "id": "gL1NKrmA1nau",
        "outputId": "e9033df5-98b3-4676-febe-632fdd9d9ae8"
      },
      "outputs": [
        {
          "data": {
            "text/plain": [
              "50"
            ]
          },
          "execution_count": 163,
          "metadata": {},
          "output_type": "execute_result"
        }
      ],
      "source": [
        "sum(True if pred[0]>0.27 else False for pred in y_pred_t2_cor)"
      ]
    },
    {
      "cell_type": "code",
      "execution_count": null,
      "metadata": {
        "colab": {
          "base_uri": "https://localhost:8080/"
        },
        "id": "XtpvFzxb1nau",
        "outputId": "23c82d9f-eb66-481e-815a-0e9354b09e7c"
      },
      "outputs": [
        {
          "name": "stdout",
          "output_type": "stream",
          "text": [
            "Train/Test split results:\n",
            "CNN accuracy is 0.240\n",
            "CNN auc is 0.336\n",
            "CNN Sensitivity is 0.833\n",
            "CNN Specificity is 0.053\n",
            "CNN F1 is 0.345\n"
          ]
        }
      ],
      "source": [
        "compute_metrics(models[2],testgen,y_test,y_pred_t2_cor,0.49)"
      ]
    },
    {
      "cell_type": "code",
      "execution_count": null,
      "metadata": {
        "colab": {
          "base_uri": "https://localhost:8080/",
          "height": 497
        },
        "id": "9ZicXUWW1nav",
        "outputId": "051572ac-5f79-4e70-a31b-bfcddbb1da7e"
      },
      "outputs": [
        {
          "data": {
            "image/png": "[encoded data removed]",
            "text/plain": [
              "<Figure size 864x576 with 2 Axes>"
            ]
          },
          "metadata": {},
          "output_type": "display_data"
        }
      ],
      "source": [
        "fig, ax = plt.subplots(figsize=(12, 8))\n",
        "ConfusionMatrixDisplay.from_predictions(y_test, [True if pred[0]>0.49 else False for pred in y_pred_t2_cor],ax=ax);"
      ]
    },
    {
      "cell_type": "code",
      "execution_count": null,
      "metadata": {
        "id": "MiJu_wgyFecO"
      },
      "outputs": [],
      "source": []
    },
    {
      "cell_type": "markdown",
      "metadata": {
        "id": "6zPnTFp41RF8"
      },
      "source": [
        "## t2_tse_sag0"
      ]
    },
    {
      "cell_type": "code",
      "execution_count": null,
      "metadata": {
        "colab": {
          "base_uri": "https://localhost:8080/"
        },
        "id": "TXes_F4i19fQ",
        "outputId": "9b6f8374-b8e2-4f24-b019-42a629c822a9"
      },
      "outputs": [
        {
          "data": {
            "text/plain": [
              "['ep2d_diff_tra_DYNDIST_ADC0',\n",
              " 't2_tse_cor0',\n",
              " 't2_tse_sag0',\n",
              " 'tfl_3d_PD_ref_tra_1_5x1_5_t30']"
            ]
          },
          "execution_count": 167,
          "metadata": {},
          "output_type": "execute_result"
        }
      ],
      "source": [
        "mri_types_f"
      ]
    },
    {
      "cell_type": "code",
      "execution_count": null,
      "metadata": {
        "colab": {
          "base_uri": "https://localhost:8080/",
          "height": 35
        },
        "id": "F2NseLB_19fQ",
        "outputId": "4fe49d93-9b09-4361-e5c5-e4a220fc57c5"
      },
      "outputs": [
        {
          "data": {
            "application/vnd.google.colaboratory.intrinsic+json": {
              "type": "string"
            },
            "text/plain": [
              "'t2_tse_sag0'"
            ]
          },
          "execution_count": 168,
          "metadata": {},
          "output_type": "execute_result"
        }
      ],
      "source": [
        "mri_types_f[2]"
      ]
    },
    {
      "cell_type": "code",
      "execution_count": null,
      "metadata": {
        "id": "H20VS69q19fR"
      },
      "outputs": [],
      "source": [
        "mri=mri_types_f[2]\n",
        "\n",
        "tr_df_all_adc=tr_df_all_dcm[tr_df_all_dcm['name']==mri]\n",
        "val_df_all_adc=val_df_all_dcm[val_df_all_dcm['name']==mri]\n",
        "test_df_all_adc=test_df_all_dcm[test_df_all_dcm['name']==mri]\n",
        "\n",
        "testgen=DicomDataGen(test_df_all_adc,\n",
        "                   X_col={'path':'path_dcm'},\n",
        "                   y_col={'name': 'clinSig'},\n",
        "                   shuffle=False,\n",
        "                   batch_size=1, input_size=TARGET_SIZE)"
      ]
    },
    {
      "cell_type": "code",
      "execution_count": null,
      "metadata": {
        "id": "t8UbzJ0H19fR"
      },
      "outputs": [],
      "source": [
        "y_pred_t2_sag=models[3].predict(testgen)"
      ]
    },
    {
      "cell_type": "code",
      "execution_count": null,
      "metadata": {
        "colab": {
          "base_uri": "https://localhost:8080/"
        },
        "id": "TsFFo0WM19fR",
        "outputId": "0ecd09a3-e75c-4519-a677-2db29d6b0491"
      },
      "outputs": [
        {
          "data": {
            "text/plain": [
              "array([[0.06498554],\n",
              "       [0.04854992],\n",
              "       [0.07344189],\n",
              "       [0.10516706],\n",
              "       [0.12795016],\n",
              "       [0.05034092],\n",
              "       [0.07162911],\n",
              "       [0.09056482],\n",
              "       [0.12795016],\n",
              "       [0.07348359],\n",
              "       [0.15049654],\n",
              "       [0.06620553],\n",
              "       [0.06620553],\n",
              "       [0.07119671],\n",
              "       [0.11659694],\n",
              "       [0.07846603],\n",
              "       [0.07742175],\n",
              "       [0.05884218],\n",
              "       [0.09093615],\n",
              "       [0.09093615],\n",
              "       [0.08907282],\n",
              "       [0.08907282],\n",
              "       [0.04854992],\n",
              "       [0.04854992],\n",
              "       [0.06305474],\n",
              "       [0.07742175],\n",
              "       [0.10171545],\n",
              "       [0.10188767],\n",
              "       [0.07852542],\n",
              "       [0.06579399],\n",
              "       [0.06579399],\n",
              "       [0.06579399],\n",
              "       [0.10251343],\n",
              "       [0.08203596],\n",
              "       [0.0761978 ],\n",
              "       [0.07973066],\n",
              "       [0.05311352],\n",
              "       [0.05311352],\n",
              "       [0.05330268],\n",
              "       [0.07846603],\n",
              "       [0.07846603],\n",
              "       [0.07973066],\n",
              "       [0.13856313],\n",
              "       [0.07973066],\n",
              "       [0.09609228],\n",
              "       [0.10251343],\n",
              "       [0.07348359],\n",
              "       [0.05034092],\n",
              "       [0.10251343],\n",
              "       [0.10251343],\n",
              "       [0.09609228],\n",
              "       [0.07973066],\n",
              "       [0.10251343],\n",
              "       [0.05339423],\n",
              "       [0.05339423],\n",
              "       [0.11118987],\n",
              "       [0.08283797],\n",
              "       [0.06166935],\n",
              "       [0.11745089],\n",
              "       [0.07197767],\n",
              "       [0.04247633],\n",
              "       [0.07197767],\n",
              "       [0.06166935],\n",
              "       [0.1020337 ],\n",
              "       [0.10425162],\n",
              "       [0.04247633],\n",
              "       [0.07784796],\n",
              "       [0.13883841],\n",
              "       [0.11745089],\n",
              "       [0.04247633],\n",
              "       [0.11619708],\n",
              "       [0.13883841],\n",
              "       [0.06842613],\n",
              "       [0.09793603],\n",
              "       [0.07384691],\n",
              "       [0.09793603],\n",
              "       [0.09679231],\n",
              "       [0.1296888 ],\n",
              "       [0.1296888 ],\n",
              "       [0.1296888 ],\n",
              "       [0.11471364],\n",
              "       [0.11471364],\n",
              "       [0.08424547],\n",
              "       [0.09679231],\n",
              "       [0.09849179],\n",
              "       [0.09643361],\n",
              "       [0.09849179],\n",
              "       [0.07993424],\n",
              "       [0.10464224],\n",
              "       [0.08564261],\n",
              "       [0.10464224],\n",
              "       [0.0801982 ],\n",
              "       [0.07384691],\n",
              "       [0.07993424],\n",
              "       [0.09476933],\n",
              "       [0.09849179]], dtype=float32)"
            ]
          },
          "execution_count": 171,
          "metadata": {},
          "output_type": "execute_result"
        }
      ],
      "source": [
        "y_pred_t2_sag"
      ]
    },
    {
      "cell_type": "code",
      "execution_count": null,
      "metadata": {
        "id": "KBXCYEes19fR"
      },
      "outputs": [],
      "source": [
        "y_test=np.array([list(y)[0] for X,y in testgen])"
      ]
    },
    {
      "cell_type": "code",
      "execution_count": null,
      "metadata": {
        "colab": {
          "base_uri": "https://localhost:8080/"
        },
        "id": "U-dQcLcV19fR",
        "outputId": "e9e8ee46-82bb-4496-8f12-2d4b63275c42"
      },
      "outputs": [
        {
          "data": {
            "text/plain": [
              "(array([0.15049654], dtype=float32), array([0.04247633], dtype=float32))"
            ]
          },
          "execution_count": 173,
          "metadata": {},
          "output_type": "execute_result"
        }
      ],
      "source": [
        "max(y_pred_t2_sag),min(y_pred_t2_sag)"
      ]
    },
    {
      "cell_type": "code",
      "execution_count": null,
      "metadata": {
        "colab": {
          "base_uri": "https://localhost:8080/"
        },
        "id": "H95jNNeW19fS",
        "outputId": "b977b7ca-c4b9-470e-f3ac-3b4e0d304daa"
      },
      "outputs": [
        {
          "data": {
            "text/plain": [
              "(96, 96)"
            ]
          },
          "execution_count": 174,
          "metadata": {},
          "output_type": "execute_result"
        }
      ],
      "source": [
        "len(y_test),len(y_pred_t2_sag)"
      ]
    },
    {
      "cell_type": "code",
      "execution_count": null,
      "metadata": {
        "colab": {
          "base_uri": "https://localhost:8080/"
        },
        "id": "PwYG2XDT19fS",
        "outputId": "a1ccecf7-c2b7-4f98-853c-624170e0d3bc"
      },
      "outputs": [
        {
          "data": {
            "text/plain": [
              "0"
            ]
          },
          "execution_count": 175,
          "metadata": {},
          "output_type": "execute_result"
        }
      ],
      "source": [
        "sum(True if pred[0]>0.27 else False for pred in y_pred_t2_sag)"
      ]
    },
    {
      "cell_type": "code",
      "execution_count": null,
      "metadata": {
        "colab": {
          "base_uri": "https://localhost:8080/"
        },
        "id": "7GKSNxpS19fS",
        "outputId": "e8ed45cb-781c-4609-e2a5-f0d673c007f4"
      },
      "outputs": [
        {
          "name": "stdout",
          "output_type": "stream",
          "text": [
            "Train/Test split results:\n",
            "CNN accuracy is 0.615\n",
            "CNN auc is 0.564\n",
            "CNN Sensitivity is 0.600\n",
            "CNN Specificity is 0.620\n",
            "CNN F1 is 0.448\n"
          ]
        }
      ],
      "source": [
        "compute_metrics(models[3],testgen,y_test,y_pred_t2_sag,0.09)"
      ]
    },
    {
      "cell_type": "code",
      "execution_count": null,
      "metadata": {
        "colab": {
          "base_uri": "https://localhost:8080/",
          "height": 188
        },
        "id": "98aMlQQh19fS",
        "outputId": "10c08034-bbfb-4d05-cf5f-f37bff2eda41"
      },
      "outputs": [
        {
          "ename": "NameError",
          "evalue": "ignored",
          "output_type": "error",
          "traceback": [
            "\u001b[0;31m---------------------------------------------------------------------------\u001b[0m",
            "\u001b[0;31mNameError\u001b[0m                                 Traceback (most recent call last)",
            "\u001b[0;32m<ipython-input-1-25bebfaf0563>\u001b[0m in \u001b[0;36m<module>\u001b[0;34m()\u001b[0m\n\u001b[0;32m----> 1\u001b[0;31m \u001b[0mfig\u001b[0m\u001b[0;34m,\u001b[0m \u001b[0max\u001b[0m \u001b[0;34m=\u001b[0m \u001b[0mplt\u001b[0m\u001b[0;34m.\u001b[0m\u001b[0msubplots\u001b[0m\u001b[0;34m(\u001b[0m\u001b[0mfigsize\u001b[0m\u001b[0;34m=\u001b[0m\u001b[0;34m(\u001b[0m\u001b[0;36m12\u001b[0m\u001b[0;34m,\u001b[0m \u001b[0;36m8\u001b[0m\u001b[0;34m)\u001b[0m\u001b[0;34m)\u001b[0m\u001b[0;34m\u001b[0m\u001b[0;34m\u001b[0m\u001b[0m\n\u001b[0m\u001b[1;32m      2\u001b[0m \u001b[0mConfusionMatrixDisplay\u001b[0m\u001b[0;34m.\u001b[0m\u001b[0mfrom_predictions\u001b[0m\u001b[0;34m(\u001b[0m\u001b[0my_test\u001b[0m\u001b[0;34m,\u001b[0m \u001b[0;34m[\u001b[0m\u001b[0;32mTrue\u001b[0m \u001b[0;32mif\u001b[0m \u001b[0mpred\u001b[0m\u001b[0;34m[\u001b[0m\u001b[0;36m0\u001b[0m\u001b[0;34m]\u001b[0m\u001b[0;34m>\u001b[0m\u001b[0;36m0.09\u001b[0m \u001b[0;32melse\u001b[0m \u001b[0;32mFalse\u001b[0m \u001b[0;32mfor\u001b[0m \u001b[0mpred\u001b[0m \u001b[0;32min\u001b[0m \u001b[0my_pred_t2_sag\u001b[0m\u001b[0;34m]\u001b[0m\u001b[0;34m,\u001b[0m\u001b[0max\u001b[0m\u001b[0;34m=\u001b[0m\u001b[0max\u001b[0m\u001b[0;34m)\u001b[0m\u001b[0;34m;\u001b[0m\u001b[0;34m\u001b[0m\u001b[0;34m\u001b[0m\u001b[0m\n",
            "\u001b[0;31mNameError\u001b[0m: name 'plt' is not defined"
          ]
        }
      ],
      "source": [
        "fig, ax = plt.subplots(figsize=(12, 8))\n",
        "ConfusionMatrixDisplay.from_predictions(y_test, [True if pred[0]>0.09 else False for pred in y_pred_t2_sag],ax=ax);"
      ]
    },
    {
      "cell_type": "markdown",
      "metadata": {
        "id": "fdO7A02m1ZRZ"
      },
      "source": [
        "# Modelo final"
      ]
    },
    {
      "cell_type": "code",
      "execution_count": null,
      "metadata": {
        "id": "Flzlugli1aXP"
      },
      "outputs": [],
      "source": [
        "df_test=pd.concat([test_df_all_dcm, test_df_all_mhd], axis=0)"
      ]
    },
    {
      "cell_type": "code",
      "execution_count": null,
      "metadata": {
        "colab": {
          "base_uri": "https://localhost:8080/",
          "height": 206
        },
        "id": "4vTF_nTT5jkf",
        "outputId": "879e33ad-ae04-4d57-eae5-fdb74f5c912a"
      },
      "outputs": [
        {
          "data": {
            "text/html": [
              "\n",
              "  <div id=\"df-c78f7a92-8dce-4346-b778-f56d22080646\">\n",
              "    <div class=\"colab-df-container\">\n",
              "      <div>\n",
              "<style scoped>\n",
              "    .dataframe tbody tr th:only-of-type {\n",
              "        vertical-align: middle;\n",
              "    }\n",
              "\n",
              "    .dataframe tbody tr th {\n",
              "        vertical-align: top;\n",
              "    }\n",
              "\n",
              "    .dataframe thead th {\n",
              "        text-align: right;\n",
              "    }\n",
              "</style>\n",
              "<table border=\"1\" class=\"dataframe\">\n",
              "  <thead>\n",
              "    <tr style=\"text-align: right;\">\n",
              "      <th></th>\n",
              "      <th>index</th>\n",
              "      <th>proxID</th>\n",
              "      <th>fid</th>\n",
              "      <th>dcmSerNum</th>\n",
              "      <th>pos_x</th>\n",
              "      <th>pos_y</th>\n",
              "      <th>ijk</th>\n",
              "      <th>zone</th>\n",
              "      <th>name</th>\n",
              "      <th>path_dcm</th>\n",
              "      <th>clinSig</th>\n",
              "    </tr>\n",
              "  </thead>\n",
              "  <tbody>\n",
              "    <tr>\n",
              "      <th>0</th>\n",
              "      <td>306</td>\n",
              "      <td>ProstateX-0018</td>\n",
              "      <td>1</td>\n",
              "      <td>5</td>\n",
              "      <td>[4.08917, 18.7769, -11.5951]</td>\n",
              "      <td>[4.08917, 18.7769, -11.5951]</td>\n",
              "      <td>[204, 174, 5]</td>\n",
              "      <td>AS</td>\n",
              "      <td>t2_tse_tra0</td>\n",
              "      <td>/content/drive/MyDrive/Capstone/PROSTATEX_data...</td>\n",
              "      <td>1</td>\n",
              "    </tr>\n",
              "    <tr>\n",
              "      <th>1</th>\n",
              "      <td>3465</td>\n",
              "      <td>ProstateX-0177</td>\n",
              "      <td>1</td>\n",
              "      <td>4</td>\n",
              "      <td>[-24.6506, 13.6168, -17.1067]</td>\n",
              "      <td>[-24.6506, 13.6168, -17.1067]</td>\n",
              "      <td>[151, 177, 8]</td>\n",
              "      <td>PZ</td>\n",
              "      <td>t2_tse_tra0</td>\n",
              "      <td>/content/drive/MyDrive/Capstone/PROSTATEX_data...</td>\n",
              "      <td>0</td>\n",
              "    </tr>\n",
              "    <tr>\n",
              "      <th>2</th>\n",
              "      <td>969</td>\n",
              "      <td>ProstateX-0044</td>\n",
              "      <td>1</td>\n",
              "      <td>4</td>\n",
              "      <td>[-5.795073, 18.7907, 87.5082]</td>\n",
              "      <td>[-5.795073, 18.7907, 87.5082]</td>\n",
              "      <td>[198, 179, 6]</td>\n",
              "      <td>PZ</td>\n",
              "      <td>t2_tse_tra0</td>\n",
              "      <td>/content/drive/MyDrive/Capstone/PROSTATEX_data...</td>\n",
              "      <td>0</td>\n",
              "    </tr>\n",
              "    <tr>\n",
              "      <th>3</th>\n",
              "      <td>2437</td>\n",
              "      <td>ProstateX-0131</td>\n",
              "      <td>1</td>\n",
              "      <td>4</td>\n",
              "      <td>[51.1849, 25.9864, 12.9275]</td>\n",
              "      <td>[51.1849, 25.9864, 12.9275]</td>\n",
              "      <td>[208, 175, 11]</td>\n",
              "      <td>AS</td>\n",
              "      <td>t2_tse_tra0</td>\n",
              "      <td>/content/drive/MyDrive/Capstone/PROSTATEX_data...</td>\n",
              "      <td>1</td>\n",
              "    </tr>\n",
              "    <tr>\n",
              "      <th>4</th>\n",
              "      <td>3464</td>\n",
              "      <td>ProstateX-0177</td>\n",
              "      <td>4</td>\n",
              "      <td>4</td>\n",
              "      <td>[-5.846966, 8.59326, -23.1375]</td>\n",
              "      <td>[-5.846966, 8.59326, -23.1375]</td>\n",
              "      <td>[189, 168, 6]</td>\n",
              "      <td>AS</td>\n",
              "      <td>t2_tse_tra0</td>\n",
              "      <td>/content/drive/MyDrive/Capstone/PROSTATEX_data...</td>\n",
              "      <td>0</td>\n",
              "    </tr>\n",
              "  </tbody>\n",
              "</table>\n",
              "</div>\n",
              "      <button class=\"colab-df-convert\" onclick=\"convertToInteractive('df-c78f7a92-8dce-4346-b778-f56d22080646')\"\n",
              "              title=\"Convert this dataframe to an interactive table.\"\n",
              "              style=\"display:none;\">\n",
              "        \n",
              "  <svg xmlns=\"http://www.w3.org/2000/svg\" height=\"24px\"viewBox=\"0 0 24 24\"\n",
              "       width=\"24px\">\n",
              "    <path d=\"M0 0h24v24H0V0z\" fill=\"none\"/>\n",
              "    <path d=\"M18.56 5.44l.94 2.06.94-2.06 2.06-.94-2.06-.94-.94-2.06-.94 2.06-2.06.94zm-11 1L8.5 8.5l.94-2.06 2.06-.94-2.06-.94L8.5 2.5l-.94 2.06-2.06.94zm10 10l.94 2.06.94-2.06 2.06-.94-2.06-.94-.94-2.06-.94 2.06-2.06.94z\"/><path d=\"M17.41 7.96l-1.37-1.37c-.4-.4-.92-.59-1.43-.59-.52 0-1.04.2-1.43.59L10.3 9.45l-7.72 7.72c-.78.78-.78 2.05 0 2.83L4 21.41c.39.39.9.59 1.41.59.51 0 1.02-.2 1.41-.59l7.78-7.78 2.81-2.81c.8-.78.8-2.07 0-2.86zM5.41 20L4 18.59l7.72-7.72 1.47 1.35L5.41 20z\"/>\n",
              "  </svg>\n",
              "      </button>\n",
              "      \n",
              "  <style>\n",
              "    .colab-df-container {\n",
              "      display:flex;\n",
              "      flex-wrap:wrap;\n",
              "      gap: 12px;\n",
              "    }\n",
              "\n",
              "    .colab-df-convert {\n",
              "      background-color: #E8F0FE;\n",
              "      border: none;\n",
              "      border-radius: 50%;\n",
              "      cursor: pointer;\n",
              "      display: none;\n",
              "      fill: #1967D2;\n",
              "      height: 32px;\n",
              "      padding: 0 0 0 0;\n",
              "      width: 32px;\n",
              "    }\n",
              "\n",
              "    .colab-df-convert:hover {\n",
              "      background-color: #E2EBFA;\n",
              "      box-shadow: 0px 1px 2px rgba(60, 64, 67, 0.3), 0px 1px 3px 1px rgba(60, 64, 67, 0.15);\n",
              "      fill: #174EA6;\n",
              "    }\n",
              "\n",
              "    [theme=dark] .colab-df-convert {\n",
              "      background-color: #3B4455;\n",
              "      fill: #D2E3FC;\n",
              "    }\n",
              "\n",
              "    [theme=dark] .colab-df-convert:hover {\n",
              "      background-color: #434B5C;\n",
              "      box-shadow: 0px 1px 3px 1px rgba(0, 0, 0, 0.15);\n",
              "      filter: drop-shadow(0px 1px 2px rgba(0, 0, 0, 0.3));\n",
              "      fill: #FFFFFF;\n",
              "    }\n",
              "  </style>\n",
              "\n",
              "      <script>\n",
              "        const buttonEl =\n",
              "          document.querySelector('#df-c78f7a92-8dce-4346-b778-f56d22080646 button.colab-df-convert');\n",
              "        buttonEl.style.display =\n",
              "          google.colab.kernel.accessAllowed ? 'block' : 'none';\n",
              "\n",
              "        async function convertToInteractive(key) {\n",
              "          const element = document.querySelector('#df-c78f7a92-8dce-4346-b778-f56d22080646');\n",
              "          const dataTable =\n",
              "            await google.colab.kernel.invokeFunction('convertToInteractive',\n",
              "                                                     [key], {});\n",
              "          if (!dataTable) return;\n",
              "\n",
              "          const docLinkHtml = 'Like what you see? Visit the ' +\n",
              "            '<a target=\"_blank\" href=https://colab.research.google.com/notebooks/data_table.ipynb>data table notebook</a>'\n",
              "            + ' to learn more about interactive tables.';\n",
              "          element.innerHTML = '';\n",
              "          dataTable['output_type'] = 'display_data';\n",
              "          await google.colab.output.renderOutput(dataTable, element);\n",
              "          const docLink = document.createElement('div');\n",
              "          docLink.innerHTML = docLinkHtml;\n",
              "          element.appendChild(docLink);\n",
              "        }\n",
              "      </script>\n",
              "    </div>\n",
              "  </div>\n",
              "  "
            ],
            "text/plain": [
              "   index          proxID  fid  dcmSerNum                           pos_x  \\\n",
              "0    306  ProstateX-0018    1          5    [4.08917, 18.7769, -11.5951]   \n",
              "1   3465  ProstateX-0177    1          4   [-24.6506, 13.6168, -17.1067]   \n",
              "2    969  ProstateX-0044    1          4   [-5.795073, 18.7907, 87.5082]   \n",
              "3   2437  ProstateX-0131    1          4     [51.1849, 25.9864, 12.9275]   \n",
              "4   3464  ProstateX-0177    4          4  [-5.846966, 8.59326, -23.1375]   \n",
              "\n",
              "                            pos_y             ijk zone         name  \\\n",
              "0    [4.08917, 18.7769, -11.5951]   [204, 174, 5]   AS  t2_tse_tra0   \n",
              "1   [-24.6506, 13.6168, -17.1067]   [151, 177, 8]   PZ  t2_tse_tra0   \n",
              "2   [-5.795073, 18.7907, 87.5082]   [198, 179, 6]   PZ  t2_tse_tra0   \n",
              "3     [51.1849, 25.9864, 12.9275]  [208, 175, 11]   AS  t2_tse_tra0   \n",
              "4  [-5.846966, 8.59326, -23.1375]   [189, 168, 6]   AS  t2_tse_tra0   \n",
              "\n",
              "                                            path_dcm  clinSig  \n",
              "0  /content/drive/MyDrive/Capstone/PROSTATEX_data...        1  \n",
              "1  /content/drive/MyDrive/Capstone/PROSTATEX_data...        0  \n",
              "2  /content/drive/MyDrive/Capstone/PROSTATEX_data...        0  \n",
              "3  /content/drive/MyDrive/Capstone/PROSTATEX_data...        1  \n",
              "4  /content/drive/MyDrive/Capstone/PROSTATEX_data...        0  "
            ]
          },
          "execution_count": 219,
          "metadata": {},
          "output_type": "execute_result"
        }
      ],
      "source": [
        "df_test=df_test.reset_index()\n",
        "df_test.head()"
      ]
    },
    {
      "cell_type": "code",
      "execution_count": null,
      "metadata": {
        "colab": {
          "base_uri": "https://localhost:8080/"
        },
        "id": "2_76B0vU3_7J",
        "outputId": "9fdabf20-b3b6-422c-dacf-7ca7b30e1243"
      },
      "outputs": [
        {
          "data": {
            "text/plain": [
              "ktrans                             112\n",
              "tfl_3d_PD_ref_tra_1_5x1_5_t30      104\n",
              "t2_tse_sag0                         96\n",
              "ep2d_diff_tra_DYNDIST0              63\n",
              "ep2d_diff_tra_DYNDISTCALC_BVAL0     63\n",
              "ep2d_diff_tra_DYNDIST_ADC0          63\n",
              "ep2d_diff_tra_DYNDIST1              63\n",
              "ep2d_diff_tra_DYNDIST2              63\n",
              "t2_tse_tra0                         59\n",
              "t2_tse_cor0                         50\n",
              "Name: name, dtype: int64"
            ]
          },
          "execution_count": 220,
          "metadata": {},
          "output_type": "execute_result"
        }
      ],
      "source": [
        "df_test['name'].value_counts()"
      ]
    },
    {
      "cell_type": "code",
      "execution_count": null,
      "metadata": {
        "id": "L63a1aD0pS7v"
      },
      "outputs": [],
      "source": [
        "#1/2 de la specificidad y "
      ]
    },
    {
      "cell_type": "code",
      "execution_count": null,
      "metadata": {
        "colab": {
          "base_uri": "https://localhost:8080/"
        },
        "id": "NArbBZu-8VC2",
        "outputId": "e25ef45b-db33-4c80-c53b-6afbe866d8b5"
      },
      "outputs": [
        {
          "data": {
            "text/plain": [
              "['/content/drive/MyDrive/Capstone/Modelos/model_current_best_adc.h5',\n",
              " '/content/drive/MyDrive/Capstone/Modelos/model_current_best_ktrans.h5',\n",
              " '/content/drive/MyDrive/Capstone/Modelos/model_current_best_t2_tse_cor0.h5',\n",
              " '/content/drive/MyDrive/Capstone/Modelos/model_current_best_t2_tse_sag0.h5',\n",
              " '/content/drive/MyDrive/Capstone/Modelos/model_current_best_tfl_tra.h5']"
            ]
          },
          "execution_count": 221,
          "metadata": {},
          "output_type": "execute_result"
        }
      ],
      "source": [
        "models_paths_f"
      ]
    },
    {
      "cell_type": "code",
      "execution_count": null,
      "metadata": {
        "colab": {
          "base_uri": "https://localhost:8080/"
        },
        "id": "oXIN7yyBE0QV",
        "outputId": "3e66c8fa-d406-4b91-de87-b12a2486f4c1"
      },
      "outputs": [
        {
          "data": {
            "text/plain": [
              "['ProstateX-0031',\n",
              " 'ProstateX-0190',\n",
              " 'ProstateX-0187',\n",
              " 'ProstateX-0196',\n",
              " 'ProstateX-0144',\n",
              " 'ProstateX-0068',\n",
              " 'ProstateX-0137',\n",
              " 'ProstateX-0109',\n",
              " 'ProstateX-0184',\n",
              " 'ProstateX-0083',\n",
              " 'ProstateX-0006',\n",
              " 'ProstateX-0148',\n",
              " 'ProstateX-0106',\n",
              " 'ProstateX-0121',\n",
              " 'ProstateX-0176',\n",
              " 'ProstateX-0025',\n",
              " 'ProstateX-0154',\n",
              " 'ProstateX-0126',\n",
              " 'ProstateX-0177',\n",
              " 'ProstateX-0168',\n",
              " 'ProstateX-0061',\n",
              " 'ProstateX-0095',\n",
              " 'ProstateX-0131',\n",
              " 'ProstateX-0084',\n",
              " 'ProstateX-0159',\n",
              " 'ProstateX-0195',\n",
              " 'ProstateX-0122',\n",
              " 'ProstateX-0094',\n",
              " 'ProstateX-0072',\n",
              " 'ProstateX-0008',\n",
              " 'ProstateX-0055',\n",
              " 'ProstateX-0198',\n",
              " 'ProstateX-0000',\n",
              " 'ProstateX-0138',\n",
              " 'ProstateX-0044',\n",
              " 'ProstateX-0071',\n",
              " 'ProstateX-0085',\n",
              " 'ProstateX-0018',\n",
              " 'ProstateX-0178',\n",
              " 'ProstateX-0165',\n",
              " 'ProstateX-0104',\n",
              " 'ProstateX-0133',\n",
              " 'ProstateX-0102',\n",
              " 'ProstateX-0056',\n",
              " 'ProstateX-0112',\n",
              " 'ProstateX-0182',\n",
              " 'ProstateX-0103',\n",
              " 'ProstateX-0027',\n",
              " 'ProstateX-0075',\n",
              " 'ProstateX-0001',\n",
              " 'ProstateX-0193',\n",
              " 'ProstateX-0136',\n",
              " 'ProstateX-0090',\n",
              " 'ProstateX-0015',\n",
              " 'ProstateX-0062',\n",
              " 'ProstateX-0053',\n",
              " 'ProstateX-0172',\n",
              " 'ProstateX-0171',\n",
              " 'ProstateX-0189',\n",
              " 'ProstateX-0040',\n",
              " 'ProstateX-0038',\n",
              " 'ProstateX-0130',\n",
              " 'ProstateX-0039',\n",
              " 'ProstateX-0067',\n",
              " 'ProstateX-0181',\n",
              " 'ProstateX-0004',\n",
              " 'ProstateX-0012',\n",
              " 'ProstateX-0150',\n",
              " 'ProstateX-0087',\n",
              " 'ProstateX-0149',\n",
              " 'ProstateX-0101',\n",
              " 'ProstateX-0160',\n",
              " 'ProstateX-0002',\n",
              " 'ProstateX-0070',\n",
              " 'ProstateX-0124',\n",
              " 'ProstateX-0107',\n",
              " 'ProstateX-0046',\n",
              " 'ProstateX-0118',\n",
              " 'ProstateX-0117',\n",
              " 'ProstateX-0032',\n",
              " 'ProstateX-0096',\n",
              " 'ProstateX-0081',\n",
              " 'ProstateX-0050',\n",
              " 'ProstateX-0073',\n",
              " 'ProstateX-0063',\n",
              " 'ProstateX-0041',\n",
              " 'ProstateX-0014',\n",
              " 'ProstateX-0016',\n",
              " 'ProstateX-0011',\n",
              " 'ProstateX-0052',\n",
              " 'ProstateX-0051',\n",
              " 'ProstateX-0030',\n",
              " 'ProstateX-0029',\n",
              " 'ProstateX-0155',\n",
              " 'ProstateX-0113',\n",
              " 'ProstateX-0156',\n",
              " 'ProstateX-0164',\n",
              " 'ProstateX-0111',\n",
              " 'ProstateX-0024',\n",
              " 'ProstateX-0174',\n",
              " 'ProstateX-0125',\n",
              " 'ProstateX-0048',\n",
              " 'ProstateX-0145']"
            ]
          },
          "execution_count": 222,
          "metadata": {},
          "output_type": "execute_result"
        }
      ],
      "source": [
        "patients=list(df_test['proxID'].value_counts().index)\n",
        "patients"
      ]
    },
    {
      "cell_type": "code",
      "execution_count": null,
      "metadata": {
        "id": "TxwZ9QPDGWji"
      },
      "outputs": [],
      "source": [
        "mri_types_f.append('ktrans')\n",
        "mri_types_f=sorted(mri_types_f)"
      ]
    },
    {
      "cell_type": "code",
      "execution_count": null,
      "metadata": {
        "id": "BfP3WqRo4Fst"
      },
      "outputs": [],
      "source": [
        "TARGET_SIZE = (300, 300)\n",
        "predict_m0=[]\n",
        "predict_m1=[]\n",
        "lst_label_m0=[]\n",
        "lst_label_m1=[]\n",
        "label_m0=0\n",
        "label_m1=0\n",
        "\n",
        "for patient in patients:\n",
        "\n",
        "  query=df_test[df_test['proxID']==patient]\n",
        "  # if query.index\n",
        "  # print(patient,query[query['name'].isin(mri_types_f)])\n",
        "  predict_adc=[[np.nan]]\n",
        "  predict_ktrans=[[np.nan]]\n",
        "  for name,path,label in zip(query['name'],query['path_dcm'],query['clinSig']):\n",
        "    if name=='ep2d_diff_tra_DYNDIST_ADC0':\n",
        "      cont=0\n",
        "      files_patients=sorted(glob(path+'/*'))\n",
        "      dicoms=np.zeros((len(files_patients),)+TARGET_SIZE)\n",
        "      for file_dcm in files_patients:\n",
        "        image_array = dicom.dcmread(file_dcm).pixel_array\n",
        "        image_array = cv2.resize(image_array, TARGET_SIZE[0:2], interpolation=cv2.INTER_NEAREST) \n",
        "        dicoms[cont]=image_array/255. \n",
        "        cont+=1\n",
        "      dicoms=np.expand_dims(dicoms,0)\n",
        "      dicoms=np.expand_dims(dicoms,0)\n",
        "      # print(dicoms.shape)\n",
        "      predict_adc=models[0].predict(dicoms)\n",
        "      label_m0=label\n",
        "\n",
        "\n",
        "    if name=='ktrans':\n",
        "      cont=0\n",
        "      itkimage = sitk.ReadImage(path)\n",
        "      ct_scan = sitk.GetArrayFromImage(itkimage)\n",
        "      dicoms=np.zeros((ct_scan.shape[0],)+TARGET_SIZE)\n",
        "      for mhd_image in ct_scan:\n",
        "        image_array = cv2.resize(mhd_image, TARGET_SIZE[0:2], interpolation=cv2.INTER_NEAREST)  \n",
        "        image_array=image_array/255\n",
        "        dicoms[cont,:,:]=image_array \n",
        "        cont+=1\n",
        "      dicoms=np.expand_dims(dicoms,0)\n",
        "      dicoms=np.expand_dims(dicoms,0)\n",
        "      predict_ktrans=models[1].predict(dicoms)\n",
        "      label_m1=label\n",
        "      \n",
        "  predict_m0.append(1 if predict_adc[0][0]>0.26 else 0)\n",
        "  predict_m1.append(1 if predict_ktrans[0][0]>0.09 else 0)\n",
        "  lst_label_m0.append(label_m0)\n",
        "  lst_label_m0.append(label_m1)\n",
        "  # print(predict_m0,predict_m1)\n"
      ]
    },
    {
      "cell_type": "code",
      "execution_count": null,
      "metadata": {
        "colab": {
          "base_uri": "https://localhost:8080/"
        },
        "id": "oxfSAsNxFxju",
        "outputId": "82949acf-7d1d-45a5-a143-01ca629b49cc"
      },
      "outputs": [
        {
          "data": {
            "text/plain": [
              "[True,\n",
              " True,\n",
              " False,\n",
              " True,\n",
              " True,\n",
              " True,\n",
              " True,\n",
              " False,\n",
              " False,\n",
              " True,\n",
              " True,\n",
              " True,\n",
              " True,\n",
              " False,\n",
              " True,\n",
              " False,\n",
              " True,\n",
              " True,\n",
              " True,\n",
              " False,\n",
              " False,\n",
              " True,\n",
              " False,\n",
              " False,\n",
              " True,\n",
              " False,\n",
              " False,\n",
              " True,\n",
              " True,\n",
              " True,\n",
              " False,\n",
              " False,\n",
              " True,\n",
              " False,\n",
              " True,\n",
              " True,\n",
              " True,\n",
              " True,\n",
              " True,\n",
              " True,\n",
              " False,\n",
              " True,\n",
              " True,\n",
              " True,\n",
              " True,\n",
              " True,\n",
              " True,\n",
              " True,\n",
              " True,\n",
              " True,\n",
              " False,\n",
              " True,\n",
              " True,\n",
              " False,\n",
              " True,\n",
              " True,\n",
              " False,\n",
              " False,\n",
              " False,\n",
              " False,\n",
              " False,\n",
              " True,\n",
              " False,\n",
              " False,\n",
              " False,\n",
              " True,\n",
              " False,\n",
              " False,\n",
              " False,\n",
              " False,\n",
              " False,\n",
              " False,\n",
              " False,\n",
              " False,\n",
              " True,\n",
              " True,\n",
              " False,\n",
              " False,\n",
              " False,\n",
              " False,\n",
              " False,\n",
              " False,\n",
              " True,\n",
              " False,\n",
              " False,\n",
              " False,\n",
              " False,\n",
              " False,\n",
              " False,\n",
              " False,\n",
              " False,\n",
              " False,\n",
              " False,\n",
              " False,\n",
              " False,\n",
              " False,\n",
              " False,\n",
              " False,\n",
              " False,\n",
              " False,\n",
              " False,\n",
              " False,\n",
              " False]"
            ]
          },
          "execution_count": 253,
          "metadata": {},
          "output_type": "execute_result"
        }
      ],
      "source": [
        "result_pred=[]\n",
        "for i in range(len(predict_m0)):\n",
        "  result_pred.append(True if predict_m0[i]==predict_m1[i] else False)\n",
        "\n",
        "result_pred"
      ]
    },
    {
      "cell_type": "code",
      "execution_count": null,
      "metadata": {
        "colab": {
          "base_uri": "https://localhost:8080/"
        },
        "id": "FvrGlVKIOtuD",
        "outputId": "eb43b096-4a87-4593-fa28-e562beaa1191"
      },
      "outputs": [
        {
          "data": {
            "text/plain": [
              "(103, 103)"
            ]
          },
          "execution_count": 250,
          "metadata": {},
          "output_type": "execute_result"
        }
      ],
      "source": [
        "len(predict_m0),len(predict_m1)"
      ]
    },
    {
      "cell_type": "code",
      "execution_count": null,
      "metadata": {
        "id": "gWwmYz9aTg8M"
      },
      "outputs": [],
      "source": []
    }
  ],
  "metadata": {
    "accelerator": "GPU",
    "colab": {
      "collapsed_sections": [
        "mqDj-vqkHJ3I",
        "NH7p6F1dHJ0_",
        "GENl161DwAU2",
        "tH5T6ZW48gaz",
        "_GZuf-7BN7sr",
        "UDnO039MwMwy",
        "WC2h2YnIwQRJ",
        "7wdLLpt7wnV-",
        "f24z1_8U1Jar",
        "6zPnTFp41RF8",
        "fdO7A02m1ZRZ"
      ],
      "provenance": []
    },
    "gpuClass": "standard",
    "kernelspec": {
      "display_name": "Python 3",
      "name": "python3"
    },
    "language_info": {
      "name": "python"
    }
  },
  "nbformat": 4,
  "nbformat_minor": 0
}
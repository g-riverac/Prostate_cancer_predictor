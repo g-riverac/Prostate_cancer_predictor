{
  "cells": [
    {
      "cell_type": "markdown",
      "source": [
        "<h1><center>Gestión de la base de datos</center></h1>\n",
        "\n",
        "__Objetivo:__ Utilizar la librería de python __\"Pandas\"__ para, mediante dataframes, gestionar los directorios de los archivos dicom y mhd, y así poder facilitar el entrenamiento de los diferentes modelos."
      ],
      "metadata": {
        "id": "DHsKdR86VuO3"
      }
    },
    {
      "cell_type": "markdown",
      "metadata": {
        "id": "mqDj-vqkHJ3I"
      },
      "source": [
        "# Instalaciones"
      ]
    },
    {
      "cell_type": "code",
      "execution_count": null,
      "metadata": {
        "colab": {
          "base_uri": "https://localhost:8080/"
        },
        "id": "8gQh1JY2Hqlw",
        "outputId": "5af96be8-b02a-4566-8da9-0dfc4c011623"
      },
      "outputs": [
        {
          "output_type": "stream",
          "name": "stdout",
          "text": [
            "Looking in indexes: https://pypi.org/simple, https://us-python.pkg.dev/colab-wheels/public/simple/\n",
            "Collecting pydicom\n",
            "  Downloading pydicom-2.3.0-py3-none-any.whl (2.0 MB)\n",
            "\u001b[K     |████████████████████████████████| 2.0 MB 8.2 MB/s \n",
            "\u001b[?25hInstalling collected packages: pydicom\n",
            "Successfully installed pydicom-2.3.0\n",
            "Looking in indexes: https://pypi.org/simple, https://us-python.pkg.dev/colab-wheels/public/simple/\n",
            "Collecting SimpleITK\n",
            "  Downloading SimpleITK-2.1.1.2-cp37-cp37m-manylinux_2_12_x86_64.manylinux2010_x86_64.whl (48.4 MB)\n",
            "\u001b[K     |████████████████████████████████| 48.4 MB 2.2 MB/s \n",
            "\u001b[?25hInstalling collected packages: SimpleITK\n",
            "Successfully installed SimpleITK-2.1.1.2\n"
          ]
        }
      ],
      "source": [
        "!pip install pydicom          #Librería para procesar archivos dicom\n",
        "!pip install SimpleITK        #Librería para procesar archivos mhd"
      ]
    },
    {
      "cell_type": "markdown",
      "metadata": {
        "id": "NH7p6F1dHJ0_"
      },
      "source": [
        "# Librerías"
      ]
    },
    {
      "cell_type": "code",
      "execution_count": null,
      "metadata": {
        "id": "Zs3MIiS_Hq74"
      },
      "outputs": [],
      "source": [
        "#otros\n",
        "import os\n",
        "import re\n",
        "import cv2\n",
        "import pickle\n",
        "import shutil\n",
        "from glob import glob\n",
        "from PIL import Image\n",
        "\n",
        "\n",
        "#basicos\n",
        "import numpy as np\n",
        "import pandas as pd\n",
        "\n",
        "#visualización\n",
        "import seaborn as sns\n",
        "import matplotlib.pyplot as plt\n",
        "from matplotlib.ticker import MaxNLocator\n",
        "%matplotlib inline\n",
        "\n",
        "#tensores\n",
        "import tensorflow as tf\n",
        "\n",
        "#sklearn\n",
        "from sklearn.model_selection import train_test_split\n",
        "\n",
        "#dicom\n",
        "import pydicom as dicom\n",
        "\n",
        "#mhd\n",
        "import SimpleITK as sitk\n"
      ]
    },
    {
      "cell_type": "markdown",
      "metadata": {
        "id": "ADhL8qktHJya"
      },
      "source": [
        "# Funciones auxiliares"
      ]
    },
    {
      "cell_type": "code",
      "execution_count": null,
      "metadata": {
        "id": "9tbDU-07Zb5c"
      },
      "outputs": [],
      "source": [
        "#Clase para crear los batches con la info contenida en dataframes.\n",
        "\n",
        "class DicomDataGen(tf.keras.utils.Sequence):\n",
        "    \n",
        "    def __init__(self, df, X_col, y_col,\n",
        "                 batch_size,\n",
        "                 input_size=(224, 224, 19),\n",
        "                 shuffle=True):\n",
        "        \n",
        "        self.df = df.copy()\n",
        "        self.X_col = X_col\n",
        "        self.y_col = y_col\n",
        "        self.batch_size = batch_size\n",
        "        self.input_size = input_size\n",
        "        self.shuffle = shuffle\n",
        "        \n",
        "        self.n = len(self.df)\n",
        "        self.n_name = df[y_col['name']].nunique()\n",
        "    \n",
        "    def on_epoch_end(self):\n",
        "        if self.shuffle:\n",
        "            self.df = self.df.sample(frac=1).reset_index(drop=True)\n",
        "    \n",
        "    def __get_input(self, dcm_path, target_size):\n",
        "    \n",
        "        dicoms=[]\n",
        "        cont=0\n",
        "        files_patients=sorted(glob(dcm_path+'/*'))\n",
        "        dicoms=np.zeros((len(files_patients),)+target_size)\n",
        "        for file_dcm in files_patients:\n",
        "          image_array = dicom.dcmread(file_dcm).pixel_array\n",
        "          image_array = cv2.resize(image_array, target_size[0:2], interpolation=cv2.INTER_NEAREST)  \n",
        "          dicoms[cont]=image_array/255. \n",
        "          cont+=1\n",
        "        dicoms=np.array(dicoms,dtype='f')\n",
        "        # dicoms=dicoms.reshape((dicoms.shape[1], dicoms.shape[2],dicoms.shape[0]))\n",
        "        return dicoms\n",
        "\n",
        "    def __get_output(self, label, num_classes):\n",
        "        return np.array(label,dtype='f')\n",
        "    \n",
        "    def __get_data(self, batches):\n",
        "        # Generates data containing batch_size samples\n",
        "\n",
        "        path_batch = batches[self.X_col['path']]\n",
        "              \n",
        "        name_batch = batches[self.y_col['name']]\n",
        "\n",
        "        X_batch = np.expand_dims(np.asarray([self.__get_input(x, self.input_size) for x in path_batch]), 1)\n",
        "\n",
        "        y0_batch = np.asarray([self.__get_output(y, self.n_name) for y in name_batch])\n",
        "\n",
        "        return X_batch, y0_batch\n",
        "    \n",
        "    def __getitem__(self, index):\n",
        "        \n",
        "        batches = self.df[index * self.batch_size:(index + 1) * self.batch_size]\n",
        "        X, y = self.__get_data(batches)        \n",
        "        return X, y\n",
        "    \n",
        "    def __len__(self):\n",
        "        return self.n // self.batch_size"
      ]
    },
    {
      "cell_type": "markdown",
      "metadata": {
        "id": "R1SeHk8EHJwP"
      },
      "source": [
        "# Importar dataset"
      ]
    },
    {
      "cell_type": "code",
      "execution_count": null,
      "metadata": {
        "id": "PvEukVKXNtjD"
      },
      "outputs": [],
      "source": [
        "COLAB = True"
      ]
    },
    {
      "cell_type": "code",
      "execution_count": null,
      "metadata": {
        "colab": {
          "base_uri": "https://localhost:8080/"
        },
        "id": "drTTuPQPNthF",
        "outputId": "0f4bb41e-f9c5-4324-cae6-98cd2a075fd5"
      },
      "outputs": [
        {
          "output_type": "stream",
          "name": "stdout",
          "text": [
            "Mounted at /content/drive\n"
          ]
        }
      ],
      "source": [
        "if COLAB:\n",
        "    from google.colab import drive\n",
        "    drive.mount('/content/drive')"
      ]
    },
    {
      "cell_type": "markdown",
      "metadata": {
        "id": "F4By__N4JRlS"
      },
      "source": [
        "### Archivos dicom"
      ]
    },
    {
      "cell_type": "code",
      "execution_count": null,
      "metadata": {
        "id": "VxbtGLTsIx3p"
      },
      "outputs": [],
      "source": [
        "path_db_dicom='/content/drive/MyDrive/Capstone/PROSTATEX_dataset/manifest-A3Y4AE4o5818678569166032044/PROSTATEx' # prostatex dicoms .dcm"
      ]
    },
    {
      "cell_type": "code",
      "execution_count": null,
      "metadata": {
        "id": "WWwA8YEsNtcf"
      },
      "outputs": [],
      "source": [
        "files_patients=sorted(glob(path_db_dicom+'/*'))"
      ]
    },
    {
      "cell_type": "code",
      "execution_count": null,
      "metadata": {
        "id": "qEOv9e1uQnik"
      },
      "outputs": [],
      "source": [
        "files_patients=[item for item in files_patients if item.split(sep='/')[-1].split(sep='-')[0]=='ProstateX']"
      ]
    },
    {
      "cell_type": "code",
      "execution_count": null,
      "metadata": {
        "id": "NSM52YoJDTjj"
      },
      "outputs": [],
      "source": [
        "patients=[item.split(sep='/')[-1] for item in files_patients]"
      ]
    },
    {
      "cell_type": "code",
      "execution_count": null,
      "metadata": {
        "id": "8MnkoVzRMj__"
      },
      "outputs": [],
      "source": [
        "list_aux=sorted(glob(files_patients[25]+'/*'))\n",
        "for item in list_aux:\n",
        "  disorder_list=[dicom.split(sep='/')[-1] for dicom in sorted(glob(item+'/*'))]"
      ]
    },
    {
      "cell_type": "code",
      "execution_count": null,
      "metadata": {
        "id": "sJc6XvxPR0bL"
      },
      "outputs": [],
      "source": [
        "files_aux=[]\n",
        "cont=[]\n",
        "patients_all=[]\n",
        "cont=0\n",
        "for path_file in files_patients:\n",
        "  list_aux=sorted(glob(path_file+'/*'))\n",
        "  for item in list_aux:\n",
        "      disorder_list=[dicom.split(sep='/')[-1] for dicom in sorted(glob(item+'/*'))]\n",
        "      for i in range(0,len(disorder_list)):\n",
        "        patients_all.append([patients[cont],disorder_list[i],item+'/'+disorder_list[i]])\n",
        "  cont+=1\n",
        "  disorder_list=[]"
      ]
    },
    {
      "cell_type": "code",
      "execution_count": null,
      "metadata": {
        "id": "IxE3Nq1NThmX"
      },
      "outputs": [],
      "source": [
        "df_patients=pd.DataFrame(patients_all)\n",
        "df_patients.columns =['patients', 'series','path_dcm']"
      ]
    },
    {
      "cell_type": "code",
      "execution_count": null,
      "metadata": {
        "id": "lL3Gz73s06RY"
      },
      "outputs": [],
      "source": [
        "df_patients=df_patients.assign(s_number=lambda dataset:dataset['series'].apply(lambda row:row.split(sep='.')[0] if row.split(sep='.')[0].isnumeric() \n",
        "                                                                                                                else 888), #888 significa que no es un valor numérico\n",
        "                               s_type=lambda dataset:dataset['series'].apply(lambda row:row.split(sep='-')[1]))"
      ]
    },
    {
      "cell_type": "code",
      "execution_count": null,
      "metadata": {
        "id": "2TBsLEs04Aa7"
      },
      "outputs": [],
      "source": [
        "df_patients['s_number']=df_patients['s_number'].astype('int32')"
      ]
    },
    {
      "cell_type": "code",
      "execution_count": null,
      "metadata": {
        "colab": {
          "base_uri": "https://localhost:8080/"
        },
        "id": "vlkwKQSYJmUN",
        "outputId": "0083779c-79b7-46a1-c3c5-0b06f4a69652"
      },
      "outputs": [
        {
          "output_type": "execute_result",
          "data": {
            "text/plain": [
              "(52, 5)"
            ]
          },
          "metadata": {},
          "execution_count": 15
        }
      ],
      "source": [
        "df_patients[df_patients['patients']=='ProstateX-0000'].shape"
      ]
    },
    {
      "cell_type": "code",
      "execution_count": null,
      "metadata": {
        "colab": {
          "base_uri": "https://localhost:8080/"
        },
        "id": "kow82gxH2IJ8",
        "outputId": "eccc1715-dd8f-4f82-ba91-2b4b1befee3f"
      },
      "outputs": [
        {
          "output_type": "execute_result",
          "data": {
            "text/plain": [
              "8      347\n",
              "7      347\n",
              "26     346\n",
              "28     346\n",
              "9      346\n",
              "      ... \n",
              "114      1\n",
              "115      1\n",
              "116      1\n",
              "117      1\n",
              "109      1\n",
              "Name: s_number, Length: 116, dtype: int64"
            ]
          },
          "metadata": {},
          "execution_count": 16
        }
      ],
      "source": [
        "df_patients['s_number'].value_counts()"
      ]
    },
    {
      "cell_type": "code",
      "execution_count": null,
      "metadata": {
        "colab": {
          "base_uri": "https://localhost:8080/"
        },
        "id": "DCBhD8dCHMXC",
        "outputId": "53f5ff29-108d-4a1a-866c-dccd34650db5"
      },
      "outputs": [
        {
          "output_type": "execute_result",
          "data": {
            "text/plain": [
              "Empty DataFrame\n",
              "Columns: [patients, series, path_dcm, s_number, s_type]\n",
              "Index: []"
            ],
            "text/html": [
              "\n",
              "  <div id=\"df-86e78a56-65d3-4b81-9f82-e0970588f28f\">\n",
              "    <div class=\"colab-df-container\">\n",
              "      <div>\n",
              "<style scoped>\n",
              "    .dataframe tbody tr th:only-of-type {\n",
              "        vertical-align: middle;\n",
              "    }\n",
              "\n",
              "    .dataframe tbody tr th {\n",
              "        vertical-align: top;\n",
              "    }\n",
              "\n",
              "    .dataframe thead th {\n",
              "        text-align: right;\n",
              "    }\n",
              "</style>\n",
              "<table border=\"1\" class=\"dataframe\">\n",
              "  <thead>\n",
              "    <tr style=\"text-align: right;\">\n",
              "      <th></th>\n",
              "      <th>patients</th>\n",
              "      <th>series</th>\n",
              "      <th>path_dcm</th>\n",
              "      <th>s_number</th>\n",
              "      <th>s_type</th>\n",
              "    </tr>\n",
              "  </thead>\n",
              "  <tbody>\n",
              "  </tbody>\n",
              "</table>\n",
              "</div>\n",
              "      <button class=\"colab-df-convert\" onclick=\"convertToInteractive('df-86e78a56-65d3-4b81-9f82-e0970588f28f')\"\n",
              "              title=\"Convert this dataframe to an interactive table.\"\n",
              "              style=\"display:none;\">\n",
              "        \n",
              "  <svg xmlns=\"http://www.w3.org/2000/svg\" height=\"24px\"viewBox=\"0 0 24 24\"\n",
              "       width=\"24px\">\n",
              "    <path d=\"M0 0h24v24H0V0z\" fill=\"none\"/>\n",
              "    <path d=\"M18.56 5.44l.94 2.06.94-2.06 2.06-.94-2.06-.94-.94-2.06-.94 2.06-2.06.94zm-11 1L8.5 8.5l.94-2.06 2.06-.94-2.06-.94L8.5 2.5l-.94 2.06-2.06.94zm10 10l.94 2.06.94-2.06 2.06-.94-2.06-.94-.94-2.06-.94 2.06-2.06.94z\"/><path d=\"M17.41 7.96l-1.37-1.37c-.4-.4-.92-.59-1.43-.59-.52 0-1.04.2-1.43.59L10.3 9.45l-7.72 7.72c-.78.78-.78 2.05 0 2.83L4 21.41c.39.39.9.59 1.41.59.51 0 1.02-.2 1.41-.59l7.78-7.78 2.81-2.81c.8-.78.8-2.07 0-2.86zM5.41 20L4 18.59l7.72-7.72 1.47 1.35L5.41 20z\"/>\n",
              "  </svg>\n",
              "      </button>\n",
              "      \n",
              "  <style>\n",
              "    .colab-df-container {\n",
              "      display:flex;\n",
              "      flex-wrap:wrap;\n",
              "      gap: 12px;\n",
              "    }\n",
              "\n",
              "    .colab-df-convert {\n",
              "      background-color: #E8F0FE;\n",
              "      border: none;\n",
              "      border-radius: 50%;\n",
              "      cursor: pointer;\n",
              "      display: none;\n",
              "      fill: #1967D2;\n",
              "      height: 32px;\n",
              "      padding: 0 0 0 0;\n",
              "      width: 32px;\n",
              "    }\n",
              "\n",
              "    .colab-df-convert:hover {\n",
              "      background-color: #E2EBFA;\n",
              "      box-shadow: 0px 1px 2px rgba(60, 64, 67, 0.3), 0px 1px 3px 1px rgba(60, 64, 67, 0.15);\n",
              "      fill: #174EA6;\n",
              "    }\n",
              "\n",
              "    [theme=dark] .colab-df-convert {\n",
              "      background-color: #3B4455;\n",
              "      fill: #D2E3FC;\n",
              "    }\n",
              "\n",
              "    [theme=dark] .colab-df-convert:hover {\n",
              "      background-color: #434B5C;\n",
              "      box-shadow: 0px 1px 3px 1px rgba(0, 0, 0, 0.15);\n",
              "      filter: drop-shadow(0px 1px 2px rgba(0, 0, 0, 0.3));\n",
              "      fill: #FFFFFF;\n",
              "    }\n",
              "  </style>\n",
              "\n",
              "      <script>\n",
              "        const buttonEl =\n",
              "          document.querySelector('#df-86e78a56-65d3-4b81-9f82-e0970588f28f button.colab-df-convert');\n",
              "        buttonEl.style.display =\n",
              "          google.colab.kernel.accessAllowed ? 'block' : 'none';\n",
              "\n",
              "        async function convertToInteractive(key) {\n",
              "          const element = document.querySelector('#df-86e78a56-65d3-4b81-9f82-e0970588f28f');\n",
              "          const dataTable =\n",
              "            await google.colab.kernel.invokeFunction('convertToInteractive',\n",
              "                                                     [key], {});\n",
              "          if (!dataTable) return;\n",
              "\n",
              "          const docLinkHtml = 'Like what you see? Visit the ' +\n",
              "            '<a target=\"_blank\" href=https://colab.research.google.com/notebooks/data_table.ipynb>data table notebook</a>'\n",
              "            + ' to learn more about interactive tables.';\n",
              "          element.innerHTML = '';\n",
              "          dataTable['output_type'] = 'display_data';\n",
              "          await google.colab.output.renderOutput(dataTable, element);\n",
              "          const docLink = document.createElement('div');\n",
              "          docLink.innerHTML = docLinkHtml;\n",
              "          element.appendChild(docLink);\n",
              "        }\n",
              "      </script>\n",
              "    </div>\n",
              "  </div>\n",
              "  "
            ]
          },
          "metadata": {},
          "execution_count": 17
        }
      ],
      "source": [
        "df_patients[df_patients['s_number']==888]"
      ]
    },
    {
      "cell_type": "code",
      "execution_count": null,
      "metadata": {
        "colab": {
          "base_uri": "https://localhost:8080/"
        },
        "id": "gE7otgyt1xl7",
        "outputId": "f0e82da5-1744-4944-dfe0-8ff5652c1211"
      },
      "outputs": [
        {
          "output_type": "stream",
          "name": "stdout",
          "text": [
            "<class 'pandas.core.frame.DataFrame'>\n",
            "RangeIndex: 18321 entries, 0 to 18320\n",
            "Data columns (total 5 columns):\n",
            " #   Column    Non-Null Count  Dtype \n",
            "---  ------    --------------  ----- \n",
            " 0   patients  18321 non-null  object\n",
            " 1   series    18321 non-null  object\n",
            " 2   path_dcm  18321 non-null  object\n",
            " 3   s_number  18321 non-null  int32 \n",
            " 4   s_type    18321 non-null  object\n",
            "dtypes: int32(1), object(4)\n",
            "memory usage: 644.2+ KB\n"
          ]
        }
      ],
      "source": [
        "df_patients.info()"
      ]
    },
    {
      "cell_type": "code",
      "execution_count": null,
      "metadata": {
        "colab": {
          "base_uri": "https://localhost:8080/"
        },
        "id": "m1RXBhYEp5s3",
        "outputId": "d7f79468-b730-4454-a091-718f26e1e477"
      },
      "outputs": [
        {
          "output_type": "execute_result",
          "data": {
            "text/plain": [
              "'/content/drive/MyDrive/Capstone/PROSTATEX_dataset/manifest-A3Y4AE4o5818678569166032044/PROSTATEx/ProstateX-0000/07-07-2011-NA-MR prostaat kanker detectie WDSmc MCAPRODETW-05711/10.000000-tfldynfasttra1.5x1.5t3.5sec-58929'"
            ],
            "application/vnd.google.colaboratory.intrinsic+json": {
              "type": "string"
            }
          },
          "metadata": {},
          "execution_count": 19
        }
      ],
      "source": [
        "df_patients['path_dcm'].loc[0]"
      ]
    },
    {
      "cell_type": "code",
      "execution_count": null,
      "metadata": {
        "colab": {
          "base_uri": "https://localhost:8080/"
        },
        "id": "w8YudqXhXhZi",
        "outputId": "a21cb68e-ecd9-4398-b7b9-29522c5a65c8"
      },
      "outputs": [
        {
          "output_type": "execute_result",
          "data": {
            "text/plain": [
              "         patients                                       series  \\\n",
              "0  ProstateX-0000  10.000000-tfldynfasttra1.5x1.5t3.5sec-58929   \n",
              "1  ProstateX-0000  11.000000-tfldynfasttra1.5x1.5t3.5sec-93717   \n",
              "2  ProstateX-0000  12.000000-tfldynfasttra1.5x1.5t3.5sec-01678   \n",
              "3  ProstateX-0000  13.000000-tfldynfasttra1.5x1.5t3.5sec-18051   \n",
              "4  ProstateX-0000  14.000000-tfldynfasttra1.5x1.5t3.5sec-14900   \n",
              "\n",
              "                                            path_dcm  s_number  \\\n",
              "0  /content/drive/MyDrive/Capstone/PROSTATEX_data...        10   \n",
              "1  /content/drive/MyDrive/Capstone/PROSTATEX_data...        11   \n",
              "2  /content/drive/MyDrive/Capstone/PROSTATEX_data...        12   \n",
              "3  /content/drive/MyDrive/Capstone/PROSTATEX_data...        13   \n",
              "4  /content/drive/MyDrive/Capstone/PROSTATEX_data...        14   \n",
              "\n",
              "                        s_type  \n",
              "0  tfldynfasttra1.5x1.5t3.5sec  \n",
              "1  tfldynfasttra1.5x1.5t3.5sec  \n",
              "2  tfldynfasttra1.5x1.5t3.5sec  \n",
              "3  tfldynfasttra1.5x1.5t3.5sec  \n",
              "4  tfldynfasttra1.5x1.5t3.5sec  "
            ],
            "text/html": [
              "\n",
              "  <div id=\"df-a3d37173-ae17-425f-b70b-0b173ada5bd1\">\n",
              "    <div class=\"colab-df-container\">\n",
              "      <div>\n",
              "<style scoped>\n",
              "    .dataframe tbody tr th:only-of-type {\n",
              "        vertical-align: middle;\n",
              "    }\n",
              "\n",
              "    .dataframe tbody tr th {\n",
              "        vertical-align: top;\n",
              "    }\n",
              "\n",
              "    .dataframe thead th {\n",
              "        text-align: right;\n",
              "    }\n",
              "</style>\n",
              "<table border=\"1\" class=\"dataframe\">\n",
              "  <thead>\n",
              "    <tr style=\"text-align: right;\">\n",
              "      <th></th>\n",
              "      <th>patients</th>\n",
              "      <th>series</th>\n",
              "      <th>path_dcm</th>\n",
              "      <th>s_number</th>\n",
              "      <th>s_type</th>\n",
              "    </tr>\n",
              "  </thead>\n",
              "  <tbody>\n",
              "    <tr>\n",
              "      <th>0</th>\n",
              "      <td>ProstateX-0000</td>\n",
              "      <td>10.000000-tfldynfasttra1.5x1.5t3.5sec-58929</td>\n",
              "      <td>/content/drive/MyDrive/Capstone/PROSTATEX_data...</td>\n",
              "      <td>10</td>\n",
              "      <td>tfldynfasttra1.5x1.5t3.5sec</td>\n",
              "    </tr>\n",
              "    <tr>\n",
              "      <th>1</th>\n",
              "      <td>ProstateX-0000</td>\n",
              "      <td>11.000000-tfldynfasttra1.5x1.5t3.5sec-93717</td>\n",
              "      <td>/content/drive/MyDrive/Capstone/PROSTATEX_data...</td>\n",
              "      <td>11</td>\n",
              "      <td>tfldynfasttra1.5x1.5t3.5sec</td>\n",
              "    </tr>\n",
              "    <tr>\n",
              "      <th>2</th>\n",
              "      <td>ProstateX-0000</td>\n",
              "      <td>12.000000-tfldynfasttra1.5x1.5t3.5sec-01678</td>\n",
              "      <td>/content/drive/MyDrive/Capstone/PROSTATEX_data...</td>\n",
              "      <td>12</td>\n",
              "      <td>tfldynfasttra1.5x1.5t3.5sec</td>\n",
              "    </tr>\n",
              "    <tr>\n",
              "      <th>3</th>\n",
              "      <td>ProstateX-0000</td>\n",
              "      <td>13.000000-tfldynfasttra1.5x1.5t3.5sec-18051</td>\n",
              "      <td>/content/drive/MyDrive/Capstone/PROSTATEX_data...</td>\n",
              "      <td>13</td>\n",
              "      <td>tfldynfasttra1.5x1.5t3.5sec</td>\n",
              "    </tr>\n",
              "    <tr>\n",
              "      <th>4</th>\n",
              "      <td>ProstateX-0000</td>\n",
              "      <td>14.000000-tfldynfasttra1.5x1.5t3.5sec-14900</td>\n",
              "      <td>/content/drive/MyDrive/Capstone/PROSTATEX_data...</td>\n",
              "      <td>14</td>\n",
              "      <td>tfldynfasttra1.5x1.5t3.5sec</td>\n",
              "    </tr>\n",
              "  </tbody>\n",
              "</table>\n",
              "</div>\n",
              "      <button class=\"colab-df-convert\" onclick=\"convertToInteractive('df-a3d37173-ae17-425f-b70b-0b173ada5bd1')\"\n",
              "              title=\"Convert this dataframe to an interactive table.\"\n",
              "              style=\"display:none;\">\n",
              "        \n",
              "  <svg xmlns=\"http://www.w3.org/2000/svg\" height=\"24px\"viewBox=\"0 0 24 24\"\n",
              "       width=\"24px\">\n",
              "    <path d=\"M0 0h24v24H0V0z\" fill=\"none\"/>\n",
              "    <path d=\"M18.56 5.44l.94 2.06.94-2.06 2.06-.94-2.06-.94-.94-2.06-.94 2.06-2.06.94zm-11 1L8.5 8.5l.94-2.06 2.06-.94-2.06-.94L8.5 2.5l-.94 2.06-2.06.94zm10 10l.94 2.06.94-2.06 2.06-.94-2.06-.94-.94-2.06-.94 2.06-2.06.94z\"/><path d=\"M17.41 7.96l-1.37-1.37c-.4-.4-.92-.59-1.43-.59-.52 0-1.04.2-1.43.59L10.3 9.45l-7.72 7.72c-.78.78-.78 2.05 0 2.83L4 21.41c.39.39.9.59 1.41.59.51 0 1.02-.2 1.41-.59l7.78-7.78 2.81-2.81c.8-.78.8-2.07 0-2.86zM5.41 20L4 18.59l7.72-7.72 1.47 1.35L5.41 20z\"/>\n",
              "  </svg>\n",
              "      </button>\n",
              "      \n",
              "  <style>\n",
              "    .colab-df-container {\n",
              "      display:flex;\n",
              "      flex-wrap:wrap;\n",
              "      gap: 12px;\n",
              "    }\n",
              "\n",
              "    .colab-df-convert {\n",
              "      background-color: #E8F0FE;\n",
              "      border: none;\n",
              "      border-radius: 50%;\n",
              "      cursor: pointer;\n",
              "      display: none;\n",
              "      fill: #1967D2;\n",
              "      height: 32px;\n",
              "      padding: 0 0 0 0;\n",
              "      width: 32px;\n",
              "    }\n",
              "\n",
              "    .colab-df-convert:hover {\n",
              "      background-color: #E2EBFA;\n",
              "      box-shadow: 0px 1px 2px rgba(60, 64, 67, 0.3), 0px 1px 3px 1px rgba(60, 64, 67, 0.15);\n",
              "      fill: #174EA6;\n",
              "    }\n",
              "\n",
              "    [theme=dark] .colab-df-convert {\n",
              "      background-color: #3B4455;\n",
              "      fill: #D2E3FC;\n",
              "    }\n",
              "\n",
              "    [theme=dark] .colab-df-convert:hover {\n",
              "      background-color: #434B5C;\n",
              "      box-shadow: 0px 1px 3px 1px rgba(0, 0, 0, 0.15);\n",
              "      filter: drop-shadow(0px 1px 2px rgba(0, 0, 0, 0.3));\n",
              "      fill: #FFFFFF;\n",
              "    }\n",
              "  </style>\n",
              "\n",
              "      <script>\n",
              "        const buttonEl =\n",
              "          document.querySelector('#df-a3d37173-ae17-425f-b70b-0b173ada5bd1 button.colab-df-convert');\n",
              "        buttonEl.style.display =\n",
              "          google.colab.kernel.accessAllowed ? 'block' : 'none';\n",
              "\n",
              "        async function convertToInteractive(key) {\n",
              "          const element = document.querySelector('#df-a3d37173-ae17-425f-b70b-0b173ada5bd1');\n",
              "          const dataTable =\n",
              "            await google.colab.kernel.invokeFunction('convertToInteractive',\n",
              "                                                     [key], {});\n",
              "          if (!dataTable) return;\n",
              "\n",
              "          const docLinkHtml = 'Like what you see? Visit the ' +\n",
              "            '<a target=\"_blank\" href=https://colab.research.google.com/notebooks/data_table.ipynb>data table notebook</a>'\n",
              "            + ' to learn more about interactive tables.';\n",
              "          element.innerHTML = '';\n",
              "          dataTable['output_type'] = 'display_data';\n",
              "          await google.colab.output.renderOutput(dataTable, element);\n",
              "          const docLink = document.createElement('div');\n",
              "          docLink.innerHTML = docLinkHtml;\n",
              "          element.appendChild(docLink);\n",
              "        }\n",
              "      </script>\n",
              "    </div>\n",
              "  </div>\n",
              "  "
            ]
          },
          "metadata": {},
          "execution_count": 20
        }
      ],
      "source": [
        "df_patients.head(5)"
      ]
    },
    {
      "cell_type": "code",
      "execution_count": null,
      "metadata": {
        "colab": {
          "base_uri": "https://localhost:8080/"
        },
        "id": "6bCVUyPiCo5q",
        "outputId": "06ee6391-3a03-42af-ccba-9a67f263da09"
      },
      "outputs": [
        {
          "output_type": "execute_result",
          "data": {
            "text/plain": [
              "tfldynfasttra1.5x1.5t3.5sec                           14435\n",
              "tfl3d dynamisch fast                                    847\n",
              "t2tsetra                                                427\n",
              "t2tsesag                                                370\n",
              "t2tsecor                                                348\n",
              "tfl3d PD reftra1.5x1.5t3                                322\n",
              "ep2ddifftraDYNDIST                                      234\n",
              "ep2ddifftraDYNDISTADC                                   234\n",
              "ep2ddifftraDYNDISTCALCBVAL                              234\n",
              "t2localizer                                             124\n",
              "t2loc sag                                               122\n",
              "diffusie                                                 69\n",
              "ep2ddifftraDYNDISTMIXADC                                 58\n",
              "ep2ddifftraDYNDISTMIXCALCBVAL                            58\n",
              "ep2ddifftraDYNDISTMIX                                    58\n",
              "diff tra b 50 500 800 WIP511b alle spoelen               32\n",
              "diff tra b 50 500 800 WIP511b alle spoelenCALCBVAL       32\n",
              "diff tra b 50 500 800 WIP511b alle spoelenADC            32\n",
              "tfl3d PD reference                                       25\n",
              "t2localizerprostate                                      23\n",
              "Name: s_type, dtype: int64"
            ]
          },
          "metadata": {},
          "execution_count": 21
        }
      ],
      "source": [
        "df_patients['s_type'].value_counts()[:20]"
      ]
    },
    {
      "cell_type": "markdown",
      "metadata": {
        "id": "-tzk3QY6y5oO"
      },
      "source": [
        "Se crea el dataframe patients con la información de las carpetas de cada serie y de cada paciente, así como su respectivo directorio (path_dcm), tipo (s_type) y s_number (número de serie)."
      ]
    },
    {
      "cell_type": "markdown",
      "source": [
        "#### Exportar dataframe"
      ],
      "metadata": {
        "id": "piLEmQHxa0gX"
      }
    },
    {
      "cell_type": "code",
      "source": [
        "path_pickle='/content/drive/MyDrive/Capstone/PROSTATEX_dataset/pickles/'\n",
        "pickle_out=open(path_pickle+\"df_patients_dcm.pickle\",\"wb\")\n",
        "pickle.dump(df_patients,pickle_out)\n",
        "pickle_out.close()"
      ],
      "metadata": {
        "id": "oZ-i4ROoa3zo"
      },
      "execution_count": null,
      "outputs": []
    },
    {
      "cell_type": "markdown",
      "metadata": {
        "id": "3oO_LUG3JRaF"
      },
      "source": [
        "### Archivos mhd"
      ]
    },
    {
      "cell_type": "code",
      "execution_count": null,
      "metadata": {
        "id": "U1TYsnZCJf6J"
      },
      "outputs": [],
      "source": [
        "path_db_mhd='/content/drive/MyDrive/Capstone/PROSTATEX_dataset/k_trans' #prostatex ktrans .mhd"
      ]
    },
    {
      "cell_type": "code",
      "execution_count": null,
      "metadata": {
        "colab": {
          "base_uri": "https://localhost:8080/"
        },
        "id": "mfnJn-1LdEm-",
        "outputId": "dbcb55e0-e360-40dd-a7aa-37113a4cba71"
      },
      "outputs": [
        {
          "output_type": "execute_result",
          "data": {
            "text/plain": [
              "'/content/drive/MyDrive/Capstone/PROSTATEX_dataset/k_trans/ProstateX-0000'"
            ],
            "application/vnd.google.colaboratory.intrinsic+json": {
              "type": "string"
            }
          },
          "metadata": {},
          "execution_count": 24
        }
      ],
      "source": [
        "Kt_files_patients=sorted(glob(path_db_mhd+'/*'))\n",
        "Kt_files_patients[0]"
      ]
    },
    {
      "cell_type": "code",
      "execution_count": null,
      "metadata": {
        "id": "nduWJfF-hRI-"
      },
      "outputs": [],
      "source": [
        "disorder_list=[]\n",
        "list_aux=sorted(glob(Kt_files_patients[0]+'/*'))\n",
        "for mhd in list_aux:\n",
        "  disorder_list.append(mhd.split(sep='/')[-1])"
      ]
    },
    {
      "cell_type": "code",
      "execution_count": null,
      "metadata": {
        "id": "EYHrkWpghRI_"
      },
      "outputs": [],
      "source": [
        "files_aux=[]\n",
        "cont=[]\n",
        "patients_all_mhd=[]\n",
        "cont=0\n",
        "for path_file in Kt_files_patients:\n",
        "  list_aux=sorted(glob(path_file+'/*'))\n",
        "  disorder_list=[mhd.split(sep='/')[-1] for mhd in list_aux if mhd.split(sep='.')[-1]=='mhd']\n",
        "  for i in range(0,len(disorder_list)):\n",
        "    patients_all_mhd.append([patients[cont],disorder_list[i]])\n",
        "  cont+=1\n",
        "  disorder_list=[]"
      ]
    },
    {
      "cell_type": "code",
      "execution_count": null,
      "metadata": {
        "id": "r4H630Ln4A_7"
      },
      "outputs": [],
      "source": [
        "df_patients_all_mhd=pd.DataFrame(patients_all_mhd,columns=['patient','file'])\n",
        "df_patients_all_mhd=df_patients_all_mhd.assign(path=path_db_mhd+'/'+df_patients_all_mhd['patient']+'/'+df_patients_all_mhd['file'])"
      ]
    },
    {
      "cell_type": "code",
      "execution_count": null,
      "metadata": {
        "colab": {
          "base_uri": "https://localhost:8080/"
        },
        "id": "BVO3KLmvJVQR",
        "outputId": "4babcce1-f173-432b-9e9c-3cc0e2fd83ba"
      },
      "outputs": [
        {
          "output_type": "execute_result",
          "data": {
            "text/plain": [
              "(204, 3)"
            ]
          },
          "metadata": {},
          "execution_count": 28
        }
      ],
      "source": [
        "df_patients_all_mhd.shape"
      ]
    },
    {
      "cell_type": "code",
      "execution_count": null,
      "metadata": {
        "colab": {
          "base_uri": "https://localhost:8080/"
        },
        "id": "kPdkHi_55uej",
        "outputId": "f202b72a-123c-45c1-8a9c-1665e705c95a"
      },
      "outputs": [
        {
          "output_type": "execute_result",
          "data": {
            "text/plain": [
              "          patient                       file  \\\n",
              "0  ProstateX-0000  ProstateX-0000-Ktrans.mhd   \n",
              "1  ProstateX-0001  ProstateX-0001-Ktrans.mhd   \n",
              "2  ProstateX-0002  ProstateX-0002-Ktrans.mhd   \n",
              "3  ProstateX-0003  ProstateX-0003-Ktrans.mhd   \n",
              "4  ProstateX-0004  ProstateX-0004-Ktrans.mhd   \n",
              "\n",
              "                                                path  \n",
              "0  /content/drive/MyDrive/Capstone/PROSTATEX_data...  \n",
              "1  /content/drive/MyDrive/Capstone/PROSTATEX_data...  \n",
              "2  /content/drive/MyDrive/Capstone/PROSTATEX_data...  \n",
              "3  /content/drive/MyDrive/Capstone/PROSTATEX_data...  \n",
              "4  /content/drive/MyDrive/Capstone/PROSTATEX_data...  "
            ],
            "text/html": [
              "\n",
              "  <div id=\"df-6e5e8ac0-a793-4067-abb0-995da931da62\">\n",
              "    <div class=\"colab-df-container\">\n",
              "      <div>\n",
              "<style scoped>\n",
              "    .dataframe tbody tr th:only-of-type {\n",
              "        vertical-align: middle;\n",
              "    }\n",
              "\n",
              "    .dataframe tbody tr th {\n",
              "        vertical-align: top;\n",
              "    }\n",
              "\n",
              "    .dataframe thead th {\n",
              "        text-align: right;\n",
              "    }\n",
              "</style>\n",
              "<table border=\"1\" class=\"dataframe\">\n",
              "  <thead>\n",
              "    <tr style=\"text-align: right;\">\n",
              "      <th></th>\n",
              "      <th>patient</th>\n",
              "      <th>file</th>\n",
              "      <th>path</th>\n",
              "    </tr>\n",
              "  </thead>\n",
              "  <tbody>\n",
              "    <tr>\n",
              "      <th>0</th>\n",
              "      <td>ProstateX-0000</td>\n",
              "      <td>ProstateX-0000-Ktrans.mhd</td>\n",
              "      <td>/content/drive/MyDrive/Capstone/PROSTATEX_data...</td>\n",
              "    </tr>\n",
              "    <tr>\n",
              "      <th>1</th>\n",
              "      <td>ProstateX-0001</td>\n",
              "      <td>ProstateX-0001-Ktrans.mhd</td>\n",
              "      <td>/content/drive/MyDrive/Capstone/PROSTATEX_data...</td>\n",
              "    </tr>\n",
              "    <tr>\n",
              "      <th>2</th>\n",
              "      <td>ProstateX-0002</td>\n",
              "      <td>ProstateX-0002-Ktrans.mhd</td>\n",
              "      <td>/content/drive/MyDrive/Capstone/PROSTATEX_data...</td>\n",
              "    </tr>\n",
              "    <tr>\n",
              "      <th>3</th>\n",
              "      <td>ProstateX-0003</td>\n",
              "      <td>ProstateX-0003-Ktrans.mhd</td>\n",
              "      <td>/content/drive/MyDrive/Capstone/PROSTATEX_data...</td>\n",
              "    </tr>\n",
              "    <tr>\n",
              "      <th>4</th>\n",
              "      <td>ProstateX-0004</td>\n",
              "      <td>ProstateX-0004-Ktrans.mhd</td>\n",
              "      <td>/content/drive/MyDrive/Capstone/PROSTATEX_data...</td>\n",
              "    </tr>\n",
              "  </tbody>\n",
              "</table>\n",
              "</div>\n",
              "      <button class=\"colab-df-convert\" onclick=\"convertToInteractive('df-6e5e8ac0-a793-4067-abb0-995da931da62')\"\n",
              "              title=\"Convert this dataframe to an interactive table.\"\n",
              "              style=\"display:none;\">\n",
              "        \n",
              "  <svg xmlns=\"http://www.w3.org/2000/svg\" height=\"24px\"viewBox=\"0 0 24 24\"\n",
              "       width=\"24px\">\n",
              "    <path d=\"M0 0h24v24H0V0z\" fill=\"none\"/>\n",
              "    <path d=\"M18.56 5.44l.94 2.06.94-2.06 2.06-.94-2.06-.94-.94-2.06-.94 2.06-2.06.94zm-11 1L8.5 8.5l.94-2.06 2.06-.94-2.06-.94L8.5 2.5l-.94 2.06-2.06.94zm10 10l.94 2.06.94-2.06 2.06-.94-2.06-.94-.94-2.06-.94 2.06-2.06.94z\"/><path d=\"M17.41 7.96l-1.37-1.37c-.4-.4-.92-.59-1.43-.59-.52 0-1.04.2-1.43.59L10.3 9.45l-7.72 7.72c-.78.78-.78 2.05 0 2.83L4 21.41c.39.39.9.59 1.41.59.51 0 1.02-.2 1.41-.59l7.78-7.78 2.81-2.81c.8-.78.8-2.07 0-2.86zM5.41 20L4 18.59l7.72-7.72 1.47 1.35L5.41 20z\"/>\n",
              "  </svg>\n",
              "      </button>\n",
              "      \n",
              "  <style>\n",
              "    .colab-df-container {\n",
              "      display:flex;\n",
              "      flex-wrap:wrap;\n",
              "      gap: 12px;\n",
              "    }\n",
              "\n",
              "    .colab-df-convert {\n",
              "      background-color: #E8F0FE;\n",
              "      border: none;\n",
              "      border-radius: 50%;\n",
              "      cursor: pointer;\n",
              "      display: none;\n",
              "      fill: #1967D2;\n",
              "      height: 32px;\n",
              "      padding: 0 0 0 0;\n",
              "      width: 32px;\n",
              "    }\n",
              "\n",
              "    .colab-df-convert:hover {\n",
              "      background-color: #E2EBFA;\n",
              "      box-shadow: 0px 1px 2px rgba(60, 64, 67, 0.3), 0px 1px 3px 1px rgba(60, 64, 67, 0.15);\n",
              "      fill: #174EA6;\n",
              "    }\n",
              "\n",
              "    [theme=dark] .colab-df-convert {\n",
              "      background-color: #3B4455;\n",
              "      fill: #D2E3FC;\n",
              "    }\n",
              "\n",
              "    [theme=dark] .colab-df-convert:hover {\n",
              "      background-color: #434B5C;\n",
              "      box-shadow: 0px 1px 3px 1px rgba(0, 0, 0, 0.15);\n",
              "      filter: drop-shadow(0px 1px 2px rgba(0, 0, 0, 0.3));\n",
              "      fill: #FFFFFF;\n",
              "    }\n",
              "  </style>\n",
              "\n",
              "      <script>\n",
              "        const buttonEl =\n",
              "          document.querySelector('#df-6e5e8ac0-a793-4067-abb0-995da931da62 button.colab-df-convert');\n",
              "        buttonEl.style.display =\n",
              "          google.colab.kernel.accessAllowed ? 'block' : 'none';\n",
              "\n",
              "        async function convertToInteractive(key) {\n",
              "          const element = document.querySelector('#df-6e5e8ac0-a793-4067-abb0-995da931da62');\n",
              "          const dataTable =\n",
              "            await google.colab.kernel.invokeFunction('convertToInteractive',\n",
              "                                                     [key], {});\n",
              "          if (!dataTable) return;\n",
              "\n",
              "          const docLinkHtml = 'Like what you see? Visit the ' +\n",
              "            '<a target=\"_blank\" href=https://colab.research.google.com/notebooks/data_table.ipynb>data table notebook</a>'\n",
              "            + ' to learn more about interactive tables.';\n",
              "          element.innerHTML = '';\n",
              "          dataTable['output_type'] = 'display_data';\n",
              "          await google.colab.output.renderOutput(dataTable, element);\n",
              "          const docLink = document.createElement('div');\n",
              "          docLink.innerHTML = docLinkHtml;\n",
              "          element.appendChild(docLink);\n",
              "        }\n",
              "      </script>\n",
              "    </div>\n",
              "  </div>\n",
              "  "
            ]
          },
          "metadata": {},
          "execution_count": 29
        }
      ],
      "source": [
        "df_patients_all_mhd.head()"
      ]
    },
    {
      "cell_type": "markdown",
      "metadata": {
        "id": "j0nB4eb1-BXa"
      },
      "source": [
        "El dataframe df_patients_all_mhd contiene el path de los archivos mhd de cada paciente."
      ]
    },
    {
      "cell_type": "markdown",
      "source": [
        "#### Exportar dataframe"
      ],
      "metadata": {
        "id": "qLR-u78cb9Df"
      }
    },
    {
      "cell_type": "code",
      "source": [
        "path_pickle='/content/drive/MyDrive/Capstone/PROSTATEX_dataset/pickles/'\n",
        "pickle_out=open(path_pickle+\"df_patients_all_mhd.pickle\",\"wb\")\n",
        "pickle.dump(df_patients,pickle_out)\n",
        "pickle_out.close()"
      ],
      "metadata": {
        "id": "fd85H8mTb9Dg"
      },
      "execution_count": null,
      "outputs": []
    },
    {
      "cell_type": "markdown",
      "metadata": {
        "id": "1FR9Pf9x-XYK"
      },
      "source": [
        "#### Visualización de mhd"
      ]
    },
    {
      "cell_type": "code",
      "execution_count": null,
      "metadata": {
        "colab": {
          "base_uri": "https://localhost:8080/"
        },
        "id": "Z76kx7Ggd3hF",
        "outputId": "6df486ce-29df-4e7a-d6f2-0cc75614461a"
      },
      "outputs": [
        {
          "output_type": "execute_result",
          "data": {
            "text/plain": [
              "'/content/drive/MyDrive/Capstone/PROSTATEX_dataset/k_trans/ProstateX-0000/ProstateX-0000-Ktrans.mhd'"
            ],
            "application/vnd.google.colaboratory.intrinsic+json": {
              "type": "string"
            }
          },
          "metadata": {},
          "execution_count": 31
        }
      ],
      "source": [
        "query_mhd=df_patients_all_mhd[df_patients_all_mhd['patient']=='ProstateX-0000']\n",
        "query_mhd['path'][0]"
      ]
    },
    {
      "cell_type": "code",
      "execution_count": null,
      "metadata": {
        "id": "y70hcqdRdqVF"
      },
      "outputs": [],
      "source": [
        "# Reads the image using SimpleITK\n",
        "itkimage = sitk.ReadImage(query_mhd['path'][0])"
      ]
    },
    {
      "cell_type": "code",
      "execution_count": null,
      "metadata": {
        "id": "_-1jLKn7aEFq"
      },
      "outputs": [],
      "source": [
        "# Convert the image to a  numpy array first and then shuffle the dimensions to get axis in the order z,y,x\n",
        "ct_scan = sitk.GetArrayFromImage(itkimage)\n",
        "\n",
        "# Read the origin of the ct_scan, will be used to convert the coordinates from world to voxel and vice versa.\n",
        "origin = np.array(list(reversed(itkimage.GetOrigin())))\n",
        "\n",
        "# Read the spacing along each dimension\n",
        "spacing = np.array(list(reversed(itkimage.GetSpacing())))"
      ]
    },
    {
      "cell_type": "code",
      "execution_count": null,
      "metadata": {
        "colab": {
          "base_uri": "https://localhost:8080/"
        },
        "id": "kQzSLbnkegBK",
        "outputId": "30f2a458-2ae2-4b6e-9c65-f1c3923701ee"
      },
      "outputs": [
        {
          "output_type": "execute_result",
          "data": {
            "text/plain": [
              "((16, 128, 128), array([-23.9969, -82.1226, -58.4317]), array([3. , 1.5, 1.5]))"
            ]
          },
          "metadata": {},
          "execution_count": 34
        }
      ],
      "source": [
        "ct_scan.shape,origin,spacing"
      ]
    },
    {
      "cell_type": "code",
      "execution_count": null,
      "metadata": {
        "colab": {
          "base_uri": "https://localhost:8080/"
        },
        "id": "r11yMeckdW6Z",
        "outputId": "1da3fc15-4aa4-4517-c3ee-5d76e6e0c0d3"
      },
      "outputs": [
        {
          "output_type": "display_data",
          "data": {
            "text/plain": [
              "<Figure size 432x288 with 1 Axes>"
            ],
            "image/png": "[encoded data removed]"
          },
          "metadata": {
            "needs_background": "light"
          }
        }
      ],
      "source": [
        "plt.imshow(ct_scan[6],cmap='gray')\n",
        "plt.show()"
      ]
    },
    {
      "cell_type": "markdown",
      "metadata": {
        "id": "iwb1JAUznLcH"
      },
      "source": [
        "### Datos de entrenamiento dcm"
      ]
    },
    {
      "cell_type": "code",
      "execution_count": null,
      "metadata": {
        "id": "xkJtxaBZTLzS"
      },
      "outputs": [],
      "source": [
        "df_image_train=pd.read_csv('/content/drive/MyDrive/Capstone/Prostatex_info/Prostatex_1/ProstateX-Images-Train.csv',sep=',')"
      ]
    },
    {
      "cell_type": "code",
      "execution_count": null,
      "metadata": {
        "colab": {
          "base_uri": "https://localhost:8080/"
        },
        "id": "eh8lBFZKu8se",
        "outputId": "0f9d4525-eedf-4d9c-b00f-1ffbc35979d8"
      },
      "outputs": [
        {
          "output_type": "execute_result",
          "data": {
            "text/plain": [
              "(3869, 12)"
            ]
          },
          "metadata": {},
          "execution_count": 73
        }
      ],
      "source": [
        "df_image_train.shape"
      ]
    },
    {
      "cell_type": "code",
      "execution_count": null,
      "metadata": {
        "colab": {
          "base_uri": "https://localhost:8080/"
        },
        "id": "a2D5B25MBmhF",
        "outputId": "9ef4b441-72d9-4700-bf65-3ff390aa7710"
      },
      "outputs": [
        {
          "output_type": "execute_result",
          "data": {
            "text/plain": [
              "ep2d_diff_tra_DYNDIST                            795\n",
              "t2_tse_tra                                       412\n",
              "t2_tse_sag                                       358\n",
              "t2_tse_cor                                       339\n",
              "tfl_3d PD ref_tra_1.5x1.5_t3                     326\n",
              "                                                ... \n",
              "Perfusie_t1_twist_1.3x1.3x3_temp_2s_TT=16.5s       1\n",
              "Perfusie_t1_twist_1.3x1.3x3_temp_2s_TT=15.2s       1\n",
              "Perfusie_t1_twist_1.3x1.3x3_temp_2s_TT=14.0s       1\n",
              "Perfusie_t1_twist_1.3x1.3x3_temp_2s_TT=130.6s      1\n",
              "Perfusie_t1_twist_1.3x1.3x3_temp_2s_TT=32.8s       1\n",
              "Name: DCMSerDescr, Length: 130, dtype: int64"
            ]
          },
          "metadata": {},
          "execution_count": 74
        }
      ],
      "source": [
        "df_image_train['DCMSerDescr'].value_counts()"
      ]
    },
    {
      "cell_type": "code",
      "execution_count": null,
      "metadata": {
        "colab": {
          "base_uri": "https://localhost:8080/"
        },
        "id": "pt6OAT4g-i51",
        "outputId": "e5e667e7-d6ae-4edb-d5af-4946ed7bd600"
      },
      "outputs": [
        {
          "output_type": "execute_result",
          "data": {
            "text/plain": [
              "           ProxID                             Name  fid  \\\n",
              "0  ProstateX-0000       ep2d_diff_tra_DYNDIST_ADC0    1   \n",
              "1  ProstateX-0000           ep2d_diff_tra_DYNDIST0    1   \n",
              "2  ProstateX-0000           ep2d_diff_tra_DYNDIST1    1   \n",
              "3  ProstateX-0000           ep2d_diff_tra_DYNDIST2    1   \n",
              "4  ProstateX-0000  ep2d_diff_tra_DYNDISTCALC_BVAL0    1   \n",
              "\n",
              "                       pos                                        WorldMatrix  \\\n",
              "0  25.7457 31.8707 -38.511  2,4.0067e-010,0.00377059,-46.6873,-0.000797221...   \n",
              "1  25.7457 31.8707 -38.511  2,4.0067e-010,0.00377059,-46.6873,-0.000797221...   \n",
              "2  25.7457 31.8707 -38.511  2,4.0067e-010,0.00377059,-46.6873,-0.000797221...   \n",
              "3  25.7457 31.8707 -38.511  2,4.0067e-010,0.00377059,-46.6873,-0.000797221...   \n",
              "4  25.7457 31.8707 -38.511  2,4.0067e-010,0.00377059,-46.6873,-0.000797221...   \n",
              "\n",
              "       ijk  TopLevel  SpacingBetweenSlices VoxelSpacing          Dim  \\\n",
              "0  36 72 9       1.0                   3.0        2,2,3  84x128x19x1   \n",
              "1  36 72 9       1.0                   3.0        2,2,3  84x128x19x1   \n",
              "2  36 72 9       1.0                   3.0        2,2,3  84x128x19x1   \n",
              "3  36 72 9       1.0                   3.0        2,2,3  84x128x19x1   \n",
              "4  36 72 9       1.0                   3.0        2,2,3  84x128x19x1   \n",
              "\n",
              "                      DCMSerDescr  DCMSerNum  \n",
              "0       ep2d_diff_tra_DYNDIST_ADC          7  \n",
              "1           ep2d_diff_tra_DYNDIST          6  \n",
              "2           ep2d_diff_tra_DYNDIST          6  \n",
              "3           ep2d_diff_tra_DYNDIST          6  \n",
              "4  ep2d_diff_tra_DYNDISTCALC_BVAL          8  "
            ],
            "text/html": [
              "\n",
              "  <div id=\"df-4d2aedd6-6f79-4587-9581-0d81a9fa640d\">\n",
              "    <div class=\"colab-df-container\">\n",
              "      <div>\n",
              "<style scoped>\n",
              "    .dataframe tbody tr th:only-of-type {\n",
              "        vertical-align: middle;\n",
              "    }\n",
              "\n",
              "    .dataframe tbody tr th {\n",
              "        vertical-align: top;\n",
              "    }\n",
              "\n",
              "    .dataframe thead th {\n",
              "        text-align: right;\n",
              "    }\n",
              "</style>\n",
              "<table border=\"1\" class=\"dataframe\">\n",
              "  <thead>\n",
              "    <tr style=\"text-align: right;\">\n",
              "      <th></th>\n",
              "      <th>ProxID</th>\n",
              "      <th>Name</th>\n",
              "      <th>fid</th>\n",
              "      <th>pos</th>\n",
              "      <th>WorldMatrix</th>\n",
              "      <th>ijk</th>\n",
              "      <th>TopLevel</th>\n",
              "      <th>SpacingBetweenSlices</th>\n",
              "      <th>VoxelSpacing</th>\n",
              "      <th>Dim</th>\n",
              "      <th>DCMSerDescr</th>\n",
              "      <th>DCMSerNum</th>\n",
              "    </tr>\n",
              "  </thead>\n",
              "  <tbody>\n",
              "    <tr>\n",
              "      <th>0</th>\n",
              "      <td>ProstateX-0000</td>\n",
              "      <td>ep2d_diff_tra_DYNDIST_ADC0</td>\n",
              "      <td>1</td>\n",
              "      <td>25.7457 31.8707 -38.511</td>\n",
              "      <td>2,4.0067e-010,0.00377059,-46.6873,-0.000797221...</td>\n",
              "      <td>36 72 9</td>\n",
              "      <td>1.0</td>\n",
              "      <td>3.0</td>\n",
              "      <td>2,2,3</td>\n",
              "      <td>84x128x19x1</td>\n",
              "      <td>ep2d_diff_tra_DYNDIST_ADC</td>\n",
              "      <td>7</td>\n",
              "    </tr>\n",
              "    <tr>\n",
              "      <th>1</th>\n",
              "      <td>ProstateX-0000</td>\n",
              "      <td>ep2d_diff_tra_DYNDIST0</td>\n",
              "      <td>1</td>\n",
              "      <td>25.7457 31.8707 -38.511</td>\n",
              "      <td>2,4.0067e-010,0.00377059,-46.6873,-0.000797221...</td>\n",
              "      <td>36 72 9</td>\n",
              "      <td>1.0</td>\n",
              "      <td>3.0</td>\n",
              "      <td>2,2,3</td>\n",
              "      <td>84x128x19x1</td>\n",
              "      <td>ep2d_diff_tra_DYNDIST</td>\n",
              "      <td>6</td>\n",
              "    </tr>\n",
              "    <tr>\n",
              "      <th>2</th>\n",
              "      <td>ProstateX-0000</td>\n",
              "      <td>ep2d_diff_tra_DYNDIST1</td>\n",
              "      <td>1</td>\n",
              "      <td>25.7457 31.8707 -38.511</td>\n",
              "      <td>2,4.0067e-010,0.00377059,-46.6873,-0.000797221...</td>\n",
              "      <td>36 72 9</td>\n",
              "      <td>1.0</td>\n",
              "      <td>3.0</td>\n",
              "      <td>2,2,3</td>\n",
              "      <td>84x128x19x1</td>\n",
              "      <td>ep2d_diff_tra_DYNDIST</td>\n",
              "      <td>6</td>\n",
              "    </tr>\n",
              "    <tr>\n",
              "      <th>3</th>\n",
              "      <td>ProstateX-0000</td>\n",
              "      <td>ep2d_diff_tra_DYNDIST2</td>\n",
              "      <td>1</td>\n",
              "      <td>25.7457 31.8707 -38.511</td>\n",
              "      <td>2,4.0067e-010,0.00377059,-46.6873,-0.000797221...</td>\n",
              "      <td>36 72 9</td>\n",
              "      <td>1.0</td>\n",
              "      <td>3.0</td>\n",
              "      <td>2,2,3</td>\n",
              "      <td>84x128x19x1</td>\n",
              "      <td>ep2d_diff_tra_DYNDIST</td>\n",
              "      <td>6</td>\n",
              "    </tr>\n",
              "    <tr>\n",
              "      <th>4</th>\n",
              "      <td>ProstateX-0000</td>\n",
              "      <td>ep2d_diff_tra_DYNDISTCALC_BVAL0</td>\n",
              "      <td>1</td>\n",
              "      <td>25.7457 31.8707 -38.511</td>\n",
              "      <td>2,4.0067e-010,0.00377059,-46.6873,-0.000797221...</td>\n",
              "      <td>36 72 9</td>\n",
              "      <td>1.0</td>\n",
              "      <td>3.0</td>\n",
              "      <td>2,2,3</td>\n",
              "      <td>84x128x19x1</td>\n",
              "      <td>ep2d_diff_tra_DYNDISTCALC_BVAL</td>\n",
              "      <td>8</td>\n",
              "    </tr>\n",
              "  </tbody>\n",
              "</table>\n",
              "</div>\n",
              "      <button class=\"colab-df-convert\" onclick=\"convertToInteractive('df-4d2aedd6-6f79-4587-9581-0d81a9fa640d')\"\n",
              "              title=\"Convert this dataframe to an interactive table.\"\n",
              "              style=\"display:none;\">\n",
              "        \n",
              "  <svg xmlns=\"http://www.w3.org/2000/svg\" height=\"24px\"viewBox=\"0 0 24 24\"\n",
              "       width=\"24px\">\n",
              "    <path d=\"M0 0h24v24H0V0z\" fill=\"none\"/>\n",
              "    <path d=\"M18.56 5.44l.94 2.06.94-2.06 2.06-.94-2.06-.94-.94-2.06-.94 2.06-2.06.94zm-11 1L8.5 8.5l.94-2.06 2.06-.94-2.06-.94L8.5 2.5l-.94 2.06-2.06.94zm10 10l.94 2.06.94-2.06 2.06-.94-2.06-.94-.94-2.06-.94 2.06-2.06.94z\"/><path d=\"M17.41 7.96l-1.37-1.37c-.4-.4-.92-.59-1.43-.59-.52 0-1.04.2-1.43.59L10.3 9.45l-7.72 7.72c-.78.78-.78 2.05 0 2.83L4 21.41c.39.39.9.59 1.41.59.51 0 1.02-.2 1.41-.59l7.78-7.78 2.81-2.81c.8-.78.8-2.07 0-2.86zM5.41 20L4 18.59l7.72-7.72 1.47 1.35L5.41 20z\"/>\n",
              "  </svg>\n",
              "      </button>\n",
              "      \n",
              "  <style>\n",
              "    .colab-df-container {\n",
              "      display:flex;\n",
              "      flex-wrap:wrap;\n",
              "      gap: 12px;\n",
              "    }\n",
              "\n",
              "    .colab-df-convert {\n",
              "      background-color: #E8F0FE;\n",
              "      border: none;\n",
              "      border-radius: 50%;\n",
              "      cursor: pointer;\n",
              "      display: none;\n",
              "      fill: #1967D2;\n",
              "      height: 32px;\n",
              "      padding: 0 0 0 0;\n",
              "      width: 32px;\n",
              "    }\n",
              "\n",
              "    .colab-df-convert:hover {\n",
              "      background-color: #E2EBFA;\n",
              "      box-shadow: 0px 1px 2px rgba(60, 64, 67, 0.3), 0px 1px 3px 1px rgba(60, 64, 67, 0.15);\n",
              "      fill: #174EA6;\n",
              "    }\n",
              "\n",
              "    [theme=dark] .colab-df-convert {\n",
              "      background-color: #3B4455;\n",
              "      fill: #D2E3FC;\n",
              "    }\n",
              "\n",
              "    [theme=dark] .colab-df-convert:hover {\n",
              "      background-color: #434B5C;\n",
              "      box-shadow: 0px 1px 3px 1px rgba(0, 0, 0, 0.15);\n",
              "      filter: drop-shadow(0px 1px 2px rgba(0, 0, 0, 0.3));\n",
              "      fill: #FFFFFF;\n",
              "    }\n",
              "  </style>\n",
              "\n",
              "      <script>\n",
              "        const buttonEl =\n",
              "          document.querySelector('#df-4d2aedd6-6f79-4587-9581-0d81a9fa640d button.colab-df-convert');\n",
              "        buttonEl.style.display =\n",
              "          google.colab.kernel.accessAllowed ? 'block' : 'none';\n",
              "\n",
              "        async function convertToInteractive(key) {\n",
              "          const element = document.querySelector('#df-4d2aedd6-6f79-4587-9581-0d81a9fa640d');\n",
              "          const dataTable =\n",
              "            await google.colab.kernel.invokeFunction('convertToInteractive',\n",
              "                                                     [key], {});\n",
              "          if (!dataTable) return;\n",
              "\n",
              "          const docLinkHtml = 'Like what you see? Visit the ' +\n",
              "            '<a target=\"_blank\" href=https://colab.research.google.com/notebooks/data_table.ipynb>data table notebook</a>'\n",
              "            + ' to learn more about interactive tables.';\n",
              "          element.innerHTML = '';\n",
              "          dataTable['output_type'] = 'display_data';\n",
              "          await google.colab.output.renderOutput(dataTable, element);\n",
              "          const docLink = document.createElement('div');\n",
              "          docLink.innerHTML = docLinkHtml;\n",
              "          element.appendChild(docLink);\n",
              "        }\n",
              "      </script>\n",
              "    </div>\n",
              "  </div>\n",
              "  "
            ]
          },
          "metadata": {},
          "execution_count": 75
        }
      ],
      "source": [
        "df_image_train.head()"
      ]
    },
    {
      "cell_type": "code",
      "execution_count": null,
      "metadata": {
        "id": "-OFlJ4KQKOEj"
      },
      "outputs": [],
      "source": [
        "new_df = pd.merge(df_image_train, df_patients,  how='left', left_on=['ProxID','DCMSerNum'], right_on = ['patients','s_number'])\n"
      ]
    },
    {
      "cell_type": "code",
      "execution_count": null,
      "metadata": {
        "id": "GYejCEjbKcDn"
      },
      "outputs": [],
      "source": [
        "val_cols=['ProxID','fid','pos','ijk','DCMSerNum','s_number','path_dcm','Name']\n",
        "new_df=new_df[val_cols]"
      ]
    },
    {
      "cell_type": "code",
      "execution_count": null,
      "metadata": {
        "colab": {
          "base_uri": "https://localhost:8080/"
        },
        "id": "-_Bw3XJ5LYQg",
        "outputId": "45e4ca05-53ca-4b0f-d9a0-c2371053be12"
      },
      "outputs": [
        {
          "output_type": "execute_result",
          "data": {
            "text/plain": [
              "           ProxID  fid                      pos      ijk  DCMSerNum  s_number  \\\n",
              "0  ProstateX-0000    1  25.7457 31.8707 -38.511  36 72 9          7         7   \n",
              "1  ProstateX-0000    1  25.7457 31.8707 -38.511  36 72 9          6         6   \n",
              "2  ProstateX-0000    1  25.7457 31.8707 -38.511  36 72 9          6         6   \n",
              "3  ProstateX-0000    1  25.7457 31.8707 -38.511  36 72 9          6         6   \n",
              "4  ProstateX-0000    1  25.7457 31.8707 -38.511  36 72 9          8         8   \n",
              "\n",
              "                                            path_dcm  \\\n",
              "0  /content/drive/MyDrive/Capstone/PROSTATEX_data...   \n",
              "1  /content/drive/MyDrive/Capstone/PROSTATEX_data...   \n",
              "2  /content/drive/MyDrive/Capstone/PROSTATEX_data...   \n",
              "3  /content/drive/MyDrive/Capstone/PROSTATEX_data...   \n",
              "4  /content/drive/MyDrive/Capstone/PROSTATEX_data...   \n",
              "\n",
              "                              Name  \n",
              "0       ep2d_diff_tra_DYNDIST_ADC0  \n",
              "1           ep2d_diff_tra_DYNDIST0  \n",
              "2           ep2d_diff_tra_DYNDIST1  \n",
              "3           ep2d_diff_tra_DYNDIST2  \n",
              "4  ep2d_diff_tra_DYNDISTCALC_BVAL0  "
            ],
            "text/html": [
              "\n",
              "  <div id=\"df-27486b10-0493-4a73-8b49-3e5a7d616fe3\">\n",
              "    <div class=\"colab-df-container\">\n",
              "      <div>\n",
              "<style scoped>\n",
              "    .dataframe tbody tr th:only-of-type {\n",
              "        vertical-align: middle;\n",
              "    }\n",
              "\n",
              "    .dataframe tbody tr th {\n",
              "        vertical-align: top;\n",
              "    }\n",
              "\n",
              "    .dataframe thead th {\n",
              "        text-align: right;\n",
              "    }\n",
              "</style>\n",
              "<table border=\"1\" class=\"dataframe\">\n",
              "  <thead>\n",
              "    <tr style=\"text-align: right;\">\n",
              "      <th></th>\n",
              "      <th>ProxID</th>\n",
              "      <th>fid</th>\n",
              "      <th>pos</th>\n",
              "      <th>ijk</th>\n",
              "      <th>DCMSerNum</th>\n",
              "      <th>s_number</th>\n",
              "      <th>path_dcm</th>\n",
              "      <th>Name</th>\n",
              "    </tr>\n",
              "  </thead>\n",
              "  <tbody>\n",
              "    <tr>\n",
              "      <th>0</th>\n",
              "      <td>ProstateX-0000</td>\n",
              "      <td>1</td>\n",
              "      <td>25.7457 31.8707 -38.511</td>\n",
              "      <td>36 72 9</td>\n",
              "      <td>7</td>\n",
              "      <td>7</td>\n",
              "      <td>/content/drive/MyDrive/Capstone/PROSTATEX_data...</td>\n",
              "      <td>ep2d_diff_tra_DYNDIST_ADC0</td>\n",
              "    </tr>\n",
              "    <tr>\n",
              "      <th>1</th>\n",
              "      <td>ProstateX-0000</td>\n",
              "      <td>1</td>\n",
              "      <td>25.7457 31.8707 -38.511</td>\n",
              "      <td>36 72 9</td>\n",
              "      <td>6</td>\n",
              "      <td>6</td>\n",
              "      <td>/content/drive/MyDrive/Capstone/PROSTATEX_data...</td>\n",
              "      <td>ep2d_diff_tra_DYNDIST0</td>\n",
              "    </tr>\n",
              "    <tr>\n",
              "      <th>2</th>\n",
              "      <td>ProstateX-0000</td>\n",
              "      <td>1</td>\n",
              "      <td>25.7457 31.8707 -38.511</td>\n",
              "      <td>36 72 9</td>\n",
              "      <td>6</td>\n",
              "      <td>6</td>\n",
              "      <td>/content/drive/MyDrive/Capstone/PROSTATEX_data...</td>\n",
              "      <td>ep2d_diff_tra_DYNDIST1</td>\n",
              "    </tr>\n",
              "    <tr>\n",
              "      <th>3</th>\n",
              "      <td>ProstateX-0000</td>\n",
              "      <td>1</td>\n",
              "      <td>25.7457 31.8707 -38.511</td>\n",
              "      <td>36 72 9</td>\n",
              "      <td>6</td>\n",
              "      <td>6</td>\n",
              "      <td>/content/drive/MyDrive/Capstone/PROSTATEX_data...</td>\n",
              "      <td>ep2d_diff_tra_DYNDIST2</td>\n",
              "    </tr>\n",
              "    <tr>\n",
              "      <th>4</th>\n",
              "      <td>ProstateX-0000</td>\n",
              "      <td>1</td>\n",
              "      <td>25.7457 31.8707 -38.511</td>\n",
              "      <td>36 72 9</td>\n",
              "      <td>8</td>\n",
              "      <td>8</td>\n",
              "      <td>/content/drive/MyDrive/Capstone/PROSTATEX_data...</td>\n",
              "      <td>ep2d_diff_tra_DYNDISTCALC_BVAL0</td>\n",
              "    </tr>\n",
              "  </tbody>\n",
              "</table>\n",
              "</div>\n",
              "      <button class=\"colab-df-convert\" onclick=\"convertToInteractive('df-27486b10-0493-4a73-8b49-3e5a7d616fe3')\"\n",
              "              title=\"Convert this dataframe to an interactive table.\"\n",
              "              style=\"display:none;\">\n",
              "        \n",
              "  <svg xmlns=\"http://www.w3.org/2000/svg\" height=\"24px\"viewBox=\"0 0 24 24\"\n",
              "       width=\"24px\">\n",
              "    <path d=\"M0 0h24v24H0V0z\" fill=\"none\"/>\n",
              "    <path d=\"M18.56 5.44l.94 2.06.94-2.06 2.06-.94-2.06-.94-.94-2.06-.94 2.06-2.06.94zm-11 1L8.5 8.5l.94-2.06 2.06-.94-2.06-.94L8.5 2.5l-.94 2.06-2.06.94zm10 10l.94 2.06.94-2.06 2.06-.94-2.06-.94-.94-2.06-.94 2.06-2.06.94z\"/><path d=\"M17.41 7.96l-1.37-1.37c-.4-.4-.92-.59-1.43-.59-.52 0-1.04.2-1.43.59L10.3 9.45l-7.72 7.72c-.78.78-.78 2.05 0 2.83L4 21.41c.39.39.9.59 1.41.59.51 0 1.02-.2 1.41-.59l7.78-7.78 2.81-2.81c.8-.78.8-2.07 0-2.86zM5.41 20L4 18.59l7.72-7.72 1.47 1.35L5.41 20z\"/>\n",
              "  </svg>\n",
              "      </button>\n",
              "      \n",
              "  <style>\n",
              "    .colab-df-container {\n",
              "      display:flex;\n",
              "      flex-wrap:wrap;\n",
              "      gap: 12px;\n",
              "    }\n",
              "\n",
              "    .colab-df-convert {\n",
              "      background-color: #E8F0FE;\n",
              "      border: none;\n",
              "      border-radius: 50%;\n",
              "      cursor: pointer;\n",
              "      display: none;\n",
              "      fill: #1967D2;\n",
              "      height: 32px;\n",
              "      padding: 0 0 0 0;\n",
              "      width: 32px;\n",
              "    }\n",
              "\n",
              "    .colab-df-convert:hover {\n",
              "      background-color: #E2EBFA;\n",
              "      box-shadow: 0px 1px 2px rgba(60, 64, 67, 0.3), 0px 1px 3px 1px rgba(60, 64, 67, 0.15);\n",
              "      fill: #174EA6;\n",
              "    }\n",
              "\n",
              "    [theme=dark] .colab-df-convert {\n",
              "      background-color: #3B4455;\n",
              "      fill: #D2E3FC;\n",
              "    }\n",
              "\n",
              "    [theme=dark] .colab-df-convert:hover {\n",
              "      background-color: #434B5C;\n",
              "      box-shadow: 0px 1px 3px 1px rgba(0, 0, 0, 0.15);\n",
              "      filter: drop-shadow(0px 1px 2px rgba(0, 0, 0, 0.3));\n",
              "      fill: #FFFFFF;\n",
              "    }\n",
              "  </style>\n",
              "\n",
              "      <script>\n",
              "        const buttonEl =\n",
              "          document.querySelector('#df-27486b10-0493-4a73-8b49-3e5a7d616fe3 button.colab-df-convert');\n",
              "        buttonEl.style.display =\n",
              "          google.colab.kernel.accessAllowed ? 'block' : 'none';\n",
              "\n",
              "        async function convertToInteractive(key) {\n",
              "          const element = document.querySelector('#df-27486b10-0493-4a73-8b49-3e5a7d616fe3');\n",
              "          const dataTable =\n",
              "            await google.colab.kernel.invokeFunction('convertToInteractive',\n",
              "                                                     [key], {});\n",
              "          if (!dataTable) return;\n",
              "\n",
              "          const docLinkHtml = 'Like what you see? Visit the ' +\n",
              "            '<a target=\"_blank\" href=https://colab.research.google.com/notebooks/data_table.ipynb>data table notebook</a>'\n",
              "            + ' to learn more about interactive tables.';\n",
              "          element.innerHTML = '';\n",
              "          dataTable['output_type'] = 'display_data';\n",
              "          await google.colab.output.renderOutput(dataTable, element);\n",
              "          const docLink = document.createElement('div');\n",
              "          docLink.innerHTML = docLinkHtml;\n",
              "          element.appendChild(docLink);\n",
              "        }\n",
              "      </script>\n",
              "    </div>\n",
              "  </div>\n",
              "  "
            ]
          },
          "metadata": {},
          "execution_count": 78
        }
      ],
      "source": [
        "new_df.head()"
      ]
    },
    {
      "cell_type": "code",
      "execution_count": null,
      "metadata": {
        "id": "Ngw3p4-nvJVj"
      },
      "outputs": [],
      "source": [
        "df_findings1_train=pd.read_csv('/content/drive/MyDrive/Capstone/Prostatex_info/Prostatex_1/ProstateX-Findings-Train.csv',sep=',')"
      ]
    },
    {
      "cell_type": "code",
      "execution_count": null,
      "metadata": {
        "colab": {
          "base_uri": "https://localhost:8080/"
        },
        "id": "B2sj0MVgvHIB",
        "outputId": "e23495cd-f155-4055-c1b5-181201db3853"
      },
      "outputs": [
        {
          "output_type": "execute_result",
          "data": {
            "text/plain": [
              "           ProxID  fid                                                pos  \\\n",
              "0  ProstateX-0000    1                            25.7457 31.8707 -38.511   \n",
              "1  ProstateX-0001    1  -40.5367071921656 29.320722668457 -16.70766907...   \n",
              "2  ProstateX-0002    1                          -27.0102 41.5467 -26.0469   \n",
              "3  ProstateX-0002    2                            -2.058 38.6752 -34.6104   \n",
              "4  ProstateX-0003    1                           22.1495 31.2717 -2.45933   \n",
              "\n",
              "  zone  ClinSig  \n",
              "0   PZ     True  \n",
              "1   AS    False  \n",
              "2   PZ     True  \n",
              "3   PZ    False  \n",
              "4   TZ    False  "
            ],
            "text/html": [
              "\n",
              "  <div id=\"df-c4c5bd54-6c66-4251-8778-245cb0e9e013\">\n",
              "    <div class=\"colab-df-container\">\n",
              "      <div>\n",
              "<style scoped>\n",
              "    .dataframe tbody tr th:only-of-type {\n",
              "        vertical-align: middle;\n",
              "    }\n",
              "\n",
              "    .dataframe tbody tr th {\n",
              "        vertical-align: top;\n",
              "    }\n",
              "\n",
              "    .dataframe thead th {\n",
              "        text-align: right;\n",
              "    }\n",
              "</style>\n",
              "<table border=\"1\" class=\"dataframe\">\n",
              "  <thead>\n",
              "    <tr style=\"text-align: right;\">\n",
              "      <th></th>\n",
              "      <th>ProxID</th>\n",
              "      <th>fid</th>\n",
              "      <th>pos</th>\n",
              "      <th>zone</th>\n",
              "      <th>ClinSig</th>\n",
              "    </tr>\n",
              "  </thead>\n",
              "  <tbody>\n",
              "    <tr>\n",
              "      <th>0</th>\n",
              "      <td>ProstateX-0000</td>\n",
              "      <td>1</td>\n",
              "      <td>25.7457 31.8707 -38.511</td>\n",
              "      <td>PZ</td>\n",
              "      <td>True</td>\n",
              "    </tr>\n",
              "    <tr>\n",
              "      <th>1</th>\n",
              "      <td>ProstateX-0001</td>\n",
              "      <td>1</td>\n",
              "      <td>-40.5367071921656 29.320722668457 -16.70766907...</td>\n",
              "      <td>AS</td>\n",
              "      <td>False</td>\n",
              "    </tr>\n",
              "    <tr>\n",
              "      <th>2</th>\n",
              "      <td>ProstateX-0002</td>\n",
              "      <td>1</td>\n",
              "      <td>-27.0102 41.5467 -26.0469</td>\n",
              "      <td>PZ</td>\n",
              "      <td>True</td>\n",
              "    </tr>\n",
              "    <tr>\n",
              "      <th>3</th>\n",
              "      <td>ProstateX-0002</td>\n",
              "      <td>2</td>\n",
              "      <td>-2.058 38.6752 -34.6104</td>\n",
              "      <td>PZ</td>\n",
              "      <td>False</td>\n",
              "    </tr>\n",
              "    <tr>\n",
              "      <th>4</th>\n",
              "      <td>ProstateX-0003</td>\n",
              "      <td>1</td>\n",
              "      <td>22.1495 31.2717 -2.45933</td>\n",
              "      <td>TZ</td>\n",
              "      <td>False</td>\n",
              "    </tr>\n",
              "  </tbody>\n",
              "</table>\n",
              "</div>\n",
              "      <button class=\"colab-df-convert\" onclick=\"convertToInteractive('df-c4c5bd54-6c66-4251-8778-245cb0e9e013')\"\n",
              "              title=\"Convert this dataframe to an interactive table.\"\n",
              "              style=\"display:none;\">\n",
              "        \n",
              "  <svg xmlns=\"http://www.w3.org/2000/svg\" height=\"24px\"viewBox=\"0 0 24 24\"\n",
              "       width=\"24px\">\n",
              "    <path d=\"M0 0h24v24H0V0z\" fill=\"none\"/>\n",
              "    <path d=\"M18.56 5.44l.94 2.06.94-2.06 2.06-.94-2.06-.94-.94-2.06-.94 2.06-2.06.94zm-11 1L8.5 8.5l.94-2.06 2.06-.94-2.06-.94L8.5 2.5l-.94 2.06-2.06.94zm10 10l.94 2.06.94-2.06 2.06-.94-2.06-.94-.94-2.06-.94 2.06-2.06.94z\"/><path d=\"M17.41 7.96l-1.37-1.37c-.4-.4-.92-.59-1.43-.59-.52 0-1.04.2-1.43.59L10.3 9.45l-7.72 7.72c-.78.78-.78 2.05 0 2.83L4 21.41c.39.39.9.59 1.41.59.51 0 1.02-.2 1.41-.59l7.78-7.78 2.81-2.81c.8-.78.8-2.07 0-2.86zM5.41 20L4 18.59l7.72-7.72 1.47 1.35L5.41 20z\"/>\n",
              "  </svg>\n",
              "      </button>\n",
              "      \n",
              "  <style>\n",
              "    .colab-df-container {\n",
              "      display:flex;\n",
              "      flex-wrap:wrap;\n",
              "      gap: 12px;\n",
              "    }\n",
              "\n",
              "    .colab-df-convert {\n",
              "      background-color: #E8F0FE;\n",
              "      border: none;\n",
              "      border-radius: 50%;\n",
              "      cursor: pointer;\n",
              "      display: none;\n",
              "      fill: #1967D2;\n",
              "      height: 32px;\n",
              "      padding: 0 0 0 0;\n",
              "      width: 32px;\n",
              "    }\n",
              "\n",
              "    .colab-df-convert:hover {\n",
              "      background-color: #E2EBFA;\n",
              "      box-shadow: 0px 1px 2px rgba(60, 64, 67, 0.3), 0px 1px 3px 1px rgba(60, 64, 67, 0.15);\n",
              "      fill: #174EA6;\n",
              "    }\n",
              "\n",
              "    [theme=dark] .colab-df-convert {\n",
              "      background-color: #3B4455;\n",
              "      fill: #D2E3FC;\n",
              "    }\n",
              "\n",
              "    [theme=dark] .colab-df-convert:hover {\n",
              "      background-color: #434B5C;\n",
              "      box-shadow: 0px 1px 3px 1px rgba(0, 0, 0, 0.15);\n",
              "      filter: drop-shadow(0px 1px 2px rgba(0, 0, 0, 0.3));\n",
              "      fill: #FFFFFF;\n",
              "    }\n",
              "  </style>\n",
              "\n",
              "      <script>\n",
              "        const buttonEl =\n",
              "          document.querySelector('#df-c4c5bd54-6c66-4251-8778-245cb0e9e013 button.colab-df-convert');\n",
              "        buttonEl.style.display =\n",
              "          google.colab.kernel.accessAllowed ? 'block' : 'none';\n",
              "\n",
              "        async function convertToInteractive(key) {\n",
              "          const element = document.querySelector('#df-c4c5bd54-6c66-4251-8778-245cb0e9e013');\n",
              "          const dataTable =\n",
              "            await google.colab.kernel.invokeFunction('convertToInteractive',\n",
              "                                                     [key], {});\n",
              "          if (!dataTable) return;\n",
              "\n",
              "          const docLinkHtml = 'Like what you see? Visit the ' +\n",
              "            '<a target=\"_blank\" href=https://colab.research.google.com/notebooks/data_table.ipynb>data table notebook</a>'\n",
              "            + ' to learn more about interactive tables.';\n",
              "          element.innerHTML = '';\n",
              "          dataTable['output_type'] = 'display_data';\n",
              "          await google.colab.output.renderOutput(dataTable, element);\n",
              "          const docLink = document.createElement('div');\n",
              "          docLink.innerHTML = docLinkHtml;\n",
              "          element.appendChild(docLink);\n",
              "        }\n",
              "      </script>\n",
              "    </div>\n",
              "  </div>\n",
              "  "
            ]
          },
          "metadata": {},
          "execution_count": 80
        }
      ],
      "source": [
        "df_findings1_train.head(5)"
      ]
    },
    {
      "cell_type": "code",
      "execution_count": null,
      "metadata": {
        "colab": {
          "base_uri": "https://localhost:8080/"
        },
        "id": "irMvEunuvHIC",
        "outputId": "337f4a6c-e125-46ae-ec56-badd415f9241"
      },
      "outputs": [
        {
          "output_type": "execute_result",
          "data": {
            "text/plain": [
              "(330, 5)"
            ]
          },
          "metadata": {},
          "execution_count": 81
        }
      ],
      "source": [
        "df_findings1_train.shape"
      ]
    },
    {
      "cell_type": "code",
      "execution_count": null,
      "metadata": {
        "colab": {
          "base_uri": "https://localhost:8080/"
        },
        "id": "VMH89ckvvyQr",
        "outputId": "d44f2c22-a2fd-4978-9a22-9287a91c71fb"
      },
      "outputs": [
        {
          "output_type": "execute_result",
          "data": {
            "text/plain": [
              "(76, 5)"
            ]
          },
          "metadata": {},
          "execution_count": 82
        }
      ],
      "source": [
        "query1=df_findings1_train[(df_findings1_train['ClinSig']==True)]\n",
        "query1.shape"
      ]
    },
    {
      "cell_type": "code",
      "execution_count": null,
      "metadata": {
        "colab": {
          "base_uri": "https://localhost:8080/"
        },
        "id": "N28j3H1Cx1AR",
        "outputId": "88b14793-2d2c-476c-d6de-07784ffbd533"
      },
      "outputs": [
        {
          "output_type": "execute_result",
          "data": {
            "text/plain": [
              "(70,)"
            ]
          },
          "metadata": {},
          "execution_count": 83
        }
      ],
      "source": [
        "query1['ProxID'].value_counts().shape"
      ]
    },
    {
      "cell_type": "code",
      "execution_count": null,
      "metadata": {
        "colab": {
          "base_uri": "https://localhost:8080/"
        },
        "id": "7TVX3njgwH9h",
        "outputId": "5b828eb0-a2ca-46eb-dc34-55fd74412b38"
      },
      "outputs": [
        {
          "output_type": "execute_result",
          "data": {
            "text/plain": [
              "ProstateX-0196    3\n",
              "ProstateX-0199    2\n",
              "ProstateX-0203    2\n",
              "ProstateX-0005    2\n",
              "ProstateX-0179    2\n",
              "ProstateX-0121    1\n",
              "ProstateX-0123    1\n",
              "ProstateX-0125    1\n",
              "ProstateX-0126    1\n",
              "ProstateX-0127    1\n",
              "Name: ProxID, dtype: int64"
            ]
          },
          "metadata": {},
          "execution_count": 84
        }
      ],
      "source": [
        "query1['ProxID'].value_counts()[:10]"
      ]
    },
    {
      "cell_type": "code",
      "execution_count": null,
      "metadata": {
        "id": "bf7F2cBRLbwg"
      },
      "outputs": [],
      "source": [
        "new_df2 = pd.merge(new_df, df_findings1_train,  how='left', left_on=['ProxID','fid'], right_on = ['ProxID','fid'])\n"
      ]
    },
    {
      "cell_type": "code",
      "execution_count": null,
      "metadata": {
        "colab": {
          "base_uri": "https://localhost:8080/"
        },
        "id": "Z3qfM-STL039",
        "outputId": "9c14db13-d8a0-4bbc-d708-ffa919873a39"
      },
      "outputs": [
        {
          "output_type": "execute_result",
          "data": {
            "text/plain": [
              "           ProxID  fid                    pos_x      ijk  DCMSerNum  s_number  \\\n",
              "0  ProstateX-0000    1  25.7457 31.8707 -38.511  36 72 9          7         7   \n",
              "1  ProstateX-0000    1  25.7457 31.8707 -38.511  36 72 9          6         6   \n",
              "2  ProstateX-0000    1  25.7457 31.8707 -38.511  36 72 9          6         6   \n",
              "3  ProstateX-0000    1  25.7457 31.8707 -38.511  36 72 9          6         6   \n",
              "4  ProstateX-0000    1  25.7457 31.8707 -38.511  36 72 9          8         8   \n",
              "\n",
              "                                            path_dcm  \\\n",
              "0  /content/drive/MyDrive/Capstone/PROSTATEX_data...   \n",
              "1  /content/drive/MyDrive/Capstone/PROSTATEX_data...   \n",
              "2  /content/drive/MyDrive/Capstone/PROSTATEX_data...   \n",
              "3  /content/drive/MyDrive/Capstone/PROSTATEX_data...   \n",
              "4  /content/drive/MyDrive/Capstone/PROSTATEX_data...   \n",
              "\n",
              "                              Name                    pos_y zone  ClinSig  \n",
              "0       ep2d_diff_tra_DYNDIST_ADC0  25.7457 31.8707 -38.511   PZ     True  \n",
              "1           ep2d_diff_tra_DYNDIST0  25.7457 31.8707 -38.511   PZ     True  \n",
              "2           ep2d_diff_tra_DYNDIST1  25.7457 31.8707 -38.511   PZ     True  \n",
              "3           ep2d_diff_tra_DYNDIST2  25.7457 31.8707 -38.511   PZ     True  \n",
              "4  ep2d_diff_tra_DYNDISTCALC_BVAL0  25.7457 31.8707 -38.511   PZ     True  "
            ],
            "text/html": [
              "\n",
              "  <div id=\"df-95b77607-49d1-4005-a9a0-3dfc9407f2a3\">\n",
              "    <div class=\"colab-df-container\">\n",
              "      <div>\n",
              "<style scoped>\n",
              "    .dataframe tbody tr th:only-of-type {\n",
              "        vertical-align: middle;\n",
              "    }\n",
              "\n",
              "    .dataframe tbody tr th {\n",
              "        vertical-align: top;\n",
              "    }\n",
              "\n",
              "    .dataframe thead th {\n",
              "        text-align: right;\n",
              "    }\n",
              "</style>\n",
              "<table border=\"1\" class=\"dataframe\">\n",
              "  <thead>\n",
              "    <tr style=\"text-align: right;\">\n",
              "      <th></th>\n",
              "      <th>ProxID</th>\n",
              "      <th>fid</th>\n",
              "      <th>pos_x</th>\n",
              "      <th>ijk</th>\n",
              "      <th>DCMSerNum</th>\n",
              "      <th>s_number</th>\n",
              "      <th>path_dcm</th>\n",
              "      <th>Name</th>\n",
              "      <th>pos_y</th>\n",
              "      <th>zone</th>\n",
              "      <th>ClinSig</th>\n",
              "    </tr>\n",
              "  </thead>\n",
              "  <tbody>\n",
              "    <tr>\n",
              "      <th>0</th>\n",
              "      <td>ProstateX-0000</td>\n",
              "      <td>1</td>\n",
              "      <td>25.7457 31.8707 -38.511</td>\n",
              "      <td>36 72 9</td>\n",
              "      <td>7</td>\n",
              "      <td>7</td>\n",
              "      <td>/content/drive/MyDrive/Capstone/PROSTATEX_data...</td>\n",
              "      <td>ep2d_diff_tra_DYNDIST_ADC0</td>\n",
              "      <td>25.7457 31.8707 -38.511</td>\n",
              "      <td>PZ</td>\n",
              "      <td>True</td>\n",
              "    </tr>\n",
              "    <tr>\n",
              "      <th>1</th>\n",
              "      <td>ProstateX-0000</td>\n",
              "      <td>1</td>\n",
              "      <td>25.7457 31.8707 -38.511</td>\n",
              "      <td>36 72 9</td>\n",
              "      <td>6</td>\n",
              "      <td>6</td>\n",
              "      <td>/content/drive/MyDrive/Capstone/PROSTATEX_data...</td>\n",
              "      <td>ep2d_diff_tra_DYNDIST0</td>\n",
              "      <td>25.7457 31.8707 -38.511</td>\n",
              "      <td>PZ</td>\n",
              "      <td>True</td>\n",
              "    </tr>\n",
              "    <tr>\n",
              "      <th>2</th>\n",
              "      <td>ProstateX-0000</td>\n",
              "      <td>1</td>\n",
              "      <td>25.7457 31.8707 -38.511</td>\n",
              "      <td>36 72 9</td>\n",
              "      <td>6</td>\n",
              "      <td>6</td>\n",
              "      <td>/content/drive/MyDrive/Capstone/PROSTATEX_data...</td>\n",
              "      <td>ep2d_diff_tra_DYNDIST1</td>\n",
              "      <td>25.7457 31.8707 -38.511</td>\n",
              "      <td>PZ</td>\n",
              "      <td>True</td>\n",
              "    </tr>\n",
              "    <tr>\n",
              "      <th>3</th>\n",
              "      <td>ProstateX-0000</td>\n",
              "      <td>1</td>\n",
              "      <td>25.7457 31.8707 -38.511</td>\n",
              "      <td>36 72 9</td>\n",
              "      <td>6</td>\n",
              "      <td>6</td>\n",
              "      <td>/content/drive/MyDrive/Capstone/PROSTATEX_data...</td>\n",
              "      <td>ep2d_diff_tra_DYNDIST2</td>\n",
              "      <td>25.7457 31.8707 -38.511</td>\n",
              "      <td>PZ</td>\n",
              "      <td>True</td>\n",
              "    </tr>\n",
              "    <tr>\n",
              "      <th>4</th>\n",
              "      <td>ProstateX-0000</td>\n",
              "      <td>1</td>\n",
              "      <td>25.7457 31.8707 -38.511</td>\n",
              "      <td>36 72 9</td>\n",
              "      <td>8</td>\n",
              "      <td>8</td>\n",
              "      <td>/content/drive/MyDrive/Capstone/PROSTATEX_data...</td>\n",
              "      <td>ep2d_diff_tra_DYNDISTCALC_BVAL0</td>\n",
              "      <td>25.7457 31.8707 -38.511</td>\n",
              "      <td>PZ</td>\n",
              "      <td>True</td>\n",
              "    </tr>\n",
              "  </tbody>\n",
              "</table>\n",
              "</div>\n",
              "      <button class=\"colab-df-convert\" onclick=\"convertToInteractive('df-95b77607-49d1-4005-a9a0-3dfc9407f2a3')\"\n",
              "              title=\"Convert this dataframe to an interactive table.\"\n",
              "              style=\"display:none;\">\n",
              "        \n",
              "  <svg xmlns=\"http://www.w3.org/2000/svg\" height=\"24px\"viewBox=\"0 0 24 24\"\n",
              "       width=\"24px\">\n",
              "    <path d=\"M0 0h24v24H0V0z\" fill=\"none\"/>\n",
              "    <path d=\"M18.56 5.44l.94 2.06.94-2.06 2.06-.94-2.06-.94-.94-2.06-.94 2.06-2.06.94zm-11 1L8.5 8.5l.94-2.06 2.06-.94-2.06-.94L8.5 2.5l-.94 2.06-2.06.94zm10 10l.94 2.06.94-2.06 2.06-.94-2.06-.94-.94-2.06-.94 2.06-2.06.94z\"/><path d=\"M17.41 7.96l-1.37-1.37c-.4-.4-.92-.59-1.43-.59-.52 0-1.04.2-1.43.59L10.3 9.45l-7.72 7.72c-.78.78-.78 2.05 0 2.83L4 21.41c.39.39.9.59 1.41.59.51 0 1.02-.2 1.41-.59l7.78-7.78 2.81-2.81c.8-.78.8-2.07 0-2.86zM5.41 20L4 18.59l7.72-7.72 1.47 1.35L5.41 20z\"/>\n",
              "  </svg>\n",
              "      </button>\n",
              "      \n",
              "  <style>\n",
              "    .colab-df-container {\n",
              "      display:flex;\n",
              "      flex-wrap:wrap;\n",
              "      gap: 12px;\n",
              "    }\n",
              "\n",
              "    .colab-df-convert {\n",
              "      background-color: #E8F0FE;\n",
              "      border: none;\n",
              "      border-radius: 50%;\n",
              "      cursor: pointer;\n",
              "      display: none;\n",
              "      fill: #1967D2;\n",
              "      height: 32px;\n",
              "      padding: 0 0 0 0;\n",
              "      width: 32px;\n",
              "    }\n",
              "\n",
              "    .colab-df-convert:hover {\n",
              "      background-color: #E2EBFA;\n",
              "      box-shadow: 0px 1px 2px rgba(60, 64, 67, 0.3), 0px 1px 3px 1px rgba(60, 64, 67, 0.15);\n",
              "      fill: #174EA6;\n",
              "    }\n",
              "\n",
              "    [theme=dark] .colab-df-convert {\n",
              "      background-color: #3B4455;\n",
              "      fill: #D2E3FC;\n",
              "    }\n",
              "\n",
              "    [theme=dark] .colab-df-convert:hover {\n",
              "      background-color: #434B5C;\n",
              "      box-shadow: 0px 1px 3px 1px rgba(0, 0, 0, 0.15);\n",
              "      filter: drop-shadow(0px 1px 2px rgba(0, 0, 0, 0.3));\n",
              "      fill: #FFFFFF;\n",
              "    }\n",
              "  </style>\n",
              "\n",
              "      <script>\n",
              "        const buttonEl =\n",
              "          document.querySelector('#df-95b77607-49d1-4005-a9a0-3dfc9407f2a3 button.colab-df-convert');\n",
              "        buttonEl.style.display =\n",
              "          google.colab.kernel.accessAllowed ? 'block' : 'none';\n",
              "\n",
              "        async function convertToInteractive(key) {\n",
              "          const element = document.querySelector('#df-95b77607-49d1-4005-a9a0-3dfc9407f2a3');\n",
              "          const dataTable =\n",
              "            await google.colab.kernel.invokeFunction('convertToInteractive',\n",
              "                                                     [key], {});\n",
              "          if (!dataTable) return;\n",
              "\n",
              "          const docLinkHtml = 'Like what you see? Visit the ' +\n",
              "            '<a target=\"_blank\" href=https://colab.research.google.com/notebooks/data_table.ipynb>data table notebook</a>'\n",
              "            + ' to learn more about interactive tables.';\n",
              "          element.innerHTML = '';\n",
              "          dataTable['output_type'] = 'display_data';\n",
              "          await google.colab.output.renderOutput(dataTable, element);\n",
              "          const docLink = document.createElement('div');\n",
              "          docLink.innerHTML = docLinkHtml;\n",
              "          element.appendChild(docLink);\n",
              "        }\n",
              "      </script>\n",
              "    </div>\n",
              "  </div>\n",
              "  "
            ]
          },
          "metadata": {},
          "execution_count": 86
        }
      ],
      "source": [
        "new_df2.head()"
      ]
    },
    {
      "cell_type": "markdown",
      "source": [
        "#### Exportar dataframe"
      ],
      "metadata": {
        "id": "fXCQsh80dWNR"
      }
    },
    {
      "cell_type": "code",
      "source": [
        "path_pickle='/content/drive/MyDrive/Capstone/PROSTATEX_dataset/pickles/'\n",
        "pickle_out=open(path_pickle+\"df_training_dcm.pickle\",\"wb\")\n",
        "pickle.dump(new_df2,pickle_out)\n",
        "pickle_out.close()"
      ],
      "metadata": {
        "id": "CnlTO07bdWNS"
      },
      "execution_count": null,
      "outputs": []
    },
    {
      "cell_type": "markdown",
      "metadata": {
        "id": "tga4PVlZd5vw"
      },
      "source": [
        "### Datos de entrenamiento mhd"
      ]
    },
    {
      "cell_type": "code",
      "execution_count": null,
      "metadata": {
        "id": "2XR_vKb-d5vw"
      },
      "outputs": [],
      "source": [
        "df_image_train_ktrans=pd.read_csv('/content/drive/MyDrive/Capstone/Prostatex_info/Prostatex_1/ProstateX-Images-KTrans-Train.csv',sep=',')"
      ]
    },
    {
      "cell_type": "code",
      "execution_count": null,
      "metadata": {
        "colab": {
          "base_uri": "https://localhost:8080/"
        },
        "outputId": "73a018d5-9b0e-4fa3-b3e2-693d4ed67c45",
        "id": "RNY56yQFd5vw"
      },
      "outputs": [
        {
          "output_type": "execute_result",
          "data": {
            "text/plain": [
              "(335, 5)"
            ]
          },
          "metadata": {},
          "execution_count": 89
        }
      ],
      "source": [
        "df_image_train_ktrans.shape"
      ]
    },
    {
      "cell_type": "code",
      "source": [
        "df_image_train_ktrans.head()"
      ],
      "metadata": {
        "colab": {
          "base_uri": "https://localhost:8080/"
        },
        "id": "dGkfUWgbgfIp",
        "outputId": "49fef3f3-4f04-4bae-8746-1849b0205d98"
      },
      "execution_count": null,
      "outputs": [
        {
          "output_type": "execute_result",
          "data": {
            "text/plain": [
              "           ProxID  fid                                                pos  \\\n",
              "0  ProstateX-0000    1                            25.7457 31.8707 -38.511   \n",
              "1  ProstateX-0001    1  -40.5367071921656 29.320722668457 -16.70766907...   \n",
              "2  ProstateX-0002    1                          -27.0102 41.5467 -26.0469   \n",
              "3  ProstateX-0002    2                            -2.058 38.6752 -34.6104   \n",
              "4  ProstateX-0003    1                           22.1495 31.2717 -2.45933   \n",
              "\n",
              "                                         WorldMatrix       ijk  \n",
              "0  1.5,3.00503e-010,0.00377059,-58.4317,-0.000597...   56 75 7  \n",
              "1  1.5,3.07655e-010,-4.64581e-017,-116.977,-3.057...   51 61 6  \n",
              "2  1.5,3.07655e-010,7.98512e-017,-104.284,-2.9890...  52 73 11  \n",
              "3  1.5,3.07655e-010,7.98512e-017,-104.284,-2.9890...   68 72 8  \n",
              "4  1.5,3.07655e-010,3.75383e-017,-98.5005,-2.5684...  80 69 10  "
            ],
            "text/html": [
              "\n",
              "  <div id=\"df-9682da05-2455-454e-8fcd-372337354cef\">\n",
              "    <div class=\"colab-df-container\">\n",
              "      <div>\n",
              "<style scoped>\n",
              "    .dataframe tbody tr th:only-of-type {\n",
              "        vertical-align: middle;\n",
              "    }\n",
              "\n",
              "    .dataframe tbody tr th {\n",
              "        vertical-align: top;\n",
              "    }\n",
              "\n",
              "    .dataframe thead th {\n",
              "        text-align: right;\n",
              "    }\n",
              "</style>\n",
              "<table border=\"1\" class=\"dataframe\">\n",
              "  <thead>\n",
              "    <tr style=\"text-align: right;\">\n",
              "      <th></th>\n",
              "      <th>ProxID</th>\n",
              "      <th>fid</th>\n",
              "      <th>pos</th>\n",
              "      <th>WorldMatrix</th>\n",
              "      <th>ijk</th>\n",
              "    </tr>\n",
              "  </thead>\n",
              "  <tbody>\n",
              "    <tr>\n",
              "      <th>0</th>\n",
              "      <td>ProstateX-0000</td>\n",
              "      <td>1</td>\n",
              "      <td>25.7457 31.8707 -38.511</td>\n",
              "      <td>1.5,3.00503e-010,0.00377059,-58.4317,-0.000597...</td>\n",
              "      <td>56 75 7</td>\n",
              "    </tr>\n",
              "    <tr>\n",
              "      <th>1</th>\n",
              "      <td>ProstateX-0001</td>\n",
              "      <td>1</td>\n",
              "      <td>-40.5367071921656 29.320722668457 -16.70766907...</td>\n",
              "      <td>1.5,3.07655e-010,-4.64581e-017,-116.977,-3.057...</td>\n",
              "      <td>51 61 6</td>\n",
              "    </tr>\n",
              "    <tr>\n",
              "      <th>2</th>\n",
              "      <td>ProstateX-0002</td>\n",
              "      <td>1</td>\n",
              "      <td>-27.0102 41.5467 -26.0469</td>\n",
              "      <td>1.5,3.07655e-010,7.98512e-017,-104.284,-2.9890...</td>\n",
              "      <td>52 73 11</td>\n",
              "    </tr>\n",
              "    <tr>\n",
              "      <th>3</th>\n",
              "      <td>ProstateX-0002</td>\n",
              "      <td>2</td>\n",
              "      <td>-2.058 38.6752 -34.6104</td>\n",
              "      <td>1.5,3.07655e-010,7.98512e-017,-104.284,-2.9890...</td>\n",
              "      <td>68 72 8</td>\n",
              "    </tr>\n",
              "    <tr>\n",
              "      <th>4</th>\n",
              "      <td>ProstateX-0003</td>\n",
              "      <td>1</td>\n",
              "      <td>22.1495 31.2717 -2.45933</td>\n",
              "      <td>1.5,3.07655e-010,3.75383e-017,-98.5005,-2.5684...</td>\n",
              "      <td>80 69 10</td>\n",
              "    </tr>\n",
              "  </tbody>\n",
              "</table>\n",
              "</div>\n",
              "      <button class=\"colab-df-convert\" onclick=\"convertToInteractive('df-9682da05-2455-454e-8fcd-372337354cef')\"\n",
              "              title=\"Convert this dataframe to an interactive table.\"\n",
              "              style=\"display:none;\">\n",
              "        \n",
              "  <svg xmlns=\"http://www.w3.org/2000/svg\" height=\"24px\"viewBox=\"0 0 24 24\"\n",
              "       width=\"24px\">\n",
              "    <path d=\"M0 0h24v24H0V0z\" fill=\"none\"/>\n",
              "    <path d=\"M18.56 5.44l.94 2.06.94-2.06 2.06-.94-2.06-.94-.94-2.06-.94 2.06-2.06.94zm-11 1L8.5 8.5l.94-2.06 2.06-.94-2.06-.94L8.5 2.5l-.94 2.06-2.06.94zm10 10l.94 2.06.94-2.06 2.06-.94-2.06-.94-.94-2.06-.94 2.06-2.06.94z\"/><path d=\"M17.41 7.96l-1.37-1.37c-.4-.4-.92-.59-1.43-.59-.52 0-1.04.2-1.43.59L10.3 9.45l-7.72 7.72c-.78.78-.78 2.05 0 2.83L4 21.41c.39.39.9.59 1.41.59.51 0 1.02-.2 1.41-.59l7.78-7.78 2.81-2.81c.8-.78.8-2.07 0-2.86zM5.41 20L4 18.59l7.72-7.72 1.47 1.35L5.41 20z\"/>\n",
              "  </svg>\n",
              "      </button>\n",
              "      \n",
              "  <style>\n",
              "    .colab-df-container {\n",
              "      display:flex;\n",
              "      flex-wrap:wrap;\n",
              "      gap: 12px;\n",
              "    }\n",
              "\n",
              "    .colab-df-convert {\n",
              "      background-color: #E8F0FE;\n",
              "      border: none;\n",
              "      border-radius: 50%;\n",
              "      cursor: pointer;\n",
              "      display: none;\n",
              "      fill: #1967D2;\n",
              "      height: 32px;\n",
              "      padding: 0 0 0 0;\n",
              "      width: 32px;\n",
              "    }\n",
              "\n",
              "    .colab-df-convert:hover {\n",
              "      background-color: #E2EBFA;\n",
              "      box-shadow: 0px 1px 2px rgba(60, 64, 67, 0.3), 0px 1px 3px 1px rgba(60, 64, 67, 0.15);\n",
              "      fill: #174EA6;\n",
              "    }\n",
              "\n",
              "    [theme=dark] .colab-df-convert {\n",
              "      background-color: #3B4455;\n",
              "      fill: #D2E3FC;\n",
              "    }\n",
              "\n",
              "    [theme=dark] .colab-df-convert:hover {\n",
              "      background-color: #434B5C;\n",
              "      box-shadow: 0px 1px 3px 1px rgba(0, 0, 0, 0.15);\n",
              "      filter: drop-shadow(0px 1px 2px rgba(0, 0, 0, 0.3));\n",
              "      fill: #FFFFFF;\n",
              "    }\n",
              "  </style>\n",
              "\n",
              "      <script>\n",
              "        const buttonEl =\n",
              "          document.querySelector('#df-9682da05-2455-454e-8fcd-372337354cef button.colab-df-convert');\n",
              "        buttonEl.style.display =\n",
              "          google.colab.kernel.accessAllowed ? 'block' : 'none';\n",
              "\n",
              "        async function convertToInteractive(key) {\n",
              "          const element = document.querySelector('#df-9682da05-2455-454e-8fcd-372337354cef');\n",
              "          const dataTable =\n",
              "            await google.colab.kernel.invokeFunction('convertToInteractive',\n",
              "                                                     [key], {});\n",
              "          if (!dataTable) return;\n",
              "\n",
              "          const docLinkHtml = 'Like what you see? Visit the ' +\n",
              "            '<a target=\"_blank\" href=https://colab.research.google.com/notebooks/data_table.ipynb>data table notebook</a>'\n",
              "            + ' to learn more about interactive tables.';\n",
              "          element.innerHTML = '';\n",
              "          dataTable['output_type'] = 'display_data';\n",
              "          await google.colab.output.renderOutput(dataTable, element);\n",
              "          const docLink = document.createElement('div');\n",
              "          docLink.innerHTML = docLinkHtml;\n",
              "          element.appendChild(docLink);\n",
              "        }\n",
              "      </script>\n",
              "    </div>\n",
              "  </div>\n",
              "  "
            ]
          },
          "metadata": {},
          "execution_count": 90
        }
      ]
    },
    {
      "cell_type": "code",
      "source": [
        "df_patients_all_mhd.head()"
      ],
      "metadata": {
        "colab": {
          "base_uri": "https://localhost:8080/"
        },
        "id": "MgzltRCNgs4K",
        "outputId": "232297b7-236b-48c0-a207-8ff17cb5c0b6"
      },
      "execution_count": null,
      "outputs": [
        {
          "output_type": "execute_result",
          "data": {
            "text/plain": [
              "          patient                       file  \\\n",
              "0  ProstateX-0000  ProstateX-0000-Ktrans.mhd   \n",
              "1  ProstateX-0001  ProstateX-0001-Ktrans.mhd   \n",
              "2  ProstateX-0002  ProstateX-0002-Ktrans.mhd   \n",
              "3  ProstateX-0003  ProstateX-0003-Ktrans.mhd   \n",
              "4  ProstateX-0004  ProstateX-0004-Ktrans.mhd   \n",
              "\n",
              "                                                path  \n",
              "0  /content/drive/MyDrive/Capstone/PROSTATEX_data...  \n",
              "1  /content/drive/MyDrive/Capstone/PROSTATEX_data...  \n",
              "2  /content/drive/MyDrive/Capstone/PROSTATEX_data...  \n",
              "3  /content/drive/MyDrive/Capstone/PROSTATEX_data...  \n",
              "4  /content/drive/MyDrive/Capstone/PROSTATEX_data...  "
            ],
            "text/html": [
              "\n",
              "  <div id=\"df-2265e7a1-ec35-479b-a261-bb3882ec861a\">\n",
              "    <div class=\"colab-df-container\">\n",
              "      <div>\n",
              "<style scoped>\n",
              "    .dataframe tbody tr th:only-of-type {\n",
              "        vertical-align: middle;\n",
              "    }\n",
              "\n",
              "    .dataframe tbody tr th {\n",
              "        vertical-align: top;\n",
              "    }\n",
              "\n",
              "    .dataframe thead th {\n",
              "        text-align: right;\n",
              "    }\n",
              "</style>\n",
              "<table border=\"1\" class=\"dataframe\">\n",
              "  <thead>\n",
              "    <tr style=\"text-align: right;\">\n",
              "      <th></th>\n",
              "      <th>patient</th>\n",
              "      <th>file</th>\n",
              "      <th>path</th>\n",
              "    </tr>\n",
              "  </thead>\n",
              "  <tbody>\n",
              "    <tr>\n",
              "      <th>0</th>\n",
              "      <td>ProstateX-0000</td>\n",
              "      <td>ProstateX-0000-Ktrans.mhd</td>\n",
              "      <td>/content/drive/MyDrive/Capstone/PROSTATEX_data...</td>\n",
              "    </tr>\n",
              "    <tr>\n",
              "      <th>1</th>\n",
              "      <td>ProstateX-0001</td>\n",
              "      <td>ProstateX-0001-Ktrans.mhd</td>\n",
              "      <td>/content/drive/MyDrive/Capstone/PROSTATEX_data...</td>\n",
              "    </tr>\n",
              "    <tr>\n",
              "      <th>2</th>\n",
              "      <td>ProstateX-0002</td>\n",
              "      <td>ProstateX-0002-Ktrans.mhd</td>\n",
              "      <td>/content/drive/MyDrive/Capstone/PROSTATEX_data...</td>\n",
              "    </tr>\n",
              "    <tr>\n",
              "      <th>3</th>\n",
              "      <td>ProstateX-0003</td>\n",
              "      <td>ProstateX-0003-Ktrans.mhd</td>\n",
              "      <td>/content/drive/MyDrive/Capstone/PROSTATEX_data...</td>\n",
              "    </tr>\n",
              "    <tr>\n",
              "      <th>4</th>\n",
              "      <td>ProstateX-0004</td>\n",
              "      <td>ProstateX-0004-Ktrans.mhd</td>\n",
              "      <td>/content/drive/MyDrive/Capstone/PROSTATEX_data...</td>\n",
              "    </tr>\n",
              "  </tbody>\n",
              "</table>\n",
              "</div>\n",
              "      <button class=\"colab-df-convert\" onclick=\"convertToInteractive('df-2265e7a1-ec35-479b-a261-bb3882ec861a')\"\n",
              "              title=\"Convert this dataframe to an interactive table.\"\n",
              "              style=\"display:none;\">\n",
              "        \n",
              "  <svg xmlns=\"http://www.w3.org/2000/svg\" height=\"24px\"viewBox=\"0 0 24 24\"\n",
              "       width=\"24px\">\n",
              "    <path d=\"M0 0h24v24H0V0z\" fill=\"none\"/>\n",
              "    <path d=\"M18.56 5.44l.94 2.06.94-2.06 2.06-.94-2.06-.94-.94-2.06-.94 2.06-2.06.94zm-11 1L8.5 8.5l.94-2.06 2.06-.94-2.06-.94L8.5 2.5l-.94 2.06-2.06.94zm10 10l.94 2.06.94-2.06 2.06-.94-2.06-.94-.94-2.06-.94 2.06-2.06.94z\"/><path d=\"M17.41 7.96l-1.37-1.37c-.4-.4-.92-.59-1.43-.59-.52 0-1.04.2-1.43.59L10.3 9.45l-7.72 7.72c-.78.78-.78 2.05 0 2.83L4 21.41c.39.39.9.59 1.41.59.51 0 1.02-.2 1.41-.59l7.78-7.78 2.81-2.81c.8-.78.8-2.07 0-2.86zM5.41 20L4 18.59l7.72-7.72 1.47 1.35L5.41 20z\"/>\n",
              "  </svg>\n",
              "      </button>\n",
              "      \n",
              "  <style>\n",
              "    .colab-df-container {\n",
              "      display:flex;\n",
              "      flex-wrap:wrap;\n",
              "      gap: 12px;\n",
              "    }\n",
              "\n",
              "    .colab-df-convert {\n",
              "      background-color: #E8F0FE;\n",
              "      border: none;\n",
              "      border-radius: 50%;\n",
              "      cursor: pointer;\n",
              "      display: none;\n",
              "      fill: #1967D2;\n",
              "      height: 32px;\n",
              "      padding: 0 0 0 0;\n",
              "      width: 32px;\n",
              "    }\n",
              "\n",
              "    .colab-df-convert:hover {\n",
              "      background-color: #E2EBFA;\n",
              "      box-shadow: 0px 1px 2px rgba(60, 64, 67, 0.3), 0px 1px 3px 1px rgba(60, 64, 67, 0.15);\n",
              "      fill: #174EA6;\n",
              "    }\n",
              "\n",
              "    [theme=dark] .colab-df-convert {\n",
              "      background-color: #3B4455;\n",
              "      fill: #D2E3FC;\n",
              "    }\n",
              "\n",
              "    [theme=dark] .colab-df-convert:hover {\n",
              "      background-color: #434B5C;\n",
              "      box-shadow: 0px 1px 3px 1px rgba(0, 0, 0, 0.15);\n",
              "      filter: drop-shadow(0px 1px 2px rgba(0, 0, 0, 0.3));\n",
              "      fill: #FFFFFF;\n",
              "    }\n",
              "  </style>\n",
              "\n",
              "      <script>\n",
              "        const buttonEl =\n",
              "          document.querySelector('#df-2265e7a1-ec35-479b-a261-bb3882ec861a button.colab-df-convert');\n",
              "        buttonEl.style.display =\n",
              "          google.colab.kernel.accessAllowed ? 'block' : 'none';\n",
              "\n",
              "        async function convertToInteractive(key) {\n",
              "          const element = document.querySelector('#df-2265e7a1-ec35-479b-a261-bb3882ec861a');\n",
              "          const dataTable =\n",
              "            await google.colab.kernel.invokeFunction('convertToInteractive',\n",
              "                                                     [key], {});\n",
              "          if (!dataTable) return;\n",
              "\n",
              "          const docLinkHtml = 'Like what you see? Visit the ' +\n",
              "            '<a target=\"_blank\" href=https://colab.research.google.com/notebooks/data_table.ipynb>data table notebook</a>'\n",
              "            + ' to learn more about interactive tables.';\n",
              "          element.innerHTML = '';\n",
              "          dataTable['output_type'] = 'display_data';\n",
              "          await google.colab.output.renderOutput(dataTable, element);\n",
              "          const docLink = document.createElement('div');\n",
              "          docLink.innerHTML = docLinkHtml;\n",
              "          element.appendChild(docLink);\n",
              "        }\n",
              "      </script>\n",
              "    </div>\n",
              "  </div>\n",
              "  "
            ]
          },
          "metadata": {},
          "execution_count": 91
        }
      ]
    },
    {
      "cell_type": "code",
      "execution_count": null,
      "metadata": {
        "id": "D7oYFLFZd5vx"
      },
      "outputs": [],
      "source": [
        "new_df3 = pd.merge(df_image_train_ktrans, df_patients_all_mhd,  how='left', left_on=['ProxID'], right_on = ['patient'])"
      ]
    },
    {
      "cell_type": "code",
      "execution_count": null,
      "metadata": {
        "id": "g3qk8s80d5vx"
      },
      "outputs": [],
      "source": [
        "val_cols=['ProxID','fid','pos','ijk','file','path']\n",
        "new_df3=new_df3[val_cols]"
      ]
    },
    {
      "cell_type": "code",
      "execution_count": null,
      "metadata": {
        "colab": {
          "base_uri": "https://localhost:8080/"
        },
        "outputId": "0228471c-2c79-4ac2-e6fe-dfe8e1049724",
        "id": "w-MW-xDhd5vx"
      },
      "outputs": [
        {
          "output_type": "execute_result",
          "data": {
            "text/plain": [
              "           ProxID  fid                                                pos  \\\n",
              "0  ProstateX-0000    1                            25.7457 31.8707 -38.511   \n",
              "1  ProstateX-0001    1  -40.5367071921656 29.320722668457 -16.70766907...   \n",
              "2  ProstateX-0002    1                          -27.0102 41.5467 -26.0469   \n",
              "3  ProstateX-0002    2                            -2.058 38.6752 -34.6104   \n",
              "4  ProstateX-0003    1                           22.1495 31.2717 -2.45933   \n",
              "\n",
              "        ijk                       file  \\\n",
              "0   56 75 7  ProstateX-0000-Ktrans.mhd   \n",
              "1   51 61 6  ProstateX-0001-Ktrans.mhd   \n",
              "2  52 73 11  ProstateX-0002-Ktrans.mhd   \n",
              "3   68 72 8  ProstateX-0002-Ktrans.mhd   \n",
              "4  80 69 10  ProstateX-0003-Ktrans.mhd   \n",
              "\n",
              "                                                path  \n",
              "0  /content/drive/MyDrive/Capstone/PROSTATEX_data...  \n",
              "1  /content/drive/MyDrive/Capstone/PROSTATEX_data...  \n",
              "2  /content/drive/MyDrive/Capstone/PROSTATEX_data...  \n",
              "3  /content/drive/MyDrive/Capstone/PROSTATEX_data...  \n",
              "4  /content/drive/MyDrive/Capstone/PROSTATEX_data...  "
            ],
            "text/html": [
              "\n",
              "  <div id=\"df-e3226711-3a8d-4ddd-8b1e-fe8acf56b2f9\">\n",
              "    <div class=\"colab-df-container\">\n",
              "      <div>\n",
              "<style scoped>\n",
              "    .dataframe tbody tr th:only-of-type {\n",
              "        vertical-align: middle;\n",
              "    }\n",
              "\n",
              "    .dataframe tbody tr th {\n",
              "        vertical-align: top;\n",
              "    }\n",
              "\n",
              "    .dataframe thead th {\n",
              "        text-align: right;\n",
              "    }\n",
              "</style>\n",
              "<table border=\"1\" class=\"dataframe\">\n",
              "  <thead>\n",
              "    <tr style=\"text-align: right;\">\n",
              "      <th></th>\n",
              "      <th>ProxID</th>\n",
              "      <th>fid</th>\n",
              "      <th>pos</th>\n",
              "      <th>ijk</th>\n",
              "      <th>file</th>\n",
              "      <th>path</th>\n",
              "    </tr>\n",
              "  </thead>\n",
              "  <tbody>\n",
              "    <tr>\n",
              "      <th>0</th>\n",
              "      <td>ProstateX-0000</td>\n",
              "      <td>1</td>\n",
              "      <td>25.7457 31.8707 -38.511</td>\n",
              "      <td>56 75 7</td>\n",
              "      <td>ProstateX-0000-Ktrans.mhd</td>\n",
              "      <td>/content/drive/MyDrive/Capstone/PROSTATEX_data...</td>\n",
              "    </tr>\n",
              "    <tr>\n",
              "      <th>1</th>\n",
              "      <td>ProstateX-0001</td>\n",
              "      <td>1</td>\n",
              "      <td>-40.5367071921656 29.320722668457 -16.70766907...</td>\n",
              "      <td>51 61 6</td>\n",
              "      <td>ProstateX-0001-Ktrans.mhd</td>\n",
              "      <td>/content/drive/MyDrive/Capstone/PROSTATEX_data...</td>\n",
              "    </tr>\n",
              "    <tr>\n",
              "      <th>2</th>\n",
              "      <td>ProstateX-0002</td>\n",
              "      <td>1</td>\n",
              "      <td>-27.0102 41.5467 -26.0469</td>\n",
              "      <td>52 73 11</td>\n",
              "      <td>ProstateX-0002-Ktrans.mhd</td>\n",
              "      <td>/content/drive/MyDrive/Capstone/PROSTATEX_data...</td>\n",
              "    </tr>\n",
              "    <tr>\n",
              "      <th>3</th>\n",
              "      <td>ProstateX-0002</td>\n",
              "      <td>2</td>\n",
              "      <td>-2.058 38.6752 -34.6104</td>\n",
              "      <td>68 72 8</td>\n",
              "      <td>ProstateX-0002-Ktrans.mhd</td>\n",
              "      <td>/content/drive/MyDrive/Capstone/PROSTATEX_data...</td>\n",
              "    </tr>\n",
              "    <tr>\n",
              "      <th>4</th>\n",
              "      <td>ProstateX-0003</td>\n",
              "      <td>1</td>\n",
              "      <td>22.1495 31.2717 -2.45933</td>\n",
              "      <td>80 69 10</td>\n",
              "      <td>ProstateX-0003-Ktrans.mhd</td>\n",
              "      <td>/content/drive/MyDrive/Capstone/PROSTATEX_data...</td>\n",
              "    </tr>\n",
              "  </tbody>\n",
              "</table>\n",
              "</div>\n",
              "      <button class=\"colab-df-convert\" onclick=\"convertToInteractive('df-e3226711-3a8d-4ddd-8b1e-fe8acf56b2f9')\"\n",
              "              title=\"Convert this dataframe to an interactive table.\"\n",
              "              style=\"display:none;\">\n",
              "        \n",
              "  <svg xmlns=\"http://www.w3.org/2000/svg\" height=\"24px\"viewBox=\"0 0 24 24\"\n",
              "       width=\"24px\">\n",
              "    <path d=\"M0 0h24v24H0V0z\" fill=\"none\"/>\n",
              "    <path d=\"M18.56 5.44l.94 2.06.94-2.06 2.06-.94-2.06-.94-.94-2.06-.94 2.06-2.06.94zm-11 1L8.5 8.5l.94-2.06 2.06-.94-2.06-.94L8.5 2.5l-.94 2.06-2.06.94zm10 10l.94 2.06.94-2.06 2.06-.94-2.06-.94-.94-2.06-.94 2.06-2.06.94z\"/><path d=\"M17.41 7.96l-1.37-1.37c-.4-.4-.92-.59-1.43-.59-.52 0-1.04.2-1.43.59L10.3 9.45l-7.72 7.72c-.78.78-.78 2.05 0 2.83L4 21.41c.39.39.9.59 1.41.59.51 0 1.02-.2 1.41-.59l7.78-7.78 2.81-2.81c.8-.78.8-2.07 0-2.86zM5.41 20L4 18.59l7.72-7.72 1.47 1.35L5.41 20z\"/>\n",
              "  </svg>\n",
              "      </button>\n",
              "      \n",
              "  <style>\n",
              "    .colab-df-container {\n",
              "      display:flex;\n",
              "      flex-wrap:wrap;\n",
              "      gap: 12px;\n",
              "    }\n",
              "\n",
              "    .colab-df-convert {\n",
              "      background-color: #E8F0FE;\n",
              "      border: none;\n",
              "      border-radius: 50%;\n",
              "      cursor: pointer;\n",
              "      display: none;\n",
              "      fill: #1967D2;\n",
              "      height: 32px;\n",
              "      padding: 0 0 0 0;\n",
              "      width: 32px;\n",
              "    }\n",
              "\n",
              "    .colab-df-convert:hover {\n",
              "      background-color: #E2EBFA;\n",
              "      box-shadow: 0px 1px 2px rgba(60, 64, 67, 0.3), 0px 1px 3px 1px rgba(60, 64, 67, 0.15);\n",
              "      fill: #174EA6;\n",
              "    }\n",
              "\n",
              "    [theme=dark] .colab-df-convert {\n",
              "      background-color: #3B4455;\n",
              "      fill: #D2E3FC;\n",
              "    }\n",
              "\n",
              "    [theme=dark] .colab-df-convert:hover {\n",
              "      background-color: #434B5C;\n",
              "      box-shadow: 0px 1px 3px 1px rgba(0, 0, 0, 0.15);\n",
              "      filter: drop-shadow(0px 1px 2px rgba(0, 0, 0, 0.3));\n",
              "      fill: #FFFFFF;\n",
              "    }\n",
              "  </style>\n",
              "\n",
              "      <script>\n",
              "        const buttonEl =\n",
              "          document.querySelector('#df-e3226711-3a8d-4ddd-8b1e-fe8acf56b2f9 button.colab-df-convert');\n",
              "        buttonEl.style.display =\n",
              "          google.colab.kernel.accessAllowed ? 'block' : 'none';\n",
              "\n",
              "        async function convertToInteractive(key) {\n",
              "          const element = document.querySelector('#df-e3226711-3a8d-4ddd-8b1e-fe8acf56b2f9');\n",
              "          const dataTable =\n",
              "            await google.colab.kernel.invokeFunction('convertToInteractive',\n",
              "                                                     [key], {});\n",
              "          if (!dataTable) return;\n",
              "\n",
              "          const docLinkHtml = 'Like what you see? Visit the ' +\n",
              "            '<a target=\"_blank\" href=https://colab.research.google.com/notebooks/data_table.ipynb>data table notebook</a>'\n",
              "            + ' to learn more about interactive tables.';\n",
              "          element.innerHTML = '';\n",
              "          dataTable['output_type'] = 'display_data';\n",
              "          await google.colab.output.renderOutput(dataTable, element);\n",
              "          const docLink = document.createElement('div');\n",
              "          docLink.innerHTML = docLinkHtml;\n",
              "          element.appendChild(docLink);\n",
              "        }\n",
              "      </script>\n",
              "    </div>\n",
              "  </div>\n",
              "  "
            ]
          },
          "metadata": {},
          "execution_count": 94
        }
      ],
      "source": [
        "new_df3.head()"
      ]
    },
    {
      "cell_type": "code",
      "execution_count": null,
      "metadata": {
        "colab": {
          "base_uri": "https://localhost:8080/"
        },
        "outputId": "b6591f07-670c-41f3-b9ee-fe35d535d09d",
        "id": "NXmYrMHod5vy"
      },
      "outputs": [
        {
          "output_type": "execute_result",
          "data": {
            "text/plain": [
              "           ProxID  fid                                                pos  \\\n",
              "0  ProstateX-0000    1                            25.7457 31.8707 -38.511   \n",
              "1  ProstateX-0001    1  -40.5367071921656 29.320722668457 -16.70766907...   \n",
              "2  ProstateX-0002    1                          -27.0102 41.5467 -26.0469   \n",
              "3  ProstateX-0002    2                            -2.058 38.6752 -34.6104   \n",
              "4  ProstateX-0003    1                           22.1495 31.2717 -2.45933   \n",
              "\n",
              "  zone  ClinSig  \n",
              "0   PZ     True  \n",
              "1   AS    False  \n",
              "2   PZ     True  \n",
              "3   PZ    False  \n",
              "4   TZ    False  "
            ],
            "text/html": [
              "\n",
              "  <div id=\"df-5f0a6858-b39c-4ba4-a9d7-5e886e0b733c\">\n",
              "    <div class=\"colab-df-container\">\n",
              "      <div>\n",
              "<style scoped>\n",
              "    .dataframe tbody tr th:only-of-type {\n",
              "        vertical-align: middle;\n",
              "    }\n",
              "\n",
              "    .dataframe tbody tr th {\n",
              "        vertical-align: top;\n",
              "    }\n",
              "\n",
              "    .dataframe thead th {\n",
              "        text-align: right;\n",
              "    }\n",
              "</style>\n",
              "<table border=\"1\" class=\"dataframe\">\n",
              "  <thead>\n",
              "    <tr style=\"text-align: right;\">\n",
              "      <th></th>\n",
              "      <th>ProxID</th>\n",
              "      <th>fid</th>\n",
              "      <th>pos</th>\n",
              "      <th>zone</th>\n",
              "      <th>ClinSig</th>\n",
              "    </tr>\n",
              "  </thead>\n",
              "  <tbody>\n",
              "    <tr>\n",
              "      <th>0</th>\n",
              "      <td>ProstateX-0000</td>\n",
              "      <td>1</td>\n",
              "      <td>25.7457 31.8707 -38.511</td>\n",
              "      <td>PZ</td>\n",
              "      <td>True</td>\n",
              "    </tr>\n",
              "    <tr>\n",
              "      <th>1</th>\n",
              "      <td>ProstateX-0001</td>\n",
              "      <td>1</td>\n",
              "      <td>-40.5367071921656 29.320722668457 -16.70766907...</td>\n",
              "      <td>AS</td>\n",
              "      <td>False</td>\n",
              "    </tr>\n",
              "    <tr>\n",
              "      <th>2</th>\n",
              "      <td>ProstateX-0002</td>\n",
              "      <td>1</td>\n",
              "      <td>-27.0102 41.5467 -26.0469</td>\n",
              "      <td>PZ</td>\n",
              "      <td>True</td>\n",
              "    </tr>\n",
              "    <tr>\n",
              "      <th>3</th>\n",
              "      <td>ProstateX-0002</td>\n",
              "      <td>2</td>\n",
              "      <td>-2.058 38.6752 -34.6104</td>\n",
              "      <td>PZ</td>\n",
              "      <td>False</td>\n",
              "    </tr>\n",
              "    <tr>\n",
              "      <th>4</th>\n",
              "      <td>ProstateX-0003</td>\n",
              "      <td>1</td>\n",
              "      <td>22.1495 31.2717 -2.45933</td>\n",
              "      <td>TZ</td>\n",
              "      <td>False</td>\n",
              "    </tr>\n",
              "  </tbody>\n",
              "</table>\n",
              "</div>\n",
              "      <button class=\"colab-df-convert\" onclick=\"convertToInteractive('df-5f0a6858-b39c-4ba4-a9d7-5e886e0b733c')\"\n",
              "              title=\"Convert this dataframe to an interactive table.\"\n",
              "              style=\"display:none;\">\n",
              "        \n",
              "  <svg xmlns=\"http://www.w3.org/2000/svg\" height=\"24px\"viewBox=\"0 0 24 24\"\n",
              "       width=\"24px\">\n",
              "    <path d=\"M0 0h24v24H0V0z\" fill=\"none\"/>\n",
              "    <path d=\"M18.56 5.44l.94 2.06.94-2.06 2.06-.94-2.06-.94-.94-2.06-.94 2.06-2.06.94zm-11 1L8.5 8.5l.94-2.06 2.06-.94-2.06-.94L8.5 2.5l-.94 2.06-2.06.94zm10 10l.94 2.06.94-2.06 2.06-.94-2.06-.94-.94-2.06-.94 2.06-2.06.94z\"/><path d=\"M17.41 7.96l-1.37-1.37c-.4-.4-.92-.59-1.43-.59-.52 0-1.04.2-1.43.59L10.3 9.45l-7.72 7.72c-.78.78-.78 2.05 0 2.83L4 21.41c.39.39.9.59 1.41.59.51 0 1.02-.2 1.41-.59l7.78-7.78 2.81-2.81c.8-.78.8-2.07 0-2.86zM5.41 20L4 18.59l7.72-7.72 1.47 1.35L5.41 20z\"/>\n",
              "  </svg>\n",
              "      </button>\n",
              "      \n",
              "  <style>\n",
              "    .colab-df-container {\n",
              "      display:flex;\n",
              "      flex-wrap:wrap;\n",
              "      gap: 12px;\n",
              "    }\n",
              "\n",
              "    .colab-df-convert {\n",
              "      background-color: #E8F0FE;\n",
              "      border: none;\n",
              "      border-radius: 50%;\n",
              "      cursor: pointer;\n",
              "      display: none;\n",
              "      fill: #1967D2;\n",
              "      height: 32px;\n",
              "      padding: 0 0 0 0;\n",
              "      width: 32px;\n",
              "    }\n",
              "\n",
              "    .colab-df-convert:hover {\n",
              "      background-color: #E2EBFA;\n",
              "      box-shadow: 0px 1px 2px rgba(60, 64, 67, 0.3), 0px 1px 3px 1px rgba(60, 64, 67, 0.15);\n",
              "      fill: #174EA6;\n",
              "    }\n",
              "\n",
              "    [theme=dark] .colab-df-convert {\n",
              "      background-color: #3B4455;\n",
              "      fill: #D2E3FC;\n",
              "    }\n",
              "\n",
              "    [theme=dark] .colab-df-convert:hover {\n",
              "      background-color: #434B5C;\n",
              "      box-shadow: 0px 1px 3px 1px rgba(0, 0, 0, 0.15);\n",
              "      filter: drop-shadow(0px 1px 2px rgba(0, 0, 0, 0.3));\n",
              "      fill: #FFFFFF;\n",
              "    }\n",
              "  </style>\n",
              "\n",
              "      <script>\n",
              "        const buttonEl =\n",
              "          document.querySelector('#df-5f0a6858-b39c-4ba4-a9d7-5e886e0b733c button.colab-df-convert');\n",
              "        buttonEl.style.display =\n",
              "          google.colab.kernel.accessAllowed ? 'block' : 'none';\n",
              "\n",
              "        async function convertToInteractive(key) {\n",
              "          const element = document.querySelector('#df-5f0a6858-b39c-4ba4-a9d7-5e886e0b733c');\n",
              "          const dataTable =\n",
              "            await google.colab.kernel.invokeFunction('convertToInteractive',\n",
              "                                                     [key], {});\n",
              "          if (!dataTable) return;\n",
              "\n",
              "          const docLinkHtml = 'Like what you see? Visit the ' +\n",
              "            '<a target=\"_blank\" href=https://colab.research.google.com/notebooks/data_table.ipynb>data table notebook</a>'\n",
              "            + ' to learn more about interactive tables.';\n",
              "          element.innerHTML = '';\n",
              "          dataTable['output_type'] = 'display_data';\n",
              "          await google.colab.output.renderOutput(dataTable, element);\n",
              "          const docLink = document.createElement('div');\n",
              "          docLink.innerHTML = docLinkHtml;\n",
              "          element.appendChild(docLink);\n",
              "        }\n",
              "      </script>\n",
              "    </div>\n",
              "  </div>\n",
              "  "
            ]
          },
          "metadata": {},
          "execution_count": 95
        }
      ],
      "source": [
        "df_findings1_train.head(5)"
      ]
    },
    {
      "cell_type": "code",
      "execution_count": null,
      "metadata": {
        "colab": {
          "base_uri": "https://localhost:8080/"
        },
        "outputId": "9982b3fe-f873-4d70-b91b-c36050da0ede",
        "id": "rF5CEt7Rd5vy"
      },
      "outputs": [
        {
          "output_type": "execute_result",
          "data": {
            "text/plain": [
              "(330, 5)"
            ]
          },
          "metadata": {},
          "execution_count": 96
        }
      ],
      "source": [
        "df_findings1_train.shape"
      ]
    },
    {
      "cell_type": "code",
      "execution_count": null,
      "metadata": {
        "colab": {
          "base_uri": "https://localhost:8080/"
        },
        "outputId": "bf501cee-0914-4865-e961-28de41a2f1cb",
        "id": "pshNj_WWd5vy"
      },
      "outputs": [
        {
          "output_type": "execute_result",
          "data": {
            "text/plain": [
              "(76, 5)"
            ]
          },
          "metadata": {},
          "execution_count": 97
        }
      ],
      "source": [
        "query1=df_findings1_train[(df_findings1_train['ClinSig']==True)]\n",
        "query1.shape"
      ]
    },
    {
      "cell_type": "code",
      "execution_count": null,
      "metadata": {
        "colab": {
          "base_uri": "https://localhost:8080/"
        },
        "outputId": "d61f6361-f81b-4991-b0f2-4dbdb803ae6a",
        "id": "rHU8lWq4d5vy"
      },
      "outputs": [
        {
          "output_type": "execute_result",
          "data": {
            "text/plain": [
              "(70,)"
            ]
          },
          "metadata": {},
          "execution_count": 98
        }
      ],
      "source": [
        "query1['ProxID'].value_counts().shape"
      ]
    },
    {
      "cell_type": "code",
      "execution_count": null,
      "metadata": {
        "colab": {
          "base_uri": "https://localhost:8080/"
        },
        "outputId": "52569cdc-b199-4ce7-c82e-70fa85aada25",
        "id": "RJy27Vy9d5vy"
      },
      "outputs": [
        {
          "output_type": "execute_result",
          "data": {
            "text/plain": [
              "ProstateX-0196    3\n",
              "ProstateX-0199    2\n",
              "ProstateX-0203    2\n",
              "ProstateX-0005    2\n",
              "ProstateX-0179    2\n",
              "ProstateX-0121    1\n",
              "ProstateX-0123    1\n",
              "ProstateX-0125    1\n",
              "ProstateX-0126    1\n",
              "ProstateX-0127    1\n",
              "Name: ProxID, dtype: int64"
            ]
          },
          "metadata": {},
          "execution_count": 99
        }
      ],
      "source": [
        "query1['ProxID'].value_counts()[:10]"
      ]
    },
    {
      "cell_type": "code",
      "execution_count": null,
      "metadata": {
        "id": "nEIGcLcVd5vy"
      },
      "outputs": [],
      "source": [
        "new_df4 = pd.merge(new_df3, df_findings1_train,  how='left', left_on=['ProxID','fid'], right_on = ['ProxID','fid'])"
      ]
    },
    {
      "cell_type": "code",
      "execution_count": null,
      "metadata": {
        "colab": {
          "base_uri": "https://localhost:8080/"
        },
        "outputId": "54a6fffd-7fc5-4a28-c41c-dc3286a1204a",
        "id": "jZfmFBwPd5vy"
      },
      "outputs": [
        {
          "output_type": "execute_result",
          "data": {
            "text/plain": [
              "           ProxID  fid                                              pos_x  \\\n",
              "0  ProstateX-0000    1                            25.7457 31.8707 -38.511   \n",
              "1  ProstateX-0001    1  -40.5367071921656 29.320722668457 -16.70766907...   \n",
              "2  ProstateX-0002    1                          -27.0102 41.5467 -26.0469   \n",
              "3  ProstateX-0002    2                            -2.058 38.6752 -34.6104   \n",
              "4  ProstateX-0003    1                           22.1495 31.2717 -2.45933   \n",
              "\n",
              "        ijk                       file  \\\n",
              "0   56 75 7  ProstateX-0000-Ktrans.mhd   \n",
              "1   51 61 6  ProstateX-0001-Ktrans.mhd   \n",
              "2  52 73 11  ProstateX-0002-Ktrans.mhd   \n",
              "3   68 72 8  ProstateX-0002-Ktrans.mhd   \n",
              "4  80 69 10  ProstateX-0003-Ktrans.mhd   \n",
              "\n",
              "                                                path  \\\n",
              "0  /content/drive/MyDrive/Capstone/PROSTATEX_data...   \n",
              "1  /content/drive/MyDrive/Capstone/PROSTATEX_data...   \n",
              "2  /content/drive/MyDrive/Capstone/PROSTATEX_data...   \n",
              "3  /content/drive/MyDrive/Capstone/PROSTATEX_data...   \n",
              "4  /content/drive/MyDrive/Capstone/PROSTATEX_data...   \n",
              "\n",
              "                                               pos_y zone  ClinSig  \n",
              "0                            25.7457 31.8707 -38.511   PZ     True  \n",
              "1  -40.5367071921656 29.320722668457 -16.70766907...   AS    False  \n",
              "2                          -27.0102 41.5467 -26.0469   PZ     True  \n",
              "3                            -2.058 38.6752 -34.6104   PZ    False  \n",
              "4                           22.1495 31.2717 -2.45933   TZ    False  "
            ],
            "text/html": [
              "\n",
              "  <div id=\"df-3a4d105a-9692-411e-9dd3-d1a84746d86d\">\n",
              "    <div class=\"colab-df-container\">\n",
              "      <div>\n",
              "<style scoped>\n",
              "    .dataframe tbody tr th:only-of-type {\n",
              "        vertical-align: middle;\n",
              "    }\n",
              "\n",
              "    .dataframe tbody tr th {\n",
              "        vertical-align: top;\n",
              "    }\n",
              "\n",
              "    .dataframe thead th {\n",
              "        text-align: right;\n",
              "    }\n",
              "</style>\n",
              "<table border=\"1\" class=\"dataframe\">\n",
              "  <thead>\n",
              "    <tr style=\"text-align: right;\">\n",
              "      <th></th>\n",
              "      <th>ProxID</th>\n",
              "      <th>fid</th>\n",
              "      <th>pos_x</th>\n",
              "      <th>ijk</th>\n",
              "      <th>file</th>\n",
              "      <th>path</th>\n",
              "      <th>pos_y</th>\n",
              "      <th>zone</th>\n",
              "      <th>ClinSig</th>\n",
              "    </tr>\n",
              "  </thead>\n",
              "  <tbody>\n",
              "    <tr>\n",
              "      <th>0</th>\n",
              "      <td>ProstateX-0000</td>\n",
              "      <td>1</td>\n",
              "      <td>25.7457 31.8707 -38.511</td>\n",
              "      <td>56 75 7</td>\n",
              "      <td>ProstateX-0000-Ktrans.mhd</td>\n",
              "      <td>/content/drive/MyDrive/Capstone/PROSTATEX_data...</td>\n",
              "      <td>25.7457 31.8707 -38.511</td>\n",
              "      <td>PZ</td>\n",
              "      <td>True</td>\n",
              "    </tr>\n",
              "    <tr>\n",
              "      <th>1</th>\n",
              "      <td>ProstateX-0001</td>\n",
              "      <td>1</td>\n",
              "      <td>-40.5367071921656 29.320722668457 -16.70766907...</td>\n",
              "      <td>51 61 6</td>\n",
              "      <td>ProstateX-0001-Ktrans.mhd</td>\n",
              "      <td>/content/drive/MyDrive/Capstone/PROSTATEX_data...</td>\n",
              "      <td>-40.5367071921656 29.320722668457 -16.70766907...</td>\n",
              "      <td>AS</td>\n",
              "      <td>False</td>\n",
              "    </tr>\n",
              "    <tr>\n",
              "      <th>2</th>\n",
              "      <td>ProstateX-0002</td>\n",
              "      <td>1</td>\n",
              "      <td>-27.0102 41.5467 -26.0469</td>\n",
              "      <td>52 73 11</td>\n",
              "      <td>ProstateX-0002-Ktrans.mhd</td>\n",
              "      <td>/content/drive/MyDrive/Capstone/PROSTATEX_data...</td>\n",
              "      <td>-27.0102 41.5467 -26.0469</td>\n",
              "      <td>PZ</td>\n",
              "      <td>True</td>\n",
              "    </tr>\n",
              "    <tr>\n",
              "      <th>3</th>\n",
              "      <td>ProstateX-0002</td>\n",
              "      <td>2</td>\n",
              "      <td>-2.058 38.6752 -34.6104</td>\n",
              "      <td>68 72 8</td>\n",
              "      <td>ProstateX-0002-Ktrans.mhd</td>\n",
              "      <td>/content/drive/MyDrive/Capstone/PROSTATEX_data...</td>\n",
              "      <td>-2.058 38.6752 -34.6104</td>\n",
              "      <td>PZ</td>\n",
              "      <td>False</td>\n",
              "    </tr>\n",
              "    <tr>\n",
              "      <th>4</th>\n",
              "      <td>ProstateX-0003</td>\n",
              "      <td>1</td>\n",
              "      <td>22.1495 31.2717 -2.45933</td>\n",
              "      <td>80 69 10</td>\n",
              "      <td>ProstateX-0003-Ktrans.mhd</td>\n",
              "      <td>/content/drive/MyDrive/Capstone/PROSTATEX_data...</td>\n",
              "      <td>22.1495 31.2717 -2.45933</td>\n",
              "      <td>TZ</td>\n",
              "      <td>False</td>\n",
              "    </tr>\n",
              "  </tbody>\n",
              "</table>\n",
              "</div>\n",
              "      <button class=\"colab-df-convert\" onclick=\"convertToInteractive('df-3a4d105a-9692-411e-9dd3-d1a84746d86d')\"\n",
              "              title=\"Convert this dataframe to an interactive table.\"\n",
              "              style=\"display:none;\">\n",
              "        \n",
              "  <svg xmlns=\"http://www.w3.org/2000/svg\" height=\"24px\"viewBox=\"0 0 24 24\"\n",
              "       width=\"24px\">\n",
              "    <path d=\"M0 0h24v24H0V0z\" fill=\"none\"/>\n",
              "    <path d=\"M18.56 5.44l.94 2.06.94-2.06 2.06-.94-2.06-.94-.94-2.06-.94 2.06-2.06.94zm-11 1L8.5 8.5l.94-2.06 2.06-.94-2.06-.94L8.5 2.5l-.94 2.06-2.06.94zm10 10l.94 2.06.94-2.06 2.06-.94-2.06-.94-.94-2.06-.94 2.06-2.06.94z\"/><path d=\"M17.41 7.96l-1.37-1.37c-.4-.4-.92-.59-1.43-.59-.52 0-1.04.2-1.43.59L10.3 9.45l-7.72 7.72c-.78.78-.78 2.05 0 2.83L4 21.41c.39.39.9.59 1.41.59.51 0 1.02-.2 1.41-.59l7.78-7.78 2.81-2.81c.8-.78.8-2.07 0-2.86zM5.41 20L4 18.59l7.72-7.72 1.47 1.35L5.41 20z\"/>\n",
              "  </svg>\n",
              "      </button>\n",
              "      \n",
              "  <style>\n",
              "    .colab-df-container {\n",
              "      display:flex;\n",
              "      flex-wrap:wrap;\n",
              "      gap: 12px;\n",
              "    }\n",
              "\n",
              "    .colab-df-convert {\n",
              "      background-color: #E8F0FE;\n",
              "      border: none;\n",
              "      border-radius: 50%;\n",
              "      cursor: pointer;\n",
              "      display: none;\n",
              "      fill: #1967D2;\n",
              "      height: 32px;\n",
              "      padding: 0 0 0 0;\n",
              "      width: 32px;\n",
              "    }\n",
              "\n",
              "    .colab-df-convert:hover {\n",
              "      background-color: #E2EBFA;\n",
              "      box-shadow: 0px 1px 2px rgba(60, 64, 67, 0.3), 0px 1px 3px 1px rgba(60, 64, 67, 0.15);\n",
              "      fill: #174EA6;\n",
              "    }\n",
              "\n",
              "    [theme=dark] .colab-df-convert {\n",
              "      background-color: #3B4455;\n",
              "      fill: #D2E3FC;\n",
              "    }\n",
              "\n",
              "    [theme=dark] .colab-df-convert:hover {\n",
              "      background-color: #434B5C;\n",
              "      box-shadow: 0px 1px 3px 1px rgba(0, 0, 0, 0.15);\n",
              "      filter: drop-shadow(0px 1px 2px rgba(0, 0, 0, 0.3));\n",
              "      fill: #FFFFFF;\n",
              "    }\n",
              "  </style>\n",
              "\n",
              "      <script>\n",
              "        const buttonEl =\n",
              "          document.querySelector('#df-3a4d105a-9692-411e-9dd3-d1a84746d86d button.colab-df-convert');\n",
              "        buttonEl.style.display =\n",
              "          google.colab.kernel.accessAllowed ? 'block' : 'none';\n",
              "\n",
              "        async function convertToInteractive(key) {\n",
              "          const element = document.querySelector('#df-3a4d105a-9692-411e-9dd3-d1a84746d86d');\n",
              "          const dataTable =\n",
              "            await google.colab.kernel.invokeFunction('convertToInteractive',\n",
              "                                                     [key], {});\n",
              "          if (!dataTable) return;\n",
              "\n",
              "          const docLinkHtml = 'Like what you see? Visit the ' +\n",
              "            '<a target=\"_blank\" href=https://colab.research.google.com/notebooks/data_table.ipynb>data table notebook</a>'\n",
              "            + ' to learn more about interactive tables.';\n",
              "          element.innerHTML = '';\n",
              "          dataTable['output_type'] = 'display_data';\n",
              "          await google.colab.output.renderOutput(dataTable, element);\n",
              "          const docLink = document.createElement('div');\n",
              "          docLink.innerHTML = docLinkHtml;\n",
              "          element.appendChild(docLink);\n",
              "        }\n",
              "      </script>\n",
              "    </div>\n",
              "  </div>\n",
              "  "
            ]
          },
          "metadata": {},
          "execution_count": 101
        }
      ],
      "source": [
        "new_df4.head()"
      ]
    },
    {
      "cell_type": "markdown",
      "source": [
        "#### Exportar dataframe"
      ],
      "metadata": {
        "id": "MQXhhH_2d5vy"
      }
    },
    {
      "cell_type": "code",
      "source": [
        "path_pickle='/content/drive/MyDrive/Capstone/PROSTATEX_dataset/pickles/'\n",
        "pickle_out=open(path_pickle+\"df_training_mhd.pickle\",\"wb\")\n",
        "pickle.dump(new_df4,pickle_out)\n",
        "pickle_out.close()"
      ],
      "metadata": {
        "id": "kyj8oXjDd5vy"
      },
      "execution_count": null,
      "outputs": []
    }
  ],
  "metadata": {
    "accelerator": "GPU",
    "colab": {
      "collapsed_sections": [
        "mqDj-vqkHJ3I",
        "NH7p6F1dHJ0_",
        "ADhL8qktHJya",
        "R1SeHk8EHJwP",
        "F4By__N4JRlS",
        "piLEmQHxa0gX",
        "3oO_LUG3JRaF",
        "qLR-u78cb9Df",
        "1FR9Pf9x-XYK",
        "iwb1JAUznLcH",
        "fXCQsh80dWNR",
        "tga4PVlZd5vw",
        "MQXhhH_2d5vy"
      ],
      "machine_shape": "hm",
      "provenance": []
    },
    "kernelspec": {
      "display_name": "Python 3",
      "name": "python3"
    },
    "language_info": {
      "name": "python"
    }
  },
  "nbformat": 4,
  "nbformat_minor": 0
}